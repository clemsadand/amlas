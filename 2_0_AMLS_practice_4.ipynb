{
  "cells": [
    {
      "cell_type": "code",
      "execution_count": 1,
      "metadata": {
        "id": "RUVsW3OaYewE"
      },
      "outputs": [],
      "source": [
        "import numpy as np\n",
        "import matplotlib.pyplot as plt\n",
        "import pandas as pd\n",
        "from math import sqrt\n",
        "from scipy import linalg\n",
        "from tqdm import tqdm"
      ]
    },
    {
      "cell_type": "code",
      "execution_count": null,
      "metadata": {
        "id": "ZpazueE61mf7"
      },
      "outputs": [],
      "source": []
    },
    {
      "cell_type": "markdown",
      "metadata": {
        "id": "PLN4RSPl04zW"
      },
      "source": [
        "# Dataset"
      ]
    },
    {
      "cell_type": "code",
      "execution_count": 2,
      "metadata": {
        "cellView": "form",
        "colab": {
          "base_uri": "https://localhost:8080/"
        },
        "id": "jthceazUYn9I",
        "outputId": "290e2bd4-4be7-4e0a-f599-e2cab9f3fa16"
      },
      "outputs": [
        {
          "output_type": "stream",
          "name": "stdout",
          "text": [
            "--2024-05-18 19:20:23--  https://files.grouplens.org/datasets/movielens/ml-25m.zip\n",
            "Resolving files.grouplens.org (files.grouplens.org)... 128.101.65.152\n",
            "Connecting to files.grouplens.org (files.grouplens.org)|128.101.65.152|:443... connected.\n",
            "HTTP request sent, awaiting response... 200 OK\n",
            "Length: 261978986 (250M) [application/zip]\n",
            "Saving to: ‘ml-25m.zip’\n",
            "\n",
            "ml-25m.zip          100%[===================>] 249.84M  17.0MB/s    in 16s     \n",
            "\n",
            "2024-05-18 19:20:41 (15.3 MB/s) - ‘ml-25m.zip’ saved [261978986/261978986]\n",
            "\n",
            "Archive:  ml-25m.zip\n",
            "   creating: ml-25m/\n",
            "  inflating: ml-25m/tags.csv         \n",
            "  inflating: ml-25m/links.csv        \n",
            "  inflating: ml-25m/README.txt       \n",
            "  inflating: ml-25m/ratings.csv      \n",
            "  inflating: ml-25m/genome-tags.csv  \n",
            "  inflating: ml-25m/genome-scores.csv  \n",
            "  inflating: ml-25m/movies.csv       \n"
          ]
        }
      ],
      "source": [
        "#@title Data downloading\n",
        "large_data = True\n",
        "if large_data:\n",
        "  !wget https://files.grouplens.org/datasets/movielens/ml-25m.zip\n",
        "  !unzip ml-25m.zip\n",
        "  path = \"ml-25m/\"\n",
        "else:\n",
        "  !wget https://files.grouplens.org/datasets/movielens/ml-latest-small.zip\n",
        "  !unzip ml-latest-small.zip\n",
        "  path = \"ml-latest-small/\""
      ]
    },
    {
      "cell_type": "code",
      "execution_count": null,
      "metadata": {
        "id": "WsBVCB5zh_ed"
      },
      "outputs": [],
      "source": [
        "large_data = True\n",
        "if large_data:\n",
        "    path = \"ml-25m/\"\n",
        "else:\n",
        "    path = \"ml-latest-small/\""
      ]
    },
    {
      "cell_type": "code",
      "execution_count": 3,
      "metadata": {
        "cellView": "form",
        "id": "6hvGYmd1YzXU"
      },
      "outputs": [],
      "source": [
        "#@title Data loading\n",
        "movies = pd.read_csv(path + \"movies.csv\")\n",
        "ratings = pd.read_csv(path + \"ratings.csv\")"
      ]
    },
    {
      "cell_type": "markdown",
      "metadata": {
        "id": "MEN7yYl6794U"
      },
      "source": [
        "## Data Indexing"
      ]
    },
    {
      "cell_type": "code",
      "execution_count": 4,
      "metadata": {
        "id": "oW84fW93_Fj3"
      },
      "outputs": [],
      "source": [
        "ratings = ratings.values"
      ]
    },
    {
      "cell_type": "code",
      "execution_count": 5,
      "metadata": {
        "id": "X1zdlbuiJ2gY"
      },
      "outputs": [],
      "source": [
        "M = len(np.unique(ratings[:,0]))\n",
        "N = len(np.unique(ratings[:,1]))"
      ]
    },
    {
      "cell_type": "code",
      "execution_count": 6,
      "metadata": {
        "cellView": "form",
        "colab": {
          "base_uri": "https://localhost:8080/"
        },
        "id": "bF5aQhOk0QvL",
        "outputId": "63f9c393-eb16-4c3a-cdf7-95bd1333bc91"
      },
      "outputs": [
        {
          "output_type": "stream",
          "name": "stderr",
          "text": [
            "100%|██████████| 25000095/25000095 [01:41<00:00, 246462.56it/s]\n"
          ]
        }
      ],
      "source": [
        "#@title Indexing the whole dataset\n",
        "movie_to_id = {}#dictionary\n",
        "id_to_movie = []\n",
        "user_to_id = {}#dictionary\n",
        "id_to_user = []\n",
        "data_by_user = []\n",
        "data_by_movie = []\n",
        "\n",
        "for i in tqdm(range(ratings.shape[0])):\n",
        "  u_id = ratings[i,0]\n",
        "  #check if u_id is already in user_to_id\n",
        "  if not u_id in user_to_id.keys():\n",
        "    user_to_id[u_id] = len(user_to_id)\n",
        "    id_to_user.append(u_id)\n",
        "  #get the movieId watched by user\n",
        "  m_id =  ratings[i,1]\n",
        "  #check if movieId (watched by user) is already in movie_to_id\n",
        "  if not m_id in movie_to_id.keys():\n",
        "    movie_to_id[m_id] = len(movie_to_id)\n",
        "    id_to_movie.append(m_id)\n",
        "  ###########################################\n",
        "  #add (movieId_new_id, rating) in the dict\n",
        "  try:\n",
        "    data_by_user[user_to_id[u_id]].append((movie_to_id[m_id], ratings[i,2]))\n",
        "  except:\n",
        "    data_by_user.append([(movie_to_id[m_id], ratings[i,2])])\n",
        "  ##########################################\n",
        "  #add (user_new_id, rating) in the dict\n",
        "  try:\n",
        "    data_by_movie[movie_to_id[m_id]].append((user_to_id[u_id], ratings[i,2]))\n",
        "  except:\n",
        "    data_by_movie.append([(user_to_id[u_id], ratings[i,2])])\n",
        "\n",
        "\n",
        "# M = len(user_to_id)\n",
        "# N = len(movie_to_id)\n",
        "\n",
        "#Number of ratings per users for the training set\n",
        "number_of_ratings_per_users = [int(0.8*len(l)) for l in data_by_user]"
      ]
    },
    {
      "cell_type": "code",
      "execution_count": 7,
      "metadata": {
        "cellView": "form",
        "colab": {
          "base_uri": "https://localhost:8080/"
        },
        "id": "4UVbGKpyq2ZV",
        "outputId": "9aa9222b-e964-4da6-a4f9-18d7b9f8de01"
      },
      "outputs": [
        {
          "output_type": "stream",
          "name": "stderr",
          "text": [
            "100%|██████████| 59047/59047 [00:38<00:00, 1525.27it/s]\n"
          ]
        }
      ],
      "source": [
        "#@title Features\n",
        "#Feature per movies\n",
        "genres = sorted(list(set('|'.join(list(movies[\"genres\"])).split(\"|\"))))#Get every genre in a list\n",
        "#Attribute a number to each movie\n",
        "dict_genres = dict(zip(genres, list(range(20))))#{'(no genres listed)': 0, 'Action': 1, 'Adventure': 2, 'Ani\n",
        "#Encode genres per movie\n",
        "features_per_movies = [[] for _ in range(N)]#a list of lists\n",
        "for n in tqdm(range(N)):\n",
        "  #get the features of the movie whose new id is i\n",
        "  genres_per_movie = list(movies[movies[\"movieId\"] == id_to_movie[n]][\"genres\"])[0].split(\"|\")\n",
        "  for g in genres_per_movie:\n",
        "    # test_data_by_movie[movie_index][2][dict_genres[g]] = 1\n",
        "    features_per_movies[n].append(dict_genres[g])#[dict_genres[g]] = 1"
      ]
    },
    {
      "cell_type": "code",
      "execution_count": 8,
      "metadata": {
        "cellView": "form",
        "id": "cTgx4sqmGCEY"
      },
      "outputs": [],
      "source": [
        "#@title List of movies per feature\n",
        "movies_with_feature_i = [[] for _ in range(20)]\n",
        "\n",
        "#loop over feature\n",
        "for i in range(20):\n",
        "  #loop over movies\n",
        "  for n in range(N):\n",
        "    if i in features_per_movies[n]:\n",
        "      movies_with_feature_i[i].append(n)"
      ]
    },
    {
      "cell_type": "code",
      "execution_count": 9,
      "metadata": {
        "cellView": "form",
        "colab": {
          "base_uri": "https://localhost:8080/"
        },
        "id": "LTDWRcg7Vxh2",
        "outputId": "a74c4bfb-9a47-4c4e-e11f-a8933d899c18"
      },
      "outputs": [
        {
          "output_type": "stream",
          "name": "stderr",
          "text": [
            "100%|██████████| 25000095/25000095 [01:48<00:00, 230417.91it/s]\n"
          ]
        }
      ],
      "source": [
        "#@title Data indexing v2.1\n",
        "\n",
        "# np.random.shuffle(ratings)\n",
        "#Get number of ratings per user\n",
        "\n",
        "# movie_to_id = {}\n",
        "# id_to_movie = []\n",
        "# user_to_id = {}\n",
        "# id_to_user = []\n",
        "train_data_by_user = [[[], []] for _ in range(M)]\n",
        "train_data_by_movie = [[[], [], [0]*20] for _ in range(N)]#three components, the last reserved to feature embedding vector\n",
        "#\n",
        "test_data_by_user = [[[], []] for _ in range(M)]\n",
        "test_data_by_movie = [[[], [], [0]*20] for _ in range(N)]#three components, the last reserved to feature embedding vector\n",
        "\n",
        "#\n",
        "for i in tqdm(range(ratings.shape[0])):\n",
        "    u_id = ratings[i, 0]\n",
        "    if u_id not in user_to_id:\n",
        "      user_to_id[u_id] = len(user_to_id)\n",
        "      id_to_user.append(u_id)\n",
        "\n",
        "    m_id = ratings[i, 1]\n",
        "    if m_id not in movie_to_id:\n",
        "      movie_to_id[m_id] = len(movie_to_id)\n",
        "      id_to_movie.append(m_id)\n",
        "\n",
        "    rating = ratings[i, 2]\n",
        "    user_index = user_to_id[u_id]\n",
        "    movie_index = movie_to_id[m_id]\n",
        "\n",
        "    if len(train_data_by_user[user_to_id[u_id]][0]) < number_of_ratings_per_users[user_to_id[u_id]]:\n",
        "      train_data_by_user[user_index][0].append(movie_index)\n",
        "      train_data_by_user[user_index][1].append(rating)\n",
        "      train_data_by_movie[movie_index][0].append(user_index)\n",
        "      train_data_by_movie[movie_index][1].append(rating)\n",
        "    else:\n",
        "      test_data_by_user[user_index][0].append(movie_index)\n",
        "      test_data_by_user[user_index][1].append(rating)\n",
        "      test_data_by_movie[movie_index][0].append(user_index)\n",
        "      test_data_by_movie[movie_index][1].append(rating)"
      ]
    },
    {
      "cell_type": "markdown",
      "metadata": {
        "id": "r-XTbeac-Xps"
      },
      "source": [
        "# Training"
      ]
    },
    {
      "cell_type": "markdown",
      "metadata": {
        "id": "X1rhg3FgubR3"
      },
      "source": [
        "## Adding features\n",
        "\n",
        "The loss function with features is given by :\n",
        "\n",
        "\\begin{aligned}\n",
        "\\mathcal{L}(\\mathbf{U}, \\mathbf{V}, \\mathbf{b}^{(u)}, \\mathbf{b}^{(i)}, \\mathbf{F}) & =\n",
        "- \\frac{\\lambda}{2} \\sum_{m=1}^{M} \\sum_{n \\in \\Omega(m)} \\Big(r_{mn} -\n",
        "(\\mathbf{u}_m^T \\mathbf{v}_n + b_m^{(u)} + b_n^{(i)}) \\Big)^2 \\\\\n",
        "& \\qquad - \\frac{\\tau}{2} \\sum_{n=1}^N\n",
        "\\left(\\mathbf{v}_n - \\frac{1}{\\sqrt{F_n}} \\sum_{\\iota \\in \\mathrm{features}(n)} \\mathbf{f}_{\\iota} \\right)^T \\left(\\mathbf{v}_n - \\frac{1}{\\sqrt{F_n}} \\sum_{\\iota \\in \\mathrm{features}(n)} \\mathbf{f}_{\\iota} \\right)\n",
        "\\\\\n",
        "& \\qquad - \\frac{\\tau}{2} \\sum_{m=1}^M \\mathbf{u}_m^T \\mathbf{u}_m\n",
        "- \\frac{\\tau}{2} \\sum_{\\iota=1}^{\\mathrm{num} \\ \\mathrm{feats}} \\mathbf{f}_{\\iota}^T \\mathbf{f}_{\\iota} \\\\\n",
        "& \\qquad - \\frac{\\tau_{\\mathrm{bias}}}{2} \\sum_{m=1}^M (b_m^{(u)})^2\n",
        "- \\frac{\\tau_{\\mathrm{bias}}}{2} \\sum_{n=1}^N (b_n^{(i)})^2\n",
        "\\end{aligned}"
      ]
    },
    {
      "cell_type": "code",
      "execution_count": 26,
      "metadata": {
        "id": "D8HWKf24-EwN",
        "cellView": "form"
      },
      "outputs": [],
      "source": [
        "#@title Loss function\n",
        "def loss_func(train_data_by_user, user_vec, item_vec, user_biases, item_biases, feature_vec, tau, tau_feat, gamma, lambd):\n",
        "  residual = 0\n",
        "  count = 0\n",
        "  for m in range(len(train_data_by_user)):\n",
        "    movie_indices = train_data_by_user[m][0]\n",
        "    r_m = np.array(train_data_by_user[m][1])\n",
        "    count += len(movie_indices)\n",
        "    residual += np.sum((r_m - (np.dot(user_vec[m].T, item_vec[movie_indices].T)+user_biases[m]+item_biases[movie_indices]))**2)\n",
        "  diff_item_feat = 0\n",
        "  feat_vec1 = np.array([np.sum(feature_vec[features_per_movies[n],:], axis=0)/np.sqrt(len(features_per_movies[n])) for n in range(N)])\n",
        "  feat_vec2 = np.array([np.sum(feature_vec[features_per_movies[n],:], axis=0) for n in range(N)])\n",
        "  loss = 0.5*lambd*residual + 0.5*tau*(np.sum(user_vec**2)+np.sum((item_vec - feat_vec1)**2)) + 0.5*tau_feat*np.sum(feat_vec2**2) + 0.5*gamma*(np.sum(user_biases**2)+np.sum(item_biases**2))\n",
        "  rmse = np.sqrt(residual/count)\n",
        "  return loss, rmse"
      ]
    },
    {
      "cell_type": "code",
      "execution_count": 92,
      "metadata": {
        "colab": {
          "base_uri": "https://localhost:8080/"
        },
        "id": "KqO-AqTbYRzC",
        "outputId": "42635337-74fd-4f72-bf01-99470f647fe0"
      },
      "outputs": [
        {
          "output_type": "stream",
          "name": "stderr",
          "text": [
            "100%|██████████| 20/20 [1:03:33<00:00, 190.69s/it]\n"
          ]
        }
      ],
      "source": [
        "#@title Training v2.1\n",
        "\n",
        "#hyperparameters\n",
        "K  = 10#60#40\n",
        "lambd = 1#5#0.1\n",
        "gamma = 0.01#0.2#0.15\n",
        "tau = 1#0.2#0.15\n",
        "tau_feat = 1\n",
        "num_epoch = 20#20\n",
        "\n",
        "#Initialization\n",
        "user_vec = np.random.normal(0, 1/np.sqrt(K), size= (M, K))\n",
        "user_biases = np.zeros(M)\n",
        "item_vec = np.random.normal(0, 1/np.sqrt(K), size=(N,K))\n",
        "item_biases = np.zeros(N)\n",
        "feature_vec = np.random.normal(0, 1/np.sqrt(K), size=(20,K))\n",
        "##\n",
        "\n",
        "##\n",
        "train_loss_history = []\n",
        "test_loss_history = []\n",
        "train_rmse_history = []\n",
        "test_rmse_history = []\n",
        "\n",
        "##\n",
        "for epoch in tqdm(range(num_epoch)):\n",
        "  #user biases\n",
        "  for m in range(M):\n",
        "    movie_indices = train_data_by_user[m][0]\n",
        "    r_m = np.array(train_data_by_user[m][1])\n",
        "    numerator = np.sum(r_m - np.dot(user_vec[m].T, item_vec[movie_indices,:].T)-item_biases[movie_indices])\n",
        "    user_biases[m] = lambd*numerator/(lambd*len(r_m)+gamma)\n",
        "  #item biases\n",
        "  for n in range(N):\n",
        "    user_indices = train_data_by_movie[n][0]\n",
        "    r_n = np.array(train_data_by_movie[n][1])\n",
        "    # feature_indices = features_per_movies[n]\n",
        "    # feature_vec[feature_indices,:]\n",
        "    numerator = np.sum(r_n -np.dot(user_vec[user_indices,:], item_vec[n].T) -user_biases[user_indices])\n",
        "    item_biases[n] = lambd*numerator/(lambd*len(r_n)+gamma)\n",
        "\n",
        "  # #user_vec\n",
        "  for m in range(M):\n",
        "    movie_indices = train_data_by_user[m][0]\n",
        "    r_m = np.array(train_data_by_user[m][1])\n",
        "    term1 = lambd*np.dot(item_vec[movie_indices].T, item_vec[movie_indices])+tau*np.eye(K,K)\n",
        "    term2 = r_m - user_biases[m] - item_biases[movie_indices]\n",
        "    term2 = lambd*np.sum(item_vec[movie_indices]*term2.reshape(-1,1), axis=0)\n",
        "    user_vec[m] = linalg.solve(term1, term2)\n",
        "\n",
        "  for n in range(N):\n",
        "    user_indices = train_data_by_movie[n][0]\n",
        "    r_n = np.array(train_data_by_movie[n][1])\n",
        "    term1 = lambd*np.dot(user_vec[user_indices].T, user_vec[user_indices])+tau*np.eye(K,K)\n",
        "    term2 = r_n - user_biases[user_indices] - item_biases[n]\n",
        "    term2 = lambd*np.sum(user_vec[user_indices]*term2.reshape(-1,1), axis=0)+tau_feat*np.sum(feature_vec[features_per_movies[n],:], axis=0)/np.sqrt(len(features_per_movies[n]))\n",
        "    item_vec[n] = linalg.solve(term1, term2)\n",
        "    #\n",
        "  for i in range(20):\n",
        "    denominator = tau_feat + tau* sum([1./np.sqrt(len(features_per_movies[n])) for n in movies_with_feature_i[i]])\n",
        "    feature_vec[i,:] = tau*np.sum(item_vec[movies_with_feature_i[i],:], axis=0)/denominator\n",
        "  #Loss\n",
        "  loss, rmse = loss_func(train_data_by_user, user_vec, item_vec, user_biases, item_biases, feature_vec, tau, tau_feat, gamma, lambd)\n",
        "  train_loss_history.append(loss.copy())\n",
        "  train_rmse_history.append(rmse.copy())\n",
        "  test_loss, test_rmse = loss_func(test_data_by_user, user_vec, item_vec, user_biases, item_biases, feature_vec, tau, tau_feat, gamma, lambd)\n",
        "  test_loss_history.append(test_loss.copy())\n",
        "  test_rmse_history.append(test_rmse.copy())"
      ]
    },
    {
      "cell_type": "code",
      "execution_count": 93,
      "metadata": {
        "id": "Fw4ayvbSn0G-",
        "colab": {
          "base_uri": "https://localhost:8080/",
          "height": 480
        },
        "outputId": "f71556e7-a686-464b-b9bf-0a080e20fbab"
      },
      "outputs": [
        {
          "output_type": "display_data",
          "data": {
            "text/plain": [
              "<Figure size 500x500 with 1 Axes>"
            ],
            "image/png": "[encoded data removed]"
          },
          "metadata": {}
        }
      ],
      "source": [
        "fig, ax = plt.subplots(figsize=(5,5))\n",
        "ax.plot(list(range(num_epoch)), train_loss_history, label=\"Training\")\n",
        "ax.plot(list(range(num_epoch)), test_loss_history, label=\"Test\")\n",
        "ax.set_xlabel(\"Number of iterations\")\n",
        "ax.set_ylabel(\"Loss\")\n",
        "ax.legend()\n",
        "# ax.title(\"Pos regularized log loss for biases+user and \")\n",
        "plt.savefig(\"reg_pos_log_loss_biases_with.pdf\", format=\"pdf\", bbox_inches=\"tight\")\n",
        "plt.show()"
      ]
    },
    {
      "cell_type": "code",
      "execution_count": 94,
      "metadata": {
        "id": "9Q9TbXFTHr-r",
        "colab": {
          "base_uri": "https://localhost:8080/",
          "height": 465
        },
        "outputId": "f1d4f46d-b002-40d0-ca8e-d268fc3ea747"
      },
      "outputs": [
        {
          "output_type": "display_data",
          "data": {
            "text/plain": [
              "<Figure size 500x500 with 1 Axes>"
            ],
            "image/png": "[encoded data removed]"
          },
          "metadata": {}
        }
      ],
      "source": [
        "fig, ax = plt.subplots(figsize=(5,5))\n",
        "ax.plot(list(range(num_epoch)), train_rmse_history, label=\"Training\")\n",
        "ax.plot(list(range(num_epoch)), test_rmse_history, label=\"Test\")\n",
        "ax.set_xlabel(\"Number of iterations\")\n",
        "ax.set_ylabel(\"RMSE\")\n",
        "ax.legend()\n",
        "# ax.title(\"RMSE for biases+users and items\")\n",
        "plt.savefig(\"reg_rmse_for_biases_with.pdf\", format=\"pdf\", bbox_inches=\"tight\")\n",
        "# plt.show()"
      ]
    },
    {
      "cell_type": "code",
      "execution_count": null,
      "metadata": {
        "id": "0gLrSx501TlR"
      },
      "outputs": [],
      "source": []
    },
    {
      "cell_type": "code",
      "execution_count": 95,
      "metadata": {
        "id": "OxIME60wRFEO",
        "colab": {
          "base_uri": "https://localhost:8080/"
        },
        "outputId": "6e10b501-373b-4e33-e098-45bed0ac64da",
        "cellView": "form"
      },
      "outputs": [
        {
          "output_type": "stream",
          "name": "stdout",
          "text": [
            "user_vec saved...\n",
            "item_vec saved...\n",
            "user_biases saved...\n",
            "item_biases saved...\n",
            "train_loss_history saved...\n",
            "test_loss_history saved...\n",
            "train_rmse_history saved...\n",
            "test_rmse_history saved...\n",
            "feature_vec saved...\n",
            "  adding: content/model_amls_18_6/ (stored 0%)\n",
            "  adding: content/model_amls_18_6/item_vec.txt (deflated 30%)\n",
            "  adding: content/model_amls_18_6/feature_vec.txt (deflated 2%)\n",
            "  adding: content/model_amls_18_6/user_biases.txt (deflated 7%)\n",
            "  adding: content/model_amls_18_6/item_biases.txt (deflated 37%)\n",
            "  adding: content/model_amls_18_6/train_loss_history.txt (deflated 43%)\n",
            "  adding: content/model_amls_18_6/test_rmse_history.txt (deflated 43%)\n",
            "  adding: content/model_amls_18_6/train_rmse_history.txt (deflated 43%)\n",
            "  adding: content/model_amls_18_6/test_loss_history.txt (deflated 43%)\n",
            "  adding: content/model_amls_18_6/user_vec.txt (deflated 4%)\n",
            "  adding: content/model_amls_18_6/params.txt (deflated 7%)\n",
            "done...\n"
          ]
        }
      ],
      "source": [
        "#@title Save my model\n",
        "# %mkdir model_amls\n",
        "# %mkdir model_amls/datasets\n",
        "import pickle\n",
        "\n",
        "%mkdir /content/model_amls_18_6/\n",
        "\n",
        "path = \"/content/model_amls_18_6/\"\n",
        "\n",
        "with open(path+\"params.txt\", \"w\") as file:\n",
        "    file.write(f\"K = {K}\\nlambd={lambd}\\ngamma={gamma}\\ntau={tau}\\ntau_feat={tau_feat}\\nnum_epoch = {num_epoch}\")\n",
        "\n",
        "with open(path+\"user_vec.txt\", \"wb\") as f:\n",
        "  pickle.dump(user_vec, f)\n",
        "  print(\"user_vec saved...\")\n",
        "\n",
        "with open(path+\"item_vec.txt\", \"wb\") as f:\n",
        "  pickle.dump(item_vec, f)\n",
        "  print(\"item_vec saved...\")\n",
        "\n",
        "with open(path+\"user_biases.txt\", \"wb\") as f:\n",
        "  pickle.dump(user_biases, f)\n",
        "  print(\"user_biases saved...\")\n",
        "\n",
        "with open(path+\"item_biases.txt\", \"wb\") as f:\n",
        "  pickle.dump(item_biases, f)\n",
        "  print(\"item_biases saved...\")\n",
        "\n",
        "with open(path+\"train_loss_history.txt\", \"wb\") as f:\n",
        "  pickle.dump(train_loss_history, f)\n",
        "  print(\"train_loss_history saved...\")\n",
        "\n",
        "with open(path+\"test_loss_history.txt\", \"wb\") as f:\n",
        "  pickle.dump(test_loss_history, f)\n",
        "  print(\"test_loss_history saved...\")\n",
        "\n",
        "with open(path+\"train_rmse_history.txt\", \"wb\") as f:\n",
        "  pickle.dump(train_rmse_history, f)\n",
        "  print(\"train_rmse_history saved...\")\n",
        "\n",
        "with open(path+\"test_rmse_history.txt\", \"wb\") as f:\n",
        "  pickle.dump(test_rmse_history, f)\n",
        "  print(\"test_rmse_history saved...\")\n",
        "\n",
        "with open(path+\"feature_vec.txt\", \"wb\") as f:\n",
        "  pickle.dump(feature_vec, f)\n",
        "  print(\"feature_vec saved...\")\n",
        "\n",
        "!zip -r /content/model_amls_18_6.zip /content/model_amls_18_6/\n",
        "\n",
        "print(\"done...\")"
      ]
    },
    {
      "cell_type": "code",
      "execution_count": 96,
      "metadata": {
        "id": "Clgk9A3B6eWO",
        "colab": {
          "base_uri": "https://localhost:8080/",
          "height": 17
        },
        "outputId": "1deb4f33-b059-4d67-c057-205bfad9528f"
      },
      "outputs": [
        {
          "output_type": "display_data",
          "data": {
            "text/plain": [
              "<IPython.core.display.Javascript object>"
            ],
            "application/javascript": [
              "\n",
              "    async function download(id, filename, size) {\n",
              "      if (!google.colab.kernel.accessAllowed) {\n",
              "        return;\n",
              "      }\n",
              "      const div = document.createElement('div');\n",
              "      const label = document.createElement('label');\n",
              "      label.textContent = `Downloading \"${filename}\": `;\n",
              "      div.appendChild(label);\n",
              "      const progress = document.createElement('progress');\n",
              "      progress.max = size;\n",
              "      div.appendChild(progress);\n",
              "      document.body.appendChild(div);\n",
              "\n",
              "      const buffers = [];\n",
              "      let downloaded = 0;\n",
              "\n",
              "      const channel = await google.colab.kernel.comms.open(id);\n",
              "      // Send a message to notify the kernel that we're ready.\n",
              "      channel.send({})\n",
              "\n",
              "      for await (const message of channel.messages) {\n",
              "        // Send a message to notify the kernel that we're ready.\n",
              "        channel.send({})\n",
              "        if (message.buffers) {\n",
              "          for (const buffer of message.buffers) {\n",
              "            buffers.push(buffer);\n",
              "            downloaded += buffer.byteLength;\n",
              "            progress.value = downloaded;\n",
              "          }\n",
              "        }\n",
              "      }\n",
              "      const blob = new Blob(buffers, {type: 'application/binary'});\n",
              "      const a = document.createElement('a');\n",
              "      a.href = window.URL.createObjectURL(blob);\n",
              "      a.download = filename;\n",
              "      div.appendChild(a);\n",
              "      a.click();\n",
              "      div.remove();\n",
              "    }\n",
              "  "
            ]
          },
          "metadata": {}
        },
        {
          "output_type": "display_data",
          "data": {
            "text/plain": [
              "<IPython.core.display.Javascript object>"
            ],
            "application/javascript": [
              "download(\"download_5652477c-f63d-4032-bf58-b68014ec827d\", \"model_amls_18_6.zip\", 17272522)"
            ]
          },
          "metadata": {}
        }
      ],
      "source": [
        "from google.colab import files\n",
        "files.download(path[:-1]+\".zip\")"
      ]
    },
    {
      "cell_type": "markdown",
      "source": [
        "# Prediction"
      ],
      "metadata": {
        "id": "H3iZlJWLH2FL"
      }
    },
    {
      "cell_type": "code",
      "source": [
        "#@title Load model\n",
        "\n",
        "import pickle\n",
        "\n",
        "!unzip /content/model_amls_18_3.zip\n",
        "\n",
        "path = \"/content/model_amls_18_3/\"\n",
        "\n",
        "with open(path+\"user_vec.txt\", \"rb\") as f:\n",
        "  user_vec = pickle.load(f)\n",
        "\n",
        "with open(path+\"item_vec.txt\", \"rb\") as f:\n",
        "  item_vec = pickle.load(f)\n",
        "\n",
        "with open(path+\"user_biases.txt\", \"rb\") as f:\n",
        "  user_biases = pickle.load(f)\n",
        "\n",
        "with open(path+\"item_biases.txt\", \"rb\") as f:\n",
        "  item_biases = pickle.load(f)\n",
        "\n",
        "with open(path+\"item_biases.txt\", \"rb\") as f:\n",
        "  item_biases = pickle.load(f)"
      ],
      "metadata": {
        "id": "gku2uOraH4MW",
        "colab": {
          "base_uri": "https://localhost:8080/"
        },
        "outputId": "fa0b5451-8218-4b47-8f9d-5ac6a0e2b8b1"
      },
      "execution_count": 13,
      "outputs": [
        {
          "output_type": "stream",
          "name": "stdout",
          "text": [
            "Archive:  /content/model_amls_18_3.zip\n",
            "replace model_amls_18_3/params.txt? [y]es, [n]o, [A]ll, [N]one, [r]ename: None\n"
          ]
        }
      ]
    },
    {
      "cell_type": "code",
      "execution_count": 35,
      "metadata": {
        "id": "RCtmW1xHOpH9"
      },
      "outputs": [],
      "source": [
        "#Get all movie rated more than 20 times\n",
        "movie_rated_more_than_20 = [n for n in range(N) if len(data_by_movie[n])>20]"
      ]
    },
    {
      "cell_type": "code",
      "execution_count": 36,
      "metadata": {
        "id": "NOwdUsNc0Jbe"
      },
      "outputs": [],
      "source": [
        "#Sort list and return indixes\n",
        "def sort_with_indices(lst):\n",
        "  indexed_lst = list(enumerate(lst))\n",
        "  indexed_lst.sort(key=lambda x: x[1], reverse=True)  # Sort based on the elements (x[1])\n",
        "  sorted_indices = [x[0] for x in indexed_lst]  # Extract the sorted indices\n",
        "  return sorted_indices"
      ]
    },
    {
      "cell_type": "code",
      "execution_count": 101,
      "metadata": {
        "id": "fBLTc6UCOcEz",
        "colab": {
          "base_uri": "https://localhost:8080/",
          "height": 693
        },
        "outputId": "fa1e186f-a796-4049-853c-17acc9b5ae34"
      },
      "outputs": [
        {
          "output_type": "stream",
          "name": "stdout",
          "text": [
            "You rate this movie : Avengers: Age of Ultron (2015)\n"
          ]
        },
        {
          "output_type": "execute_result",
          "data": {
            "text/plain": [
              "       movieId                                              title  \\\n",
              "17067    89745                               Avengers, The (2012)   \n",
              "19678   102125                                  Iron Man 3 (2013)   \n",
              "20513   106072                        Thor: The Dark World (2013)   \n",
              "21348   110102         Captain America: The Winter Soldier (2014)   \n",
              "25058   122892                     Avengers: Age of Ultron (2015)   \n",
              "25067   122912             Avengers: Infinity War - Part I (2018)   \n",
              "25068   122914            Avengers: Infinity War - Part II (2019)   \n",
              "25071   122920                  Captain America: Civil War (2016)   \n",
              "44450   168252                                       Logan (2017)   \n",
              "35693   148426                            Fateful Findings (2013)   \n",
              "46778   173145              War for the Planet of the Apes (2017)   \n",
              "12320    59295           Expelled: No Intelligence Allowed (2008)   \n",
              "17953    93748  Eden of the East the Movie I: The King of Eden...   \n",
              "13765    71302                 Attack of the 50 Foot Woman (1958)   \n",
              "18822    98203  Twilight Saga: Breaking Dawn - Part 2, The (2012)   \n",
              "31918   139757                             Best of Enemies (2015)   \n",
              "16874    88835                  Glee: The 3D Concert Movie (2011)   \n",
              "23769   119222                              Behaving Badly (2014)   \n",
              "19009    99058                                 Comedy, The (2012)   \n",
              "13338    68835                         Were the World Mine (2008)   \n",
              "\n",
              "                                       genres  \n",
              "17067            Action|Adventure|Sci-Fi|IMAX  \n",
              "19678             Action|Sci-Fi|Thriller|IMAX  \n",
              "20513           Action|Adventure|Fantasy|IMAX  \n",
              "21348            Action|Adventure|Sci-Fi|IMAX  \n",
              "25058                 Action|Adventure|Sci-Fi  \n",
              "25067                 Action|Adventure|Sci-Fi  \n",
              "25068                 Action|Adventure|Sci-Fi  \n",
              "25071                  Action|Sci-Fi|Thriller  \n",
              "44450                           Action|Sci-Fi  \n",
              "35693                  Drama|Fantasy|Thriller  \n",
              "46778           Action|Adventure|Drama|Sci-Fi  \n",
              "12320                             Documentary  \n",
              "17953  Action|Animation|Crime|Sci-Fi|Thriller  \n",
              "13765                           Comedy|Sci-Fi  \n",
              "18822    Adventure|Drama|Fantasy|Romance|IMAX  \n",
              "31918                             Documentary  \n",
              "16874                     Documentary|Musical  \n",
              "23769                                  Comedy  \n",
              "19009                                   Drama  \n",
              "13338       Adventure|Fantasy|Musical|Romance  "
            ],
            "text/html": [
              "\n",
              "  <div id=\"df-f4526633-c28b-425b-b836-dae1b1551061\" class=\"colab-df-container\">\n",
              "    <div>\n",
              "<style scoped>\n",
              "    .dataframe tbody tr th:only-of-type {\n",
              "        vertical-align: middle;\n",
              "    }\n",
              "\n",
              "    .dataframe tbody tr th {\n",
              "        vertical-align: top;\n",
              "    }\n",
              "\n",
              "    .dataframe thead th {\n",
              "        text-align: right;\n",
              "    }\n",
              "</style>\n",
              "<table border=\"1\" class=\"dataframe\">\n",
              "  <thead>\n",
              "    <tr style=\"text-align: right;\">\n",
              "      <th></th>\n",
              "      <th>movieId</th>\n",
              "      <th>title</th>\n",
              "      <th>genres</th>\n",
              "    </tr>\n",
              "  </thead>\n",
              "  <tbody>\n",
              "    <tr>\n",
              "      <th>17067</th>\n",
              "      <td>89745</td>\n",
              "      <td>Avengers, The (2012)</td>\n",
              "      <td>Action|Adventure|Sci-Fi|IMAX</td>\n",
              "    </tr>\n",
              "    <tr>\n",
              "      <th>19678</th>\n",
              "      <td>102125</td>\n",
              "      <td>Iron Man 3 (2013)</td>\n",
              "      <td>Action|Sci-Fi|Thriller|IMAX</td>\n",
              "    </tr>\n",
              "    <tr>\n",
              "      <th>20513</th>\n",
              "      <td>106072</td>\n",
              "      <td>Thor: The Dark World (2013)</td>\n",
              "      <td>Action|Adventure|Fantasy|IMAX</td>\n",
              "    </tr>\n",
              "    <tr>\n",
              "      <th>21348</th>\n",
              "      <td>110102</td>\n",
              "      <td>Captain America: The Winter Soldier (2014)</td>\n",
              "      <td>Action|Adventure|Sci-Fi|IMAX</td>\n",
              "    </tr>\n",
              "    <tr>\n",
              "      <th>25058</th>\n",
              "      <td>122892</td>\n",
              "      <td>Avengers: Age of Ultron (2015)</td>\n",
              "      <td>Action|Adventure|Sci-Fi</td>\n",
              "    </tr>\n",
              "    <tr>\n",
              "      <th>25067</th>\n",
              "      <td>122912</td>\n",
              "      <td>Avengers: Infinity War - Part I (2018)</td>\n",
              "      <td>Action|Adventure|Sci-Fi</td>\n",
              "    </tr>\n",
              "    <tr>\n",
              "      <th>25068</th>\n",
              "      <td>122914</td>\n",
              "      <td>Avengers: Infinity War - Part II (2019)</td>\n",
              "      <td>Action|Adventure|Sci-Fi</td>\n",
              "    </tr>\n",
              "    <tr>\n",
              "      <th>25071</th>\n",
              "      <td>122920</td>\n",
              "      <td>Captain America: Civil War (2016)</td>\n",
              "      <td>Action|Sci-Fi|Thriller</td>\n",
              "    </tr>\n",
              "    <tr>\n",
              "      <th>44450</th>\n",
              "      <td>168252</td>\n",
              "      <td>Logan (2017)</td>\n",
              "      <td>Action|Sci-Fi</td>\n",
              "    </tr>\n",
              "    <tr>\n",
              "      <th>35693</th>\n",
              "      <td>148426</td>\n",
              "      <td>Fateful Findings (2013)</td>\n",
              "      <td>Drama|Fantasy|Thriller</td>\n",
              "    </tr>\n",
              "    <tr>\n",
              "      <th>46778</th>\n",
              "      <td>173145</td>\n",
              "      <td>War for the Planet of the Apes (2017)</td>\n",
              "      <td>Action|Adventure|Drama|Sci-Fi</td>\n",
              "    </tr>\n",
              "    <tr>\n",
              "      <th>12320</th>\n",
              "      <td>59295</td>\n",
              "      <td>Expelled: No Intelligence Allowed (2008)</td>\n",
              "      <td>Documentary</td>\n",
              "    </tr>\n",
              "    <tr>\n",
              "      <th>17953</th>\n",
              "      <td>93748</td>\n",
              "      <td>Eden of the East the Movie I: The King of Eden...</td>\n",
              "      <td>Action|Animation|Crime|Sci-Fi|Thriller</td>\n",
              "    </tr>\n",
              "    <tr>\n",
              "      <th>13765</th>\n",
              "      <td>71302</td>\n",
              "      <td>Attack of the 50 Foot Woman (1958)</td>\n",
              "      <td>Comedy|Sci-Fi</td>\n",
              "    </tr>\n",
              "    <tr>\n",
              "      <th>18822</th>\n",
              "      <td>98203</td>\n",
              "      <td>Twilight Saga: Breaking Dawn - Part 2, The (2012)</td>\n",
              "      <td>Adventure|Drama|Fantasy|Romance|IMAX</td>\n",
              "    </tr>\n",
              "    <tr>\n",
              "      <th>31918</th>\n",
              "      <td>139757</td>\n",
              "      <td>Best of Enemies (2015)</td>\n",
              "      <td>Documentary</td>\n",
              "    </tr>\n",
              "    <tr>\n",
              "      <th>16874</th>\n",
              "      <td>88835</td>\n",
              "      <td>Glee: The 3D Concert Movie (2011)</td>\n",
              "      <td>Documentary|Musical</td>\n",
              "    </tr>\n",
              "    <tr>\n",
              "      <th>23769</th>\n",
              "      <td>119222</td>\n",
              "      <td>Behaving Badly (2014)</td>\n",
              "      <td>Comedy</td>\n",
              "    </tr>\n",
              "    <tr>\n",
              "      <th>19009</th>\n",
              "      <td>99058</td>\n",
              "      <td>Comedy, The (2012)</td>\n",
              "      <td>Drama</td>\n",
              "    </tr>\n",
              "    <tr>\n",
              "      <th>13338</th>\n",
              "      <td>68835</td>\n",
              "      <td>Were the World Mine (2008)</td>\n",
              "      <td>Adventure|Fantasy|Musical|Romance</td>\n",
              "    </tr>\n",
              "  </tbody>\n",
              "</table>\n",
              "</div>\n",
              "    <div class=\"colab-df-buttons\">\n",
              "\n",
              "  <div class=\"colab-df-container\">\n",
              "    <button class=\"colab-df-convert\" onclick=\"convertToInteractive('df-f4526633-c28b-425b-b836-dae1b1551061')\"\n",
              "            title=\"Convert this dataframe to an interactive table.\"\n",
              "            style=\"display:none;\">\n",
              "\n",
              "  <svg xmlns=\"http://www.w3.org/2000/svg\" height=\"24px\" viewBox=\"0 -960 960 960\">\n",
              "    <path d=\"M120-120v-720h720v720H120Zm60-500h600v-160H180v160Zm220 220h160v-160H400v160Zm0 220h160v-160H400v160ZM180-400h160v-160H180v160Zm440 0h160v-160H620v160ZM180-180h160v-160H180v160Zm440 0h160v-160H620v160Z\"/>\n",
              "  </svg>\n",
              "    </button>\n",
              "\n",
              "  <style>\n",
              "    .colab-df-container {\n",
              "      display:flex;\n",
              "      gap: 12px;\n",
              "    }\n",
              "\n",
              "    .colab-df-convert {\n",
              "      background-color: #E8F0FE;\n",
              "      border: none;\n",
              "      border-radius: 50%;\n",
              "      cursor: pointer;\n",
              "      display: none;\n",
              "      fill: #1967D2;\n",
              "      height: 32px;\n",
              "      padding: 0 0 0 0;\n",
              "      width: 32px;\n",
              "    }\n",
              "\n",
              "    .colab-df-convert:hover {\n",
              "      background-color: #E2EBFA;\n",
              "      box-shadow: 0px 1px 2px rgba(60, 64, 67, 0.3), 0px 1px 3px 1px rgba(60, 64, 67, 0.15);\n",
              "      fill: #174EA6;\n",
              "    }\n",
              "\n",
              "    .colab-df-buttons div {\n",
              "      margin-bottom: 4px;\n",
              "    }\n",
              "\n",
              "    [theme=dark] .colab-df-convert {\n",
              "      background-color: #3B4455;\n",
              "      fill: #D2E3FC;\n",
              "    }\n",
              "\n",
              "    [theme=dark] .colab-df-convert:hover {\n",
              "      background-color: #434B5C;\n",
              "      box-shadow: 0px 1px 3px 1px rgba(0, 0, 0, 0.15);\n",
              "      filter: drop-shadow(0px 1px 2px rgba(0, 0, 0, 0.3));\n",
              "      fill: #FFFFFF;\n",
              "    }\n",
              "  </style>\n",
              "\n",
              "    <script>\n",
              "      const buttonEl =\n",
              "        document.querySelector('#df-f4526633-c28b-425b-b836-dae1b1551061 button.colab-df-convert');\n",
              "      buttonEl.style.display =\n",
              "        google.colab.kernel.accessAllowed ? 'block' : 'none';\n",
              "\n",
              "      async function convertToInteractive(key) {\n",
              "        const element = document.querySelector('#df-f4526633-c28b-425b-b836-dae1b1551061');\n",
              "        const dataTable =\n",
              "          await google.colab.kernel.invokeFunction('convertToInteractive',\n",
              "                                                    [key], {});\n",
              "        if (!dataTable) return;\n",
              "\n",
              "        const docLinkHtml = 'Like what you see? Visit the ' +\n",
              "          '<a target=\"_blank\" href=https://colab.research.google.com/notebooks/data_table.ipynb>data table notebook</a>'\n",
              "          + ' to learn more about interactive tables.';\n",
              "        element.innerHTML = '';\n",
              "        dataTable['output_type'] = 'display_data';\n",
              "        await google.colab.output.renderOutput(dataTable, element);\n",
              "        const docLink = document.createElement('div');\n",
              "        docLink.innerHTML = docLinkHtml;\n",
              "        element.appendChild(docLink);\n",
              "      }\n",
              "    </script>\n",
              "  </div>\n",
              "\n",
              "\n",
              "<div id=\"df-b2e19370-1297-4af2-a627-7e070493cbae\">\n",
              "  <button class=\"colab-df-quickchart\" onclick=\"quickchart('df-b2e19370-1297-4af2-a627-7e070493cbae')\"\n",
              "            title=\"Suggest charts\"\n",
              "            style=\"display:none;\">\n",
              "\n",
              "<svg xmlns=\"http://www.w3.org/2000/svg\" height=\"24px\"viewBox=\"0 0 24 24\"\n",
              "     width=\"24px\">\n",
              "    <g>\n",
              "        <path d=\"M19 3H5c-1.1 0-2 .9-2 2v14c0 1.1.9 2 2 2h14c1.1 0 2-.9 2-2V5c0-1.1-.9-2-2-2zM9 17H7v-7h2v7zm4 0h-2V7h2v10zm4 0h-2v-4h2v4z\"/>\n",
              "    </g>\n",
              "</svg>\n",
              "  </button>\n",
              "\n",
              "<style>\n",
              "  .colab-df-quickchart {\n",
              "      --bg-color: #E8F0FE;\n",
              "      --fill-color: #1967D2;\n",
              "      --hover-bg-color: #E2EBFA;\n",
              "      --hover-fill-color: #174EA6;\n",
              "      --disabled-fill-color: #AAA;\n",
              "      --disabled-bg-color: #DDD;\n",
              "  }\n",
              "\n",
              "  [theme=dark] .colab-df-quickchart {\n",
              "      --bg-color: #3B4455;\n",
              "      --fill-color: #D2E3FC;\n",
              "      --hover-bg-color: #434B5C;\n",
              "      --hover-fill-color: #FFFFFF;\n",
              "      --disabled-bg-color: #3B4455;\n",
              "      --disabled-fill-color: #666;\n",
              "  }\n",
              "\n",
              "  .colab-df-quickchart {\n",
              "    background-color: var(--bg-color);\n",
              "    border: none;\n",
              "    border-radius: 50%;\n",
              "    cursor: pointer;\n",
              "    display: none;\n",
              "    fill: var(--fill-color);\n",
              "    height: 32px;\n",
              "    padding: 0;\n",
              "    width: 32px;\n",
              "  }\n",
              "\n",
              "  .colab-df-quickchart:hover {\n",
              "    background-color: var(--hover-bg-color);\n",
              "    box-shadow: 0 1px 2px rgba(60, 64, 67, 0.3), 0 1px 3px 1px rgba(60, 64, 67, 0.15);\n",
              "    fill: var(--button-hover-fill-color);\n",
              "  }\n",
              "\n",
              "  .colab-df-quickchart-complete:disabled,\n",
              "  .colab-df-quickchart-complete:disabled:hover {\n",
              "    background-color: var(--disabled-bg-color);\n",
              "    fill: var(--disabled-fill-color);\n",
              "    box-shadow: none;\n",
              "  }\n",
              "\n",
              "  .colab-df-spinner {\n",
              "    border: 2px solid var(--fill-color);\n",
              "    border-color: transparent;\n",
              "    border-bottom-color: var(--fill-color);\n",
              "    animation:\n",
              "      spin 1s steps(1) infinite;\n",
              "  }\n",
              "\n",
              "  @keyframes spin {\n",
              "    0% {\n",
              "      border-color: transparent;\n",
              "      border-bottom-color: var(--fill-color);\n",
              "      border-left-color: var(--fill-color);\n",
              "    }\n",
              "    20% {\n",
              "      border-color: transparent;\n",
              "      border-left-color: var(--fill-color);\n",
              "      border-top-color: var(--fill-color);\n",
              "    }\n",
              "    30% {\n",
              "      border-color: transparent;\n",
              "      border-left-color: var(--fill-color);\n",
              "      border-top-color: var(--fill-color);\n",
              "      border-right-color: var(--fill-color);\n",
              "    }\n",
              "    40% {\n",
              "      border-color: transparent;\n",
              "      border-right-color: var(--fill-color);\n",
              "      border-top-color: var(--fill-color);\n",
              "    }\n",
              "    60% {\n",
              "      border-color: transparent;\n",
              "      border-right-color: var(--fill-color);\n",
              "    }\n",
              "    80% {\n",
              "      border-color: transparent;\n",
              "      border-right-color: var(--fill-color);\n",
              "      border-bottom-color: var(--fill-color);\n",
              "    }\n",
              "    90% {\n",
              "      border-color: transparent;\n",
              "      border-bottom-color: var(--fill-color);\n",
              "    }\n",
              "  }\n",
              "</style>\n",
              "\n",
              "  <script>\n",
              "    async function quickchart(key) {\n",
              "      const quickchartButtonEl =\n",
              "        document.querySelector('#' + key + ' button');\n",
              "      quickchartButtonEl.disabled = true;  // To prevent multiple clicks.\n",
              "      quickchartButtonEl.classList.add('colab-df-spinner');\n",
              "      try {\n",
              "        const charts = await google.colab.kernel.invokeFunction(\n",
              "            'suggestCharts', [key], {});\n",
              "      } catch (error) {\n",
              "        console.error('Error during call to suggestCharts:', error);\n",
              "      }\n",
              "      quickchartButtonEl.classList.remove('colab-df-spinner');\n",
              "      quickchartButtonEl.classList.add('colab-df-quickchart-complete');\n",
              "    }\n",
              "    (() => {\n",
              "      let quickchartButtonEl =\n",
              "        document.querySelector('#df-b2e19370-1297-4af2-a627-7e070493cbae button');\n",
              "      quickchartButtonEl.style.display =\n",
              "        google.colab.kernel.accessAllowed ? 'block' : 'none';\n",
              "    })();\n",
              "  </script>\n",
              "</div>\n",
              "    </div>\n",
              "  </div>\n"
            ],
            "application/vnd.google.colaboratory.intrinsic+json": {
              "type": "dataframe",
              "summary": "{\n  \"name\": \"movies\",\n  \"rows\": 20,\n  \"fields\": [\n    {\n      \"column\": \"movieId\",\n      \"properties\": {\n        \"dtype\": \"number\",\n        \"std\": 30502,\n        \"min\": 59295,\n        \"max\": 173145,\n        \"num_unique_values\": 20,\n        \"samples\": [\n          89745,\n          119222,\n          139757\n        ],\n        \"semantic_type\": \"\",\n        \"description\": \"\"\n      }\n    },\n    {\n      \"column\": \"title\",\n      \"properties\": {\n        \"dtype\": \"string\",\n        \"num_unique_values\": 20,\n        \"samples\": [\n          \"Avengers, The (2012)\",\n          \"Behaving Badly (2014)\",\n          \"Best of Enemies (2015)\"\n        ],\n        \"semantic_type\": \"\",\n        \"description\": \"\"\n      }\n    },\n    {\n      \"column\": \"genres\",\n      \"properties\": {\n        \"dtype\": \"string\",\n        \"num_unique_values\": 16,\n        \"samples\": [\n          \"Action|Adventure|Sci-Fi|IMAX\",\n          \"Action|Sci-Fi|Thriller|IMAX\",\n          \"Action|Sci-Fi\"\n        ],\n        \"semantic_type\": \"\",\n        \"description\": \"\"\n      }\n    }\n  ]\n}"
            }
          },
          "metadata": {},
          "execution_count": 101
        }
      ],
      "source": [
        " #@title Dummpy user\n",
        "K = 10\n",
        "K = 10\n",
        "lambd=10\n",
        "gamma=0.4\n",
        "tau=0.2\n",
        "tau_feat=0.1\n",
        "#get a movie id#4896\n",
        "movie_id = 122892\n",
        "rate = 5\n",
        "# print()\n",
        "\n",
        "print(f\"You rate this movie : {movies.iloc[np.where(movies['movieId'].values == movie_id)[0][0]].title}\")\n",
        "#train a dummpy user\n",
        "new_user = np.zeros(K)\n",
        "r_m = np.array([rate])\n",
        "movie_indices = [movie_to_id[movie_id]]\n",
        "num_epoch = 20\n",
        "for epoch in range(num_epoch):\n",
        "  # numerator = np.sum(r_m - np.dot(new_user, item_vec[movie_indices,:].T)-item_biases[movie_indices])\n",
        "  # user_biases = lambd*numerator/(lambd*len(r_m)+gamma)\n",
        "  term1 = lambd*np.dot(item_vec[movie_indices].T, item_vec[movie_indices])+tau*np.eye(K,K)\n",
        "  term2 = r_m - item_biases[movie_indices]\n",
        "  term2 = lambd*np.sum(item_vec[movie_indices]*term2.reshape(-1,1), axis=0)\n",
        "  new_user = linalg.solve(term1, term2)\n",
        "\n",
        "#Make Recommendation\n",
        "#Compute the cost\n",
        "score_for_item = np.array([np.dot(new_user, item_vec[n])+item_biases[n] for n in range(N)])\n",
        "#Compute some recommendations\n",
        "recommendation_idx = np.where(score_for_item >= 4.5)[0]\n",
        "#Get movie recommended id\n",
        "recommendations = [np.where(movies[\"movieId\"].values == id_to_movie[idx])[0][0] for idx in recommendation_idx[:20] ]\n",
        "movies.iloc[recommendations]"
      ]
    },
    {
      "cell_type": "markdown",
      "metadata": {
        "id": "agskJkTRXxo-"
      },
      "source": [
        "# Feature embeddings"
      ]
    },
    {
      "cell_type": "markdown",
      "metadata": {
        "id": "tBqjLQaVX0xa"
      },
      "source": []
    },
    {
      "cell_type": "code",
      "execution_count": null,
      "metadata": {
        "id": "GHhF-VI1E0ar"
      },
      "outputs": [],
      "source": [
        "frequence_features= [len(movies_with_feature_i[i]) for i in range(20)]\n",
        "#get three feature with highest size\n",
        "# idx = sort_with_indices(frequence_features)[:3]"
      ]
    },
    {
      "cell_type": "code",
      "execution_count": null,
      "metadata": {
        "id": "lYEYLUWtF6uB"
      },
      "outputs": [],
      "source": [
        "idx = [dict_genres[g] for g in [\"Children\", \"Horror\"]]"
      ]
    },
    {
      "cell_type": "code",
      "execution_count": null,
      "metadata": {
        "id": "MNstRfW5CWBo"
      },
      "outputs": [],
      "source": [
        "i = idx[1]\n",
        "for i in idx:\n",
        "  projected_item_vec = pca.fit_transform(item_vec[movies_with_feature_i[i][:200],:])\n",
        "\n",
        "  #normalization of PC\n",
        "  XX = projected_item_vec[:,[0,1]]\n",
        "  x_mean = XX.mean(axis=0)\n",
        "  x_max = XX.max(axis=0)\n",
        "  x_min = XX.min(axis=0)\n",
        "  XX = (XX - x_mean)/(x_max - x_min)\n",
        "  plt.scatter(XX[:,0], XX[:,1], alpha=0.8, label=f\"{genres[i]}\")\n",
        "  # plt.text(X[i, 0]+0.01, X[i, 1]+0.001, f\"{genres[i]}\", fontsize=6)\n",
        "plt.legend()"
      ]
    },
    {
      "cell_type": "markdown",
      "source": [
        "# Feature embeddings with $K=2$"
      ],
      "metadata": {
        "id": "0zrM7ux_ITKe"
      }
    },
    {
      "cell_type": "code",
      "execution_count": 49,
      "metadata": {
        "colab": {
          "base_uri": "https://localhost:8080/"
        },
        "outputId": "5cc45c84-00c0-4068-e796-1162c1ed29e5",
        "id": "PGgGcrOmIkji",
        "cellView": "form"
      },
      "outputs": [
        {
          "output_type": "stream",
          "name": "stderr",
          "text": [
            "100%|██████████| 10/10 [20:55<00:00, 125.56s/it]\n"
          ]
        }
      ],
      "source": [
        "#@title Training v2.1\n",
        "\n",
        "#hyperparameters\n",
        "K  = 2#60#40\n",
        "lambd = 5#5#0.1\n",
        "gamma = 0.4#0.2#0.15\n",
        "tau = 0.2#0.2#0.15\n",
        "tau_feat = 0.1\n",
        "num_epoch = 10#20\n",
        "\n",
        "#Initialization\n",
        "user_vec = np.random.normal(0, 1/np.sqrt(K), size= (M, K))\n",
        "user_biases = np.zeros(M)\n",
        "item_vec = np.random.normal(0, 1/np.sqrt(K), size=(N,K))\n",
        "item_biases = np.zeros(N)\n",
        "feature_vec = np.random.normal(0, 1/np.sqrt(K), size=(20,K))\n",
        "##\n",
        "\n",
        "##\n",
        "train_loss_history = []\n",
        "test_loss_history = []\n",
        "train_rmse_history = []\n",
        "test_rmse_history = []\n",
        "\n",
        "##\n",
        "for epoch in tqdm(range(num_epoch)):\n",
        "  #user biases\n",
        "  for m in range(M):\n",
        "    movie_indices = train_data_by_user[m][0]\n",
        "    r_m = np.array(train_data_by_user[m][1])\n",
        "    numerator = np.sum(r_m - np.dot(user_vec[m].T, item_vec[movie_indices,:].T)-item_biases[movie_indices])\n",
        "    user_biases[m] = lambd*numerator/(lambd*len(r_m)+gamma)\n",
        "  #item biases\n",
        "  for n in range(N):\n",
        "    user_indices = train_data_by_movie[n][0]\n",
        "    r_n = np.array(train_data_by_movie[n][1])\n",
        "    # feature_indices = features_per_movies[n]\n",
        "    # feature_vec[feature_indices,:]\n",
        "    numerator = np.sum(r_n -np.dot(user_vec[user_indices,:], item_vec[n].T) -user_biases[user_indices])\n",
        "    item_biases[n] = lambd*numerator/(lambd*len(r_n)+gamma)\n",
        "\n",
        "  # #user_vec\n",
        "  for m in range(M):\n",
        "    movie_indices = train_data_by_user[m][0]\n",
        "    r_m = np.array(train_data_by_user[m][1])\n",
        "    term1 = lambd*np.dot(item_vec[movie_indices].T, item_vec[movie_indices])+tau*np.eye(K,K)\n",
        "    term2 = r_m - user_biases[m] - item_biases[movie_indices]\n",
        "    term2 = lambd*np.sum(item_vec[movie_indices]*term2.reshape(-1,1), axis=0)\n",
        "    user_vec[m] = linalg.solve(term1, term2)\n",
        "\n",
        "  for n in range(N):\n",
        "    user_indices = train_data_by_movie[n][0]\n",
        "    r_n = np.array(train_data_by_movie[n][1])\n",
        "    term1 = lambd*np.dot(user_vec[user_indices].T, user_vec[user_indices])+tau*np.eye(K,K)\n",
        "    term2 = r_n - user_biases[user_indices] - item_biases[n]\n",
        "    term2 = lambd*np.sum(user_vec[user_indices]*term2.reshape(-1,1), axis=0)+tau_feat*np.sum(feature_vec[features_per_movies[n],:], axis=0)/np.sqrt(len(features_per_movies[n]))\n",
        "    item_vec[n] = linalg.solve(term1, term2)\n",
        "    #\n",
        "  for i in range(20):\n",
        "    denominator = tau_feat + tau* sum([1./np.sqrt(len(features_per_movies[n])) for n in movies_with_feature_i[i]])\n",
        "    feature_vec[i,:] = tau*np.sum(item_vec[movies_with_feature_i[i],:], axis=0)/denominator\n",
        "  #Loss\n",
        "  loss, rmse = loss_func(train_data_by_user, user_vec, item_vec, user_biases, item_biases, feature_vec, tau, tau_feat, gamma, lambd)\n",
        "  train_loss_history.append(loss.copy())\n",
        "  train_rmse_history.append(rmse.copy())\n",
        "  test_loss, test_rmse = loss_func(test_data_by_user, user_vec, item_vec, user_biases, item_biases, feature_vec, tau, tau_feat, gamma, lambd)\n",
        "  test_loss_history.append(test_loss.copy())\n",
        "  test_rmse_history.append(test_rmse.copy())"
      ]
    },
    {
      "cell_type": "code",
      "source": [
        "\n",
        "#Indices of movies with genres Children\n",
        "# movies_with_feature_i[dict_genres[\"Children\"]][:10]\n",
        "for feature in [\"Children\", \"Horror\"]:\n",
        "  #Movies with feature feature\n",
        "  feature_movies = item_vec[movies_with_feature_i[dict_genres[feature]][:400],:]\n",
        "  #Normalize data\n",
        "  feature_movies = (feature_movies - feature_movies.mean())/(feature_movies.max(axis=0) - feature_movies.min(axis=0))\n",
        "  plt.scatter(feature_movies[:,0], feature_movies[:,1], s=2, label=feature)\n",
        "plt.legend()\n",
        "plt.savefig(\"feature_embeddings.pdf\", format=\"pdf\", bbox_inches=\"tight\")"
      ],
      "metadata": {
        "id": "daWOoB4XIdSM",
        "colab": {
          "base_uri": "https://localhost:8080/",
          "height": 430
        },
        "outputId": "44845596-c44e-4b3f-cb50-c8bf8e415222"
      },
      "execution_count": 89,
      "outputs": [
        {
          "output_type": "display_data",
          "data": {
            "text/plain": [
              "<Figure size 640x480 with 1 Axes>"
            ],
            "image/png": "[encoded data removed]"
          },
          "metadata": {}
        }
      ]
    },
    {
      "cell_type": "code",
      "source": [],
      "metadata": {
        "id": "ZS1zMFt259P7"
      },
      "execution_count": null,
      "outputs": []
    }
  ],
  "metadata": {
    "colab": {
      "provenance": []
    },
    "kernelspec": {
      "display_name": "Python 3",
      "name": "python3"
    },
    "language_info": {
      "name": "python"
    }
  },
  "nbformat": 4,
  "nbformat_minor": 0
}
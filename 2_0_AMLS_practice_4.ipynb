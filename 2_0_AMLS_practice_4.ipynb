{
  "cells": [
    {
      "cell_type": "code",
      "execution_count": null,
      "metadata": {
        "id": "RUVsW3OaYewE"
      },
      "outputs": [],
      "source": [
        "import numpy as np\n",
        "import matplotlib.pyplot as plt\n",
        "import pandas as pd\n",
        "from math import sqrt\n",
        "from scipy import linalg\n",
        "from tqdm import tqdm"
      ]
    },
    {
      "cell_type": "code",
      "execution_count": null,
      "metadata": {
        "id": "ZpazueE61mf7"
      },
      "outputs": [],
      "source": []
    },
    {
      "cell_type": "markdown",
      "metadata": {
        "id": "PLN4RSPl04zW"
      },
      "source": [
        "# Dataset"
      ]
    },
    {
      "cell_type": "code",
      "execution_count": null,
      "metadata": {
        "cellView": "form",
        "colab": {
          "base_uri": "https://localhost:8080/"
        },
        "id": "jthceazUYn9I",
        "outputId": "290e2bd4-4be7-4e0a-f599-e2cab9f3fa16"
      },
      "outputs": [
        {
          "output_type": "stream",
          "name": "stdout",
          "text": [
            "--2024-05-18 19:20:23--  https://files.grouplens.org/datasets/movielens/ml-25m.zip\n",
            "Resolving files.grouplens.org (files.grouplens.org)... 128.101.65.152\n",
            "Connecting to files.grouplens.org (files.grouplens.org)|128.101.65.152|:443... connected.\n",
            "HTTP request sent, awaiting response... 200 OK\n",
            "Length: 261978986 (250M) [application/zip]\n",
            "Saving to: ‘ml-25m.zip’\n",
            "\n",
            "ml-25m.zip          100%[===================>] 249.84M  17.0MB/s    in 16s     \n",
            "\n",
            "2024-05-18 19:20:41 (15.3 MB/s) - ‘ml-25m.zip’ saved [261978986/261978986]\n",
            "\n",
            "Archive:  ml-25m.zip\n",
            "   creating: ml-25m/\n",
            "  inflating: ml-25m/tags.csv         \n",
            "  inflating: ml-25m/links.csv        \n",
            "  inflating: ml-25m/README.txt       \n",
            "  inflating: ml-25m/ratings.csv      \n",
            "  inflating: ml-25m/genome-tags.csv  \n",
            "  inflating: ml-25m/genome-scores.csv  \n",
            "  inflating: ml-25m/movies.csv       \n"
          ]
        }
      ],
      "source": [
        "#@title Data downloading\n",
        "large_data = True\n",
        "if large_data:\n",
        "  !wget https://files.grouplens.org/datasets/movielens/ml-25m.zip\n",
        "  !unzip ml-25m.zip\n",
        "  path = \"ml-25m/\"\n",
        "else:\n",
        "  !wget https://files.grouplens.org/datasets/movielens/ml-latest-small.zip\n",
        "  !unzip ml-latest-small.zip\n",
        "  path = \"ml-latest-small/\""
      ]
    },
    {
      "cell_type": "code",
      "execution_count": null,
      "metadata": {
        "id": "WsBVCB5zh_ed"
      },
      "outputs": [],
      "source": [
        "large_data = True\n",
        "if large_data:\n",
        "    path = \"ml-25m/\"\n",
        "else:\n",
        "    path = \"ml-latest-small/\""
      ]
    },
    {
      "cell_type": "code",
      "execution_count": null,
      "metadata": {
        "cellView": "form",
        "id": "6hvGYmd1YzXU"
      },
      "outputs": [],
      "source": [
        "#@title Data loading\n",
        "movies = pd.read_csv(path + \"movies.csv\")\n",
        "ratings = pd.read_csv(path + \"ratings.csv\")"
      ]
    },
    {
      "cell_type": "markdown",
      "metadata": {
        "id": "MEN7yYl6794U"
      },
      "source": [
        "## Data Indexing"
      ]
    },
    {
      "cell_type": "code",
      "execution_count": null,
      "metadata": {
        "id": "oW84fW93_Fj3"
      },
      "outputs": [],
      "source": [
        "ratings = ratings.values"
      ]
    },
    {
      "cell_type": "code",
      "execution_count": null,
      "metadata": {
        "id": "X1zdlbuiJ2gY"
      },
      "outputs": [],
      "source": [
        "M = len(np.unique(ratings[:,0]))\n",
        "N = len(np.unique(ratings[:,1]))"
      ]
    },
    {
      "cell_type": "code",
      "execution_count": null,
      "metadata": {
        "cellView": "form",
        "colab": {
          "base_uri": "https://localhost:8080/"
        },
        "id": "bF5aQhOk0QvL",
        "outputId": "27ce86e4-b065-40f8-e422-ed9a522b8298"
      },
      "outputs": [
        {
          "output_type": "stream",
          "name": "stderr",
          "text": [
            "100%|██████████| 25000095/25000095 [01:16<00:00, 325214.79it/s]\n"
          ]
        }
      ],
      "source": [
        "#@title Indexing the whole dataset\n",
        "movie_to_id = {}#dictionary\n",
        "id_to_movie = []\n",
        "user_to_id = {}#dictionary\n",
        "id_to_user = []\n",
        "data_by_user = []\n",
        "data_by_movie = []\n",
        "\n",
        "for i in tqdm(range(ratings.shape[0])):\n",
        "  u_id = ratings[i,0]\n",
        "  #check if u_id is already in user_to_id\n",
        "  if not u_id in user_to_id.keys():\n",
        "    user_to_id[u_id] = len(user_to_id)\n",
        "    id_to_user.append(u_id)\n",
        "  #get the movieId watched by user\n",
        "  m_id =  ratings[i,1]\n",
        "  #check if movieId (watched by user) is already in movie_to_id\n",
        "  if not m_id in movie_to_id.keys():\n",
        "    movie_to_id[m_id] = len(movie_to_id)\n",
        "    id_to_movie.append(m_id)\n",
        "  ###########################################\n",
        "  #add (movieId_new_id, rating) in the dict\n",
        "  try:\n",
        "    data_by_user[user_to_id[u_id]].append((movie_to_id[m_id], ratings[i,2]))\n",
        "  except:\n",
        "    data_by_user.append([(movie_to_id[m_id], ratings[i,2])])\n",
        "  ##########################################\n",
        "  #add (user_new_id, rating) in the dict\n",
        "  try:\n",
        "    data_by_movie[movie_to_id[m_id]].append((user_to_id[u_id], ratings[i,2]))\n",
        "  except:\n",
        "    data_by_movie.append([(user_to_id[u_id], ratings[i,2])])\n",
        "\n",
        "\n",
        "# M = len(user_to_id)\n",
        "# N = len(movie_to_id)\n",
        "\n",
        "#Number of ratings per users for the training set\n",
        "number_of_ratings_per_users = [int(0.8*len(l)) for l in data_by_user]"
      ]
    },
    {
      "cell_type": "code",
      "execution_count": null,
      "metadata": {
        "cellView": "form",
        "colab": {
          "base_uri": "https://localhost:8080/"
        },
        "id": "4UVbGKpyq2ZV",
        "outputId": "fe3c2c7b-674d-4981-fc6e-855fcc483c94"
      },
      "outputs": [
        {
          "output_type": "stream",
          "name": "stderr",
          "text": [
            "100%|██████████| 59047/59047 [00:24<00:00, 2373.47it/s]\n"
          ]
        }
      ],
      "source": [
        "#@title Features\n",
        "#Feature per movies\n",
        "genres = sorted(list(set('|'.join(list(movies[\"genres\"])).split(\"|\"))))#Get every genre in a list\n",
        "#Attribute a number to each movie\n",
        "dict_genres = dict(zip(genres, list(range(20))))#{'(no genres listed)': 0, 'Action': 1, 'Adventure': 2, 'Ani\n",
        "#Encode genres per movie\n",
        "features_per_movies = [[] for _ in range(N)]#a list of lists\n",
        "for n in tqdm(range(N)):\n",
        "  #get the features of the movie whose new id is i\n",
        "  genres_per_movie = list(movies[movies[\"movieId\"] == id_to_movie[n]][\"genres\"])[0].split(\"|\")\n",
        "  for g in genres_per_movie:\n",
        "    # test_data_by_movie[movie_index][2][dict_genres[g]] = 1\n",
        "    features_per_movies[n].append(dict_genres[g])#[dict_genres[g]] = 1"
      ]
    },
    {
      "cell_type": "code",
      "execution_count": 11,
      "metadata": {
        "id": "cTgx4sqmGCEY"
      },
      "outputs": [],
      "source": [
        "#@title List of movies per feature\n",
        "movies_with_feature_i = [[] for _ in range(20)]\n",
        "\n",
        "#loop over feature\n",
        "for i in range(20):\n",
        "  #loop over movies\n",
        "  for n in range(N):\n",
        "    if i in features_per_movies[n]:\n",
        "      movies_with_feature_i[i].append(n)"
      ]
    },
    {
      "cell_type": "code",
      "execution_count": null,
      "metadata": {
        "cellView": "form",
        "colab": {
          "base_uri": "https://localhost:8080/"
        },
        "id": "LTDWRcg7Vxh2",
        "outputId": "fa7189ad-dce0-48ab-a5ef-6fb18c9c10c1"
      },
      "outputs": [
        {
          "output_type": "stream",
          "name": "stderr",
          "text": [
            "100%|██████████| 25000095/25000095 [01:00<00:00, 414445.33it/s]\n"
          ]
        }
      ],
      "source": [
        "#@title Data indexing v2.1\n",
        "\n",
        "# np.random.shuffle(ratings)\n",
        "#Get number of ratings per user\n",
        "\n",
        "# movie_to_id = {}\n",
        "# id_to_movie = []\n",
        "# user_to_id = {}\n",
        "# id_to_user = []\n",
        "train_data_by_user = [[[], []] for _ in range(M)]\n",
        "train_data_by_movie = [[[], [], [0]*20] for _ in range(N)]#three components, the last reserved to feature embedding vector\n",
        "#\n",
        "test_data_by_user = [[[], []] for _ in range(M)]\n",
        "test_data_by_movie = [[[], [], [0]*20] for _ in range(N)]#three components, the last reserved to feature embedding vector\n",
        "\n",
        "#\n",
        "for i in tqdm(range(ratings.shape[0])):\n",
        "    u_id = ratings[i, 0]\n",
        "    if u_id not in user_to_id:\n",
        "      user_to_id[u_id] = len(user_to_id)\n",
        "      id_to_user.append(u_id)\n",
        "\n",
        "    m_id = ratings[i, 1]\n",
        "    if m_id not in movie_to_id:\n",
        "      movie_to_id[m_id] = len(movie_to_id)\n",
        "      id_to_movie.append(m_id)\n",
        "\n",
        "    rating = ratings[i, 2]\n",
        "    user_index = user_to_id[u_id]\n",
        "    movie_index = movie_to_id[m_id]\n",
        "\n",
        "    if len(train_data_by_user[user_to_id[u_id]][0]) < number_of_ratings_per_users[user_to_id[u_id]]:\n",
        "      train_data_by_user[user_index][0].append(movie_index)\n",
        "      train_data_by_user[user_index][1].append(rating)\n",
        "      train_data_by_movie[movie_index][0].append(user_index)\n",
        "      train_data_by_movie[movie_index][1].append(rating)\n",
        "    else:\n",
        "      test_data_by_user[user_index][0].append(movie_index)\n",
        "      test_data_by_user[user_index][1].append(rating)\n",
        "      test_data_by_movie[movie_index][0].append(user_index)\n",
        "      test_data_by_movie[movie_index][1].append(rating)"
      ]
    },
    {
      "cell_type": "markdown",
      "metadata": {
        "id": "r-XTbeac-Xps"
      },
      "source": [
        "# Training"
      ]
    },
    {
      "cell_type": "markdown",
      "metadata": {
        "id": "X1rhg3FgubR3"
      },
      "source": [
        "## Adding features\n",
        "\n",
        "The loss function with features is given by :\n",
        "\n",
        "\\begin{aligned}\n",
        "\\mathcal{L}(\\mathbf{U}, \\mathbf{V}, \\mathbf{b}^{(u)}, \\mathbf{b}^{(i)}, \\mathbf{F}) & =\n",
        "- \\frac{\\lambda}{2} \\sum_{m=1}^{M} \\sum_{n \\in \\Omega(m)} \\Big(r_{mn} -\n",
        "(\\mathbf{u}_m^T \\mathbf{v}_n + b_m^{(u)} + b_n^{(i)}) \\Big)^2 \\\\\n",
        "& \\qquad - \\frac{\\tau}{2} \\sum_{n=1}^N\n",
        "\\left(\\mathbf{v}_n - \\frac{1}{\\sqrt{F_n}} \\sum_{\\iota \\in \\mathrm{features}(n)} \\mathbf{f}_{\\iota} \\right)^T \\left(\\mathbf{v}_n - \\frac{1}{\\sqrt{F_n}} \\sum_{\\iota \\in \\mathrm{features}(n)} \\mathbf{f}_{\\iota} \\right)\n",
        "\\\\\n",
        "& \\qquad - \\frac{\\tau}{2} \\sum_{m=1}^M \\mathbf{u}_m^T \\mathbf{u}_m\n",
        "- \\frac{\\tau}{2} \\sum_{\\iota=1}^{\\mathrm{num} \\ \\mathrm{feats}} \\mathbf{f}_{\\iota}^T \\mathbf{f}_{\\iota} \\\\\n",
        "& \\qquad - \\frac{\\tau_{\\mathrm{bias}}}{2} \\sum_{m=1}^M (b_m^{(u)})^2\n",
        "- \\frac{\\tau_{\\mathrm{bias}}}{2} \\sum_{n=1}^N (b_n^{(i)})^2\n",
        "\\end{aligned}"
      ]
    },
    {
      "cell_type": "code",
      "execution_count": null,
      "metadata": {
        "id": "D8HWKf24-EwN",
        "cellView": "form"
      },
      "outputs": [],
      "source": [
        "#@title Loss function\n",
        "def loss_func(train_data_by_user, user_vec, item_vec, user_biases, item_biases, feature_vec, tau, tau_feat, gamma, lambd):\n",
        "  residual = 0\n",
        "  count = 0\n",
        "  for m in range(len(train_data_by_user)):\n",
        "    movie_indices = train_data_by_user[m][0]\n",
        "    r_m = np.array(train_data_by_user[m][1])\n",
        "    count += len(movie_indices)\n",
        "    residual += np.sum((r_m - (np.dot(user_vec[m].T, item_vec[movie_indices].T)+user_biases[m]+item_biases[movie_indices]))**2)\n",
        "  diff_item_feat = 0\n",
        "  feat_vec1 = np.array([np.sum(feature_vec[features_per_movies[n],:], axis=0)/np.sqrt(len(features_per_movies[n])) for n in range(N)])\n",
        "  feat_vec2 = np.array([np.sum(feature_vec[features_per_movies[n],:], axis=0) for n in range(N)])\n",
        "  loss = 0.5*lambd*residual + 0.5*tau*(np.sum(user_vec**2)+np.sum((item_vec - feat_vec1)**2)) + 0.5*tau_feat*np.sum(feat_vec2**2) + 0.5*gamma*(np.sum(user_biases**2)+np.sum(item_biases**2))\n",
        "  rmse = np.sqrt(residual/count)\n",
        "  return loss, rmse"
      ]
    },
    {
      "cell_type": "code",
      "execution_count": 12,
      "metadata": {
        "colab": {
          "base_uri": "https://localhost:8080/"
        },
        "id": "KqO-AqTbYRzC",
        "outputId": "7b457c41-c765-4c7e-948c-27893dd9cb3d"
      },
      "outputs": [
        {
          "output_type": "stream",
          "name": "stderr",
          "text": [
            "100%|██████████| 20/20 [57:11<00:00, 171.57s/it]\n"
          ]
        }
      ],
      "source": [
        "#@title Training v2.1\n",
        "\n",
        "#hyperparameters\n",
        "K  = 10#60#40\n",
        "lambd = 1#5#0.1\n",
        "gamma = 0.01#0.2#0.15\n",
        "tau = 0.4#0.2#0.15\n",
        "tau_feat = 0.2\n",
        "num_epoch = 20#20\n",
        "\n",
        "#Initialization\n",
        "user_vec = np.random.normal(0, 1/np.sqrt(K), size= (M, K))\n",
        "user_biases = np.zeros(M)\n",
        "item_vec = np.random.normal(0, 1/np.sqrt(K), size=(N,K))\n",
        "item_biases = np.zeros(N)\n",
        "feature_vec = np.random.normal(0, 1/np.sqrt(K), size=(20,K))\n",
        "##\n",
        "\n",
        "##\n",
        "train_loss_history = []\n",
        "test_loss_history = []\n",
        "train_rmse_history = []\n",
        "test_rmse_history = []\n",
        "\n",
        "##\n",
        "for epoch in tqdm(range(num_epoch)):\n",
        "  #user biases\n",
        "  for m in range(M):\n",
        "    movie_indices = train_data_by_user[m][0]\n",
        "    r_m = np.array(train_data_by_user[m][1])\n",
        "    numerator = np.sum(r_m - np.dot(user_vec[m].T, item_vec[movie_indices,:].T)-item_biases[movie_indices])\n",
        "    user_biases[m] = lambd*numerator/(lambd*len(r_m)+gamma)\n",
        "  #item biases\n",
        "  for n in range(N):\n",
        "    user_indices = train_data_by_movie[n][0]\n",
        "    r_n = np.array(train_data_by_movie[n][1])\n",
        "    # feature_indices = features_per_movies[n]\n",
        "    # feature_vec[feature_indices,:]\n",
        "    numerator = np.sum(r_n -np.dot(user_vec[user_indices,:], item_vec[n].T) -user_biases[user_indices])\n",
        "    item_biases[n] = lambd*numerator/(lambd*len(r_n)+gamma)\n",
        "\n",
        "  # #user_vec\n",
        "  for m in range(M):\n",
        "    movie_indices = train_data_by_user[m][0]\n",
        "    r_m = np.array(train_data_by_user[m][1])\n",
        "    term1 = lambd*np.dot(item_vec[movie_indices].T, item_vec[movie_indices])+tau*np.eye(K,K)\n",
        "    term2 = r_m - user_biases[m] - item_biases[movie_indices]\n",
        "    term2 = lambd*np.sum(item_vec[movie_indices]*term2.reshape(-1,1), axis=0)\n",
        "    user_vec[m] = linalg.solve(term1, term2)\n",
        "\n",
        "  for n in range(N):\n",
        "    user_indices = train_data_by_movie[n][0]\n",
        "    r_n = np.array(train_data_by_movie[n][1])\n",
        "    term1 = lambd*np.dot(user_vec[user_indices].T, user_vec[user_indices])+tau*np.eye(K,K)\n",
        "    term2 = r_n - user_biases[user_indices] - item_biases[n]\n",
        "    term2 = lambd*np.sum(user_vec[user_indices]*term2.reshape(-1,1), axis=0)+tau_feat*np.sum(feature_vec[features_per_movies[n],:], axis=0)/np.sqrt(len(features_per_movies[n]))\n",
        "    item_vec[n] = linalg.solve(term1, term2)\n",
        "    #\n",
        "  for i in range(20):\n",
        "    denominator = tau_feat + tau* sum([1./np.sqrt(len(features_per_movies[n])) for n in movies_with_feature_i[i]])\n",
        "    feature_vec[i,:] = tau*np.sum(item_vec[movies_with_feature_i[i],:], axis=0)/denominator\n",
        "  #Loss\n",
        "  loss, rmse = loss_func(train_data_by_user, user_vec, item_vec, user_biases, item_biases, feature_vec, tau, tau_feat, gamma, lambd)\n",
        "  train_loss_history.append(loss.copy())\n",
        "  train_rmse_history.append(rmse.copy())\n",
        "  test_loss, test_rmse = loss_func(test_data_by_user, user_vec, item_vec, user_biases, item_biases, feature_vec, tau, tau_feat, gamma, lambd)\n",
        "  test_loss_history.append(test_loss.copy())\n",
        "  test_rmse_history.append(test_rmse.copy())"
      ]
    },
    {
      "cell_type": "code",
      "execution_count": 13,
      "metadata": {
        "id": "Fw4ayvbSn0G-",
        "colab": {
          "base_uri": "https://localhost:8080/",
          "height": 480
        },
        "outputId": "a8b8d810-17bd-415c-df26-5c4c70755ad6"
      },
      "outputs": [
        {
          "output_type": "display_data",
          "data": {
            "text/plain": [
              "<Figure size 500x500 with 1 Axes>"
            ],
            "image/png": "[encoded data removed]"
          },
          "metadata": {}
        }
      ],
      "source": [
        "fig, ax = plt.subplots(figsize=(5,5))\n",
        "ax.plot(list(range(num_epoch)), train_loss_history, label=\"Training\")\n",
        "ax.plot(list(range(num_epoch)), test_loss_history, label=\"Test\")\n",
        "ax.set_xlabel(\"Number of iterations\")\n",
        "ax.set_ylabel(\"Loss\")\n",
        "ax.legend()\n",
        "# ax.title(\"Pos regularized log loss for biases+user and \")\n",
        "plt.savefig(\"reg_pos_log_loss_biases_with.pdf\", format=\"pdf\", bbox_inches=\"tight\")\n",
        "plt.show()"
      ]
    },
    {
      "cell_type": "code",
      "execution_count": 14,
      "metadata": {
        "id": "9Q9TbXFTHr-r",
        "colab": {
          "base_uri": "https://localhost:8080/",
          "height": 465
        },
        "outputId": "936792bf-203a-45bb-f243-68899fb01778"
      },
      "outputs": [
        {
          "output_type": "display_data",
          "data": {
            "text/plain": [
              "<Figure size 500x500 with 1 Axes>"
            ],
            "image/png": "[encoded data removed]"
          },
          "metadata": {}
        }
      ],
      "source": [
        "fig, ax = plt.subplots(figsize=(5,5))\n",
        "ax.plot(list(range(num_epoch)), train_rmse_history, label=\"Training\")\n",
        "ax.plot(list(range(num_epoch)), test_rmse_history, label=\"Test\")\n",
        "ax.set_xlabel(\"Number of iterations\")\n",
        "ax.set_ylabel(\"RMSE\")\n",
        "ax.legend()\n",
        "# ax.title(\"RMSE for biases+users and items\")\n",
        "plt.savefig(\"reg_rmse_for_biases_with.pdf\", format=\"pdf\", bbox_inches=\"tight\")\n",
        "# plt.show()"
      ]
    },
    {
      "cell_type": "code",
      "execution_count": null,
      "metadata": {
        "id": "0gLrSx501TlR"
      },
      "outputs": [],
      "source": []
    },
    {
      "cell_type": "code",
      "execution_count": 15,
      "metadata": {
        "id": "OxIME60wRFEO",
        "colab": {
          "base_uri": "https://localhost:8080/"
        },
        "outputId": "c96e0b7c-980b-4ce4-e9a8-988b62acffaa"
      },
      "outputs": [
        {
          "output_type": "stream",
          "name": "stdout",
          "text": [
            "user_vec saved...\n",
            "item_vec saved...\n",
            "user_biases saved...\n",
            "item_biases saved...\n",
            "train_loss_history saved...\n",
            "test_loss_history saved...\n",
            "train_rmse_history saved...\n",
            "test_rmse_history saved...\n",
            "feature_vec saved...\n",
            "  adding: content/model_amls_with_feature_19/ (stored 0%)\n",
            "  adding: content/model_amls_with_feature_19/user_vec.txt (deflated 4%)\n",
            "  adding: content/model_amls_with_feature_19/item_vec.txt (deflated 30%)\n",
            "  adding: content/model_amls_with_feature_19/test_rmse_history.txt (deflated 43%)\n",
            "  adding: content/model_amls_with_feature_19/train_rmse_history.txt (deflated 43%)\n",
            "  adding: content/model_amls_with_feature_19/user_biases.txt (deflated 7%)\n",
            "  adding: content/model_amls_with_feature_19/params.txt (deflated 7%)\n",
            "  adding: content/model_amls_with_feature_19/test_loss_history.txt (deflated 43%)\n",
            "  adding: content/model_amls_with_feature_19/item_biases.txt (deflated 37%)\n",
            "  adding: content/model_amls_with_feature_19/feature_vec.txt (deflated 2%)\n",
            "  adding: content/model_amls_with_feature_19/train_loss_history.txt (deflated 43%)\n",
            "done...\n"
          ]
        }
      ],
      "source": [
        "#@title Save my model\n",
        "# %mkdir model_amls\n",
        "# %mkdir model_amls/datasets\n",
        "import pickle\n",
        "\n",
        "%mkdir /content/model_amls_with_feature_19/\n",
        "\n",
        "path = \"/content/model_amls_with_feature_19/\"\n",
        "\n",
        "with open(path+\"params.txt\", \"w\") as file:\n",
        "    file.write(f\"K = {K}\\nlambd={lambd}\\ngamma={gamma}\\ntau={tau}\\ntau_feat={tau_feat}\\nnum_epoch = {num_epoch}\")\n",
        "\n",
        "with open(path+\"user_vec.txt\", \"wb\") as f:\n",
        "  pickle.dump(user_vec, f)\n",
        "  print(\"user_vec saved...\")\n",
        "\n",
        "with open(path+\"item_vec.txt\", \"wb\") as f:\n",
        "  pickle.dump(item_vec, f)\n",
        "  print(\"item_vec saved...\")\n",
        "\n",
        "with open(path+\"user_biases.txt\", \"wb\") as f:\n",
        "  pickle.dump(user_biases, f)\n",
        "  print(\"user_biases saved...\")\n",
        "\n",
        "with open(path+\"item_biases.txt\", \"wb\") as f:\n",
        "  pickle.dump(item_biases, f)\n",
        "  print(\"item_biases saved...\")\n",
        "\n",
        "with open(path+\"train_loss_history.txt\", \"wb\") as f:\n",
        "  pickle.dump(train_loss_history, f)\n",
        "  print(\"train_loss_history saved...\")\n",
        "\n",
        "with open(path+\"test_loss_history.txt\", \"wb\") as f:\n",
        "  pickle.dump(test_loss_history, f)\n",
        "  print(\"test_loss_history saved...\")\n",
        "\n",
        "with open(path+\"train_rmse_history.txt\", \"wb\") as f:\n",
        "  pickle.dump(train_rmse_history, f)\n",
        "  print(\"train_rmse_history saved...\")\n",
        "\n",
        "with open(path+\"test_rmse_history.txt\", \"wb\") as f:\n",
        "  pickle.dump(test_rmse_history, f)\n",
        "  print(\"test_rmse_history saved...\")\n",
        "\n",
        "with open(path+\"feature_vec.txt\", \"wb\") as f:\n",
        "  pickle.dump(feature_vec, f)\n",
        "  print(\"feature_vec saved...\")\n",
        "\n",
        "!zip -r /content/model_amls_with_feature_19.zip /content/model_amls_with_feature_19/\n",
        "\n",
        "print(\"done...\")"
      ]
    },
    {
      "cell_type": "code",
      "execution_count": 16,
      "metadata": {
        "id": "Clgk9A3B6eWO",
        "colab": {
          "base_uri": "https://localhost:8080/",
          "height": 17
        },
        "outputId": "457dad39-3afd-4373-8599-7b620facf272"
      },
      "outputs": [
        {
          "output_type": "display_data",
          "data": {
            "text/plain": [
              "<IPython.core.display.Javascript object>"
            ],
            "application/javascript": [
              "\n",
              "    async function download(id, filename, size) {\n",
              "      if (!google.colab.kernel.accessAllowed) {\n",
              "        return;\n",
              "      }\n",
              "      const div = document.createElement('div');\n",
              "      const label = document.createElement('label');\n",
              "      label.textContent = `Downloading \"${filename}\": `;\n",
              "      div.appendChild(label);\n",
              "      const progress = document.createElement('progress');\n",
              "      progress.max = size;\n",
              "      div.appendChild(progress);\n",
              "      document.body.appendChild(div);\n",
              "\n",
              "      const buffers = [];\n",
              "      let downloaded = 0;\n",
              "\n",
              "      const channel = await google.colab.kernel.comms.open(id);\n",
              "      // Send a message to notify the kernel that we're ready.\n",
              "      channel.send({})\n",
              "\n",
              "      for await (const message of channel.messages) {\n",
              "        // Send a message to notify the kernel that we're ready.\n",
              "        channel.send({})\n",
              "        if (message.buffers) {\n",
              "          for (const buffer of message.buffers) {\n",
              "            buffers.push(buffer);\n",
              "            downloaded += buffer.byteLength;\n",
              "            progress.value = downloaded;\n",
              "          }\n",
              "        }\n",
              "      }\n",
              "      const blob = new Blob(buffers, {type: 'application/binary'});\n",
              "      const a = document.createElement('a');\n",
              "      a.href = window.URL.createObjectURL(blob);\n",
              "      a.download = filename;\n",
              "      div.appendChild(a);\n",
              "      a.click();\n",
              "      div.remove();\n",
              "    }\n",
              "  "
            ]
          },
          "metadata": {}
        },
        {
          "output_type": "display_data",
          "data": {
            "text/plain": [
              "<IPython.core.display.Javascript object>"
            ],
            "application/javascript": [
              "download(\"download_d451db7b-8f95-43c5-8482-88681b519c0b\", \"model_amls_with_feature_19.zip\", 17266216)"
            ]
          },
          "metadata": {}
        }
      ],
      "source": [
        "from google.colab import files\n",
        "files.download(path[:-1]+\".zip\")"
      ]
    },
    {
      "cell_type": "markdown",
      "source": [
        "# Prediction"
      ],
      "metadata": {
        "id": "H3iZlJWLH2FL"
      }
    },
    {
      "cell_type": "code",
      "source": [
        "#@title Load model\n",
        "\n",
        "import pickle\n",
        "\n",
        "!unzip /content/model_amls_18_3.zip\n",
        "\n",
        "path = \"/content/model_amls_18_3/\"\n",
        "\n",
        "with open(path+\"user_vec.txt\", \"rb\") as f:\n",
        "  user_vec = pickle.load(f)\n",
        "\n",
        "with open(path+\"item_vec.txt\", \"rb\") as f:\n",
        "  item_vec = pickle.load(f)\n",
        "\n",
        "with open(path+\"user_biases.txt\", \"rb\") as f:\n",
        "  user_biases = pickle.load(f)\n",
        "\n",
        "with open(path+\"item_biases.txt\", \"rb\") as f:\n",
        "  item_biases = pickle.load(f)\n",
        "\n",
        "with open(path+\"item_biases.txt\", \"rb\") as f:\n",
        "  item_biases = pickle.load(f)"
      ],
      "metadata": {
        "cellView": "form",
        "id": "gku2uOraH4MW",
        "colab": {
          "base_uri": "https://localhost:8080/"
        },
        "outputId": "fa0b5451-8218-4b47-8f9d-5ac6a0e2b8b1"
      },
      "execution_count": null,
      "outputs": [
        {
          "output_type": "stream",
          "name": "stdout",
          "text": [
            "Archive:  /content/model_amls_18_3.zip\n",
            "replace model_amls_18_3/params.txt? [y]es, [n]o, [A]ll, [N]one, [r]ename: None\n"
          ]
        }
      ]
    },
    {
      "cell_type": "code",
      "execution_count": 17,
      "metadata": {
        "id": "RCtmW1xHOpH9"
      },
      "outputs": [],
      "source": [
        "#Get all movie rated more than 20 times\n",
        "movie_rated_more_than_20 = [n for n in range(N) if len(data_by_movie[n])>20]"
      ]
    },
    {
      "cell_type": "code",
      "execution_count": 18,
      "metadata": {
        "id": "NOwdUsNc0Jbe"
      },
      "outputs": [],
      "source": [
        "#Sort list and return indixes\n",
        "def sort_with_indices(lst):\n",
        "  indexed_lst = list(enumerate(lst))\n",
        "  indexed_lst.sort(key=lambda x: x[1], reverse=True)  # Sort based on the elements (x[1])\n",
        "  sorted_indices = [x[0] for x in indexed_lst]  # Extract the sorted indices\n",
        "  return sorted_indices"
      ]
    },
    {
      "cell_type": "code",
      "execution_count": 20,
      "metadata": {
        "id": "fBLTc6UCOcEz",
        "colab": {
          "base_uri": "https://localhost:8080/",
          "height": 693
        },
        "outputId": "0b0021ce-200b-4e25-8e8b-ae274eb20e21"
      },
      "outputs": [
        {
          "output_type": "stream",
          "name": "stdout",
          "text": [
            "You rate this movie : Avengers: Age of Ultron (2015)\n"
          ]
        },
        {
          "output_type": "execute_result",
          "data": {
            "text/plain": [
              "       movieId                                              title  \\\n",
              "16725    88140          Captain America: The First Avenger (2011)   \n",
              "17067    89745                               Avengers, The (2012)   \n",
              "21348   110102         Captain America: The Winter Soldier (2014)   \n",
              "25058   122892                     Avengers: Age of Ultron (2015)   \n",
              "25067   122912             Avengers: Infinity War - Part I (2018)   \n",
              "25068   122914            Avengers: Infinity War - Part II (2019)   \n",
              "25071   122920                  Captain America: Civil War (2016)   \n",
              "27980   130634                                   Furious 7 (2015)   \n",
              "44390   168122                                         Raw (2017)   \n",
              "25074   122926                  Untitled Spider-Man Reboot (2017)   \n",
              "25069   122916                              Thor: Ragnarok (2017)   \n",
              "22037   113216                  Suspect, The (Yong-eui-ja) (2013)   \n",
              "6980      7105                            Shot at Glory, A (2000)   \n",
              "45675   170875                     The Fate of the Furious (2017)   \n",
              "3966      4070                                         Amy (1998)   \n",
              "14287    74150                                  Falling Up (2009)   \n",
              "21345   110070                                 From Within (2008)   \n",
              "24031   120392                                       Comet (2014)   \n",
              "16401    86728           Gentle Woman, A (Une femme douce) (1969)   \n",
              "32240   140481  Family Guy Presents: Something, Something, Som...   \n",
              "\n",
              "                                     genres  \n",
              "16725  Action|Adventure|Sci-Fi|Thriller|War  \n",
              "17067          Action|Adventure|Sci-Fi|IMAX  \n",
              "21348          Action|Adventure|Sci-Fi|IMAX  \n",
              "25058               Action|Adventure|Sci-Fi  \n",
              "25067               Action|Adventure|Sci-Fi  \n",
              "25068               Action|Adventure|Sci-Fi  \n",
              "25071                Action|Sci-Fi|Thriller  \n",
              "27980                 Action|Crime|Thriller  \n",
              "44390                                 Drama  \n",
              "25074              Action|Adventure|Fantasy  \n",
              "25069               Action|Adventure|Sci-Fi  \n",
              "22037                       Action|Thriller  \n",
              "6980                                  Drama  \n",
              "45675           Action|Crime|Drama|Thriller  \n",
              "3966                           Comedy|Drama  \n",
              "14287                  Comedy|Drama|Romance  \n",
              "21345                       Horror|Thriller  \n",
              "24031           Comedy|Drama|Romance|Sci-Fi  \n",
              "16401                                 Drama  \n",
              "32240               Animation|Comedy|Sci-Fi  "
            ],
            "text/html": [
              "\n",
              "  <div id=\"df-123691e3-758d-4ad4-b137-9bd221cf29dc\" class=\"colab-df-container\">\n",
              "    <div>\n",
              "<style scoped>\n",
              "    .dataframe tbody tr th:only-of-type {\n",
              "        vertical-align: middle;\n",
              "    }\n",
              "\n",
              "    .dataframe tbody tr th {\n",
              "        vertical-align: top;\n",
              "    }\n",
              "\n",
              "    .dataframe thead th {\n",
              "        text-align: right;\n",
              "    }\n",
              "</style>\n",
              "<table border=\"1\" class=\"dataframe\">\n",
              "  <thead>\n",
              "    <tr style=\"text-align: right;\">\n",
              "      <th></th>\n",
              "      <th>movieId</th>\n",
              "      <th>title</th>\n",
              "      <th>genres</th>\n",
              "    </tr>\n",
              "  </thead>\n",
              "  <tbody>\n",
              "    <tr>\n",
              "      <th>16725</th>\n",
              "      <td>88140</td>\n",
              "      <td>Captain America: The First Avenger (2011)</td>\n",
              "      <td>Action|Adventure|Sci-Fi|Thriller|War</td>\n",
              "    </tr>\n",
              "    <tr>\n",
              "      <th>17067</th>\n",
              "      <td>89745</td>\n",
              "      <td>Avengers, The (2012)</td>\n",
              "      <td>Action|Adventure|Sci-Fi|IMAX</td>\n",
              "    </tr>\n",
              "    <tr>\n",
              "      <th>21348</th>\n",
              "      <td>110102</td>\n",
              "      <td>Captain America: The Winter Soldier (2014)</td>\n",
              "      <td>Action|Adventure|Sci-Fi|IMAX</td>\n",
              "    </tr>\n",
              "    <tr>\n",
              "      <th>25058</th>\n",
              "      <td>122892</td>\n",
              "      <td>Avengers: Age of Ultron (2015)</td>\n",
              "      <td>Action|Adventure|Sci-Fi</td>\n",
              "    </tr>\n",
              "    <tr>\n",
              "      <th>25067</th>\n",
              "      <td>122912</td>\n",
              "      <td>Avengers: Infinity War - Part I (2018)</td>\n",
              "      <td>Action|Adventure|Sci-Fi</td>\n",
              "    </tr>\n",
              "    <tr>\n",
              "      <th>25068</th>\n",
              "      <td>122914</td>\n",
              "      <td>Avengers: Infinity War - Part II (2019)</td>\n",
              "      <td>Action|Adventure|Sci-Fi</td>\n",
              "    </tr>\n",
              "    <tr>\n",
              "      <th>25071</th>\n",
              "      <td>122920</td>\n",
              "      <td>Captain America: Civil War (2016)</td>\n",
              "      <td>Action|Sci-Fi|Thriller</td>\n",
              "    </tr>\n",
              "    <tr>\n",
              "      <th>27980</th>\n",
              "      <td>130634</td>\n",
              "      <td>Furious 7 (2015)</td>\n",
              "      <td>Action|Crime|Thriller</td>\n",
              "    </tr>\n",
              "    <tr>\n",
              "      <th>44390</th>\n",
              "      <td>168122</td>\n",
              "      <td>Raw (2017)</td>\n",
              "      <td>Drama</td>\n",
              "    </tr>\n",
              "    <tr>\n",
              "      <th>25074</th>\n",
              "      <td>122926</td>\n",
              "      <td>Untitled Spider-Man Reboot (2017)</td>\n",
              "      <td>Action|Adventure|Fantasy</td>\n",
              "    </tr>\n",
              "    <tr>\n",
              "      <th>25069</th>\n",
              "      <td>122916</td>\n",
              "      <td>Thor: Ragnarok (2017)</td>\n",
              "      <td>Action|Adventure|Sci-Fi</td>\n",
              "    </tr>\n",
              "    <tr>\n",
              "      <th>22037</th>\n",
              "      <td>113216</td>\n",
              "      <td>Suspect, The (Yong-eui-ja) (2013)</td>\n",
              "      <td>Action|Thriller</td>\n",
              "    </tr>\n",
              "    <tr>\n",
              "      <th>6980</th>\n",
              "      <td>7105</td>\n",
              "      <td>Shot at Glory, A (2000)</td>\n",
              "      <td>Drama</td>\n",
              "    </tr>\n",
              "    <tr>\n",
              "      <th>45675</th>\n",
              "      <td>170875</td>\n",
              "      <td>The Fate of the Furious (2017)</td>\n",
              "      <td>Action|Crime|Drama|Thriller</td>\n",
              "    </tr>\n",
              "    <tr>\n",
              "      <th>3966</th>\n",
              "      <td>4070</td>\n",
              "      <td>Amy (1998)</td>\n",
              "      <td>Comedy|Drama</td>\n",
              "    </tr>\n",
              "    <tr>\n",
              "      <th>14287</th>\n",
              "      <td>74150</td>\n",
              "      <td>Falling Up (2009)</td>\n",
              "      <td>Comedy|Drama|Romance</td>\n",
              "    </tr>\n",
              "    <tr>\n",
              "      <th>21345</th>\n",
              "      <td>110070</td>\n",
              "      <td>From Within (2008)</td>\n",
              "      <td>Horror|Thriller</td>\n",
              "    </tr>\n",
              "    <tr>\n",
              "      <th>24031</th>\n",
              "      <td>120392</td>\n",
              "      <td>Comet (2014)</td>\n",
              "      <td>Comedy|Drama|Romance|Sci-Fi</td>\n",
              "    </tr>\n",
              "    <tr>\n",
              "      <th>16401</th>\n",
              "      <td>86728</td>\n",
              "      <td>Gentle Woman, A (Une femme douce) (1969)</td>\n",
              "      <td>Drama</td>\n",
              "    </tr>\n",
              "    <tr>\n",
              "      <th>32240</th>\n",
              "      <td>140481</td>\n",
              "      <td>Family Guy Presents: Something, Something, Som...</td>\n",
              "      <td>Animation|Comedy|Sci-Fi</td>\n",
              "    </tr>\n",
              "  </tbody>\n",
              "</table>\n",
              "</div>\n",
              "    <div class=\"colab-df-buttons\">\n",
              "\n",
              "  <div class=\"colab-df-container\">\n",
              "    <button class=\"colab-df-convert\" onclick=\"convertToInteractive('df-123691e3-758d-4ad4-b137-9bd221cf29dc')\"\n",
              "            title=\"Convert this dataframe to an interactive table.\"\n",
              "            style=\"display:none;\">\n",
              "\n",
              "  <svg xmlns=\"http://www.w3.org/2000/svg\" height=\"24px\" viewBox=\"0 -960 960 960\">\n",
              "    <path d=\"M120-120v-720h720v720H120Zm60-500h600v-160H180v160Zm220 220h160v-160H400v160Zm0 220h160v-160H400v160ZM180-400h160v-160H180v160Zm440 0h160v-160H620v160ZM180-180h160v-160H180v160Zm440 0h160v-160H620v160Z\"/>\n",
              "  </svg>\n",
              "    </button>\n",
              "\n",
              "  <style>\n",
              "    .colab-df-container {\n",
              "      display:flex;\n",
              "      gap: 12px;\n",
              "    }\n",
              "\n",
              "    .colab-df-convert {\n",
              "      background-color: #E8F0FE;\n",
              "      border: none;\n",
              "      border-radius: 50%;\n",
              "      cursor: pointer;\n",
              "      display: none;\n",
              "      fill: #1967D2;\n",
              "      height: 32px;\n",
              "      padding: 0 0 0 0;\n",
              "      width: 32px;\n",
              "    }\n",
              "\n",
              "    .colab-df-convert:hover {\n",
              "      background-color: #E2EBFA;\n",
              "      box-shadow: 0px 1px 2px rgba(60, 64, 67, 0.3), 0px 1px 3px 1px rgba(60, 64, 67, 0.15);\n",
              "      fill: #174EA6;\n",
              "    }\n",
              "\n",
              "    .colab-df-buttons div {\n",
              "      margin-bottom: 4px;\n",
              "    }\n",
              "\n",
              "    [theme=dark] .colab-df-convert {\n",
              "      background-color: #3B4455;\n",
              "      fill: #D2E3FC;\n",
              "    }\n",
              "\n",
              "    [theme=dark] .colab-df-convert:hover {\n",
              "      background-color: #434B5C;\n",
              "      box-shadow: 0px 1px 3px 1px rgba(0, 0, 0, 0.15);\n",
              "      filter: drop-shadow(0px 1px 2px rgba(0, 0, 0, 0.3));\n",
              "      fill: #FFFFFF;\n",
              "    }\n",
              "  </style>\n",
              "\n",
              "    <script>\n",
              "      const buttonEl =\n",
              "        document.querySelector('#df-123691e3-758d-4ad4-b137-9bd221cf29dc button.colab-df-convert');\n",
              "      buttonEl.style.display =\n",
              "        google.colab.kernel.accessAllowed ? 'block' : 'none';\n",
              "\n",
              "      async function convertToInteractive(key) {\n",
              "        const element = document.querySelector('#df-123691e3-758d-4ad4-b137-9bd221cf29dc');\n",
              "        const dataTable =\n",
              "          await google.colab.kernel.invokeFunction('convertToInteractive',\n",
              "                                                    [key], {});\n",
              "        if (!dataTable) return;\n",
              "\n",
              "        const docLinkHtml = 'Like what you see? Visit the ' +\n",
              "          '<a target=\"_blank\" href=https://colab.research.google.com/notebooks/data_table.ipynb>data table notebook</a>'\n",
              "          + ' to learn more about interactive tables.';\n",
              "        element.innerHTML = '';\n",
              "        dataTable['output_type'] = 'display_data';\n",
              "        await google.colab.output.renderOutput(dataTable, element);\n",
              "        const docLink = document.createElement('div');\n",
              "        docLink.innerHTML = docLinkHtml;\n",
              "        element.appendChild(docLink);\n",
              "      }\n",
              "    </script>\n",
              "  </div>\n",
              "\n",
              "\n",
              "<div id=\"df-0aee9b86-2a50-430c-8e0f-83be4cceaa0a\">\n",
              "  <button class=\"colab-df-quickchart\" onclick=\"quickchart('df-0aee9b86-2a50-430c-8e0f-83be4cceaa0a')\"\n",
              "            title=\"Suggest charts\"\n",
              "            style=\"display:none;\">\n",
              "\n",
              "<svg xmlns=\"http://www.w3.org/2000/svg\" height=\"24px\"viewBox=\"0 0 24 24\"\n",
              "     width=\"24px\">\n",
              "    <g>\n",
              "        <path d=\"M19 3H5c-1.1 0-2 .9-2 2v14c0 1.1.9 2 2 2h14c1.1 0 2-.9 2-2V5c0-1.1-.9-2-2-2zM9 17H7v-7h2v7zm4 0h-2V7h2v10zm4 0h-2v-4h2v4z\"/>\n",
              "    </g>\n",
              "</svg>\n",
              "  </button>\n",
              "\n",
              "<style>\n",
              "  .colab-df-quickchart {\n",
              "      --bg-color: #E8F0FE;\n",
              "      --fill-color: #1967D2;\n",
              "      --hover-bg-color: #E2EBFA;\n",
              "      --hover-fill-color: #174EA6;\n",
              "      --disabled-fill-color: #AAA;\n",
              "      --disabled-bg-color: #DDD;\n",
              "  }\n",
              "\n",
              "  [theme=dark] .colab-df-quickchart {\n",
              "      --bg-color: #3B4455;\n",
              "      --fill-color: #D2E3FC;\n",
              "      --hover-bg-color: #434B5C;\n",
              "      --hover-fill-color: #FFFFFF;\n",
              "      --disabled-bg-color: #3B4455;\n",
              "      --disabled-fill-color: #666;\n",
              "  }\n",
              "\n",
              "  .colab-df-quickchart {\n",
              "    background-color: var(--bg-color);\n",
              "    border: none;\n",
              "    border-radius: 50%;\n",
              "    cursor: pointer;\n",
              "    display: none;\n",
              "    fill: var(--fill-color);\n",
              "    height: 32px;\n",
              "    padding: 0;\n",
              "    width: 32px;\n",
              "  }\n",
              "\n",
              "  .colab-df-quickchart:hover {\n",
              "    background-color: var(--hover-bg-color);\n",
              "    box-shadow: 0 1px 2px rgba(60, 64, 67, 0.3), 0 1px 3px 1px rgba(60, 64, 67, 0.15);\n",
              "    fill: var(--button-hover-fill-color);\n",
              "  }\n",
              "\n",
              "  .colab-df-quickchart-complete:disabled,\n",
              "  .colab-df-quickchart-complete:disabled:hover {\n",
              "    background-color: var(--disabled-bg-color);\n",
              "    fill: var(--disabled-fill-color);\n",
              "    box-shadow: none;\n",
              "  }\n",
              "\n",
              "  .colab-df-spinner {\n",
              "    border: 2px solid var(--fill-color);\n",
              "    border-color: transparent;\n",
              "    border-bottom-color: var(--fill-color);\n",
              "    animation:\n",
              "      spin 1s steps(1) infinite;\n",
              "  }\n",
              "\n",
              "  @keyframes spin {\n",
              "    0% {\n",
              "      border-color: transparent;\n",
              "      border-bottom-color: var(--fill-color);\n",
              "      border-left-color: var(--fill-color);\n",
              "    }\n",
              "    20% {\n",
              "      border-color: transparent;\n",
              "      border-left-color: var(--fill-color);\n",
              "      border-top-color: var(--fill-color);\n",
              "    }\n",
              "    30% {\n",
              "      border-color: transparent;\n",
              "      border-left-color: var(--fill-color);\n",
              "      border-top-color: var(--fill-color);\n",
              "      border-right-color: var(--fill-color);\n",
              "    }\n",
              "    40% {\n",
              "      border-color: transparent;\n",
              "      border-right-color: var(--fill-color);\n",
              "      border-top-color: var(--fill-color);\n",
              "    }\n",
              "    60% {\n",
              "      border-color: transparent;\n",
              "      border-right-color: var(--fill-color);\n",
              "    }\n",
              "    80% {\n",
              "      border-color: transparent;\n",
              "      border-right-color: var(--fill-color);\n",
              "      border-bottom-color: var(--fill-color);\n",
              "    }\n",
              "    90% {\n",
              "      border-color: transparent;\n",
              "      border-bottom-color: var(--fill-color);\n",
              "    }\n",
              "  }\n",
              "</style>\n",
              "\n",
              "  <script>\n",
              "    async function quickchart(key) {\n",
              "      const quickchartButtonEl =\n",
              "        document.querySelector('#' + key + ' button');\n",
              "      quickchartButtonEl.disabled = true;  // To prevent multiple clicks.\n",
              "      quickchartButtonEl.classList.add('colab-df-spinner');\n",
              "      try {\n",
              "        const charts = await google.colab.kernel.invokeFunction(\n",
              "            'suggestCharts', [key], {});\n",
              "      } catch (error) {\n",
              "        console.error('Error during call to suggestCharts:', error);\n",
              "      }\n",
              "      quickchartButtonEl.classList.remove('colab-df-spinner');\n",
              "      quickchartButtonEl.classList.add('colab-df-quickchart-complete');\n",
              "    }\n",
              "    (() => {\n",
              "      let quickchartButtonEl =\n",
              "        document.querySelector('#df-0aee9b86-2a50-430c-8e0f-83be4cceaa0a button');\n",
              "      quickchartButtonEl.style.display =\n",
              "        google.colab.kernel.accessAllowed ? 'block' : 'none';\n",
              "    })();\n",
              "  </script>\n",
              "</div>\n",
              "    </div>\n",
              "  </div>\n"
            ],
            "application/vnd.google.colaboratory.intrinsic+json": {
              "type": "dataframe",
              "summary": "{\n  \"name\": \"movies\",\n  \"rows\": 20,\n  \"fields\": [\n    {\n      \"column\": \"movieId\",\n      \"properties\": {\n        \"dtype\": \"number\",\n        \"std\": 42278,\n        \"min\": 4070,\n        \"max\": 170875,\n        \"samples\": [\n          88140,\n          120392,\n          74150\n        ],\n        \"num_unique_values\": 20,\n        \"semantic_type\": \"\",\n        \"description\": \"\"\n      }\n    },\n    {\n      \"column\": \"title\",\n      \"properties\": {\n        \"dtype\": \"string\",\n        \"samples\": [\n          \"Captain America: The First Avenger (2011)\",\n          \"Comet (2014)\",\n          \"Falling Up (2009)\"\n        ],\n        \"num_unique_values\": 20,\n        \"semantic_type\": \"\",\n        \"description\": \"\"\n      }\n    },\n    {\n      \"column\": \"genres\",\n      \"properties\": {\n        \"dtype\": \"string\",\n        \"samples\": [\n          \"Comedy|Drama\",\n          \"Horror|Thriller\",\n          \"Action|Adventure|Sci-Fi|Thriller|War\"\n        ],\n        \"num_unique_values\": 14,\n        \"semantic_type\": \"\",\n        \"description\": \"\"\n      }\n    }\n  ]\n}"
            }
          },
          "metadata": {},
          "execution_count": 20
        }
      ],
      "source": [
        " #@title Dummpy user 2\n",
        "K = 10\n",
        "# K = 10\n",
        "# lambd=10\n",
        "# gamma=0.4\n",
        "# tau=0.2\n",
        "tau_feat=0.1\n",
        "#get a movie id#4896\n",
        "movie_id = 122892\n",
        "rate = 5\n",
        "# print()\n",
        "\n",
        "print(f\"You rate this movie : {movies.iloc[np.where(movies['movieId'].values == movie_id)[0][0]].title}\")\n",
        "#train a dummpy user\n",
        "new_user = np.zeros(K)\n",
        "r_m = np.array([rate])\n",
        "movie_indices = [movie_to_id[movie_id]]\n",
        "num_epoch = 20\n",
        "for epoch in range(num_epoch):\n",
        "  # numerator = np.sum(r_m - np.dot(new_user, item_vec[movie_indices,:].T)-item_biases[movie_indices])\n",
        "  # user_biases = lambd*numerator/(lambd*len(r_m)+gamma)\n",
        "  term1 = lambd*np.dot(item_vec[movie_indices].T, item_vec[movie_indices])+tau*np.eye(K,K)\n",
        "  term2 = r_m - item_biases[movie_indices]\n",
        "  term2 = lambd*np.sum(item_vec[movie_indices]*term2.reshape(-1,1), axis=0)\n",
        "  new_user = linalg.solve(term1, term2)\n",
        "\n",
        "#Make Recommendation\n",
        "#Compute the cost\n",
        "score_for_item = np.array([np.dot(new_user, item_vec[n])+item_biases[n] for n in range(N)])\n",
        "#Compute some recommendations\n",
        "recommendation_idx = np.where(score_for_item >= 4.5)[0]\n",
        "#Get movie recommended id\n",
        "recommendations = [np.where(movies[\"movieId\"].values == id_to_movie[idx])[0][0] for idx in recommendation_idx[:20] ]\n",
        "movies.iloc[recommendations]"
      ]
    },
    {
      "cell_type": "markdown",
      "metadata": {
        "id": "agskJkTRXxo-"
      },
      "source": [
        "# Feature embeddings"
      ]
    },
    {
      "cell_type": "markdown",
      "metadata": {
        "id": "tBqjLQaVX0xa"
      },
      "source": []
    },
    {
      "cell_type": "code",
      "execution_count": 21,
      "metadata": {
        "id": "GHhF-VI1E0ar"
      },
      "outputs": [],
      "source": [
        "frequence_features= [len(movies_with_feature_i[i]) for i in range(20)]\n",
        "#get three feature with highest size\n",
        "# idx = sort_with_indices(frequence_features)[:3]"
      ]
    },
    {
      "cell_type": "code",
      "execution_count": 22,
      "metadata": {
        "id": "lYEYLUWtF6uB"
      },
      "outputs": [],
      "source": [
        "idx = [dict_genres[g] for g in [\"Children\", \"Horror\"]]"
      ]
    },
    {
      "cell_type": "markdown",
      "source": [
        "# Feature embeddings with $K=2$"
      ],
      "metadata": {
        "id": "0zrM7ux_ITKe"
      }
    },
    {
      "cell_type": "code",
      "execution_count": 24,
      "metadata": {
        "id": "PGgGcrOmIkji",
        "colab": {
          "base_uri": "https://localhost:8080/"
        },
        "outputId": "7df4fbad-055a-461d-a3f8-3ba76fffde46"
      },
      "outputs": [
        {
          "output_type": "stream",
          "name": "stderr",
          "text": [
            "100%|██████████| 10/10 [16:33<00:00, 99.40s/it]\n"
          ]
        }
      ],
      "source": [
        "#@title Training v2.1\n",
        "\n",
        "#hyperparameters\n",
        "K  = 2#60#40\n",
        "# lambd = 5#5#0.1\n",
        "# gamma = 0.4#0.2#0.15\n",
        "# tau = 0.2#0.2#0.15\n",
        "# tau_feat = 0.1\n",
        "num_epoch = 10#20\n",
        "\n",
        "#Initialization\n",
        "user_vec = np.random.normal(0, 1/np.sqrt(K), size= (M, K))\n",
        "user_biases = np.zeros(M)\n",
        "item_vec = np.random.normal(0, 1/np.sqrt(K), size=(N,K))\n",
        "item_biases = np.zeros(N)\n",
        "feature_vec = np.random.normal(0, 1/np.sqrt(K), size=(20,K))\n",
        "##\n",
        "\n",
        "##\n",
        "train_loss_history = []\n",
        "test_loss_history = []\n",
        "train_rmse_history = []\n",
        "test_rmse_history = []\n",
        "\n",
        "##\n",
        "for epoch in tqdm(range(num_epoch)):\n",
        "  #user biases\n",
        "  for m in range(M):\n",
        "    movie_indices = train_data_by_user[m][0]\n",
        "    r_m = np.array(train_data_by_user[m][1])\n",
        "    numerator = np.sum(r_m - np.dot(user_vec[m].T, item_vec[movie_indices,:].T)-item_biases[movie_indices])\n",
        "    user_biases[m] = lambd*numerator/(lambd*len(r_m)+gamma)\n",
        "  #item biases\n",
        "  for n in range(N):\n",
        "    user_indices = train_data_by_movie[n][0]\n",
        "    r_n = np.array(train_data_by_movie[n][1])\n",
        "    # feature_indices = features_per_movies[n]\n",
        "    # feature_vec[feature_indices,:]\n",
        "    numerator = np.sum(r_n -np.dot(user_vec[user_indices,:], item_vec[n].T) -user_biases[user_indices])\n",
        "    item_biases[n] = lambd*numerator/(lambd*len(r_n)+gamma)\n",
        "\n",
        "  # #user_vec\n",
        "  for m in range(M):\n",
        "    movie_indices = train_data_by_user[m][0]\n",
        "    r_m = np.array(train_data_by_user[m][1])\n",
        "    term1 = lambd*np.dot(item_vec[movie_indices].T, item_vec[movie_indices])+tau*np.eye(K,K)\n",
        "    term2 = r_m - user_biases[m] - item_biases[movie_indices]\n",
        "    term2 = lambd*np.sum(item_vec[movie_indices]*term2.reshape(-1,1), axis=0)\n",
        "    user_vec[m] = linalg.solve(term1, term2)\n",
        "\n",
        "  for n in range(N):\n",
        "    user_indices = train_data_by_movie[n][0]\n",
        "    r_n = np.array(train_data_by_movie[n][1])\n",
        "    term1 = lambd*np.dot(user_vec[user_indices].T, user_vec[user_indices])+tau*np.eye(K,K)\n",
        "    term2 = r_n - user_biases[user_indices] - item_biases[n]\n",
        "    term2 = lambd*np.sum(user_vec[user_indices]*term2.reshape(-1,1), axis=0)+tau_feat*np.sum(feature_vec[features_per_movies[n],:], axis=0)/np.sqrt(len(features_per_movies[n]))\n",
        "    item_vec[n] = linalg.solve(term1, term2)\n",
        "    #\n",
        "  for i in range(20):\n",
        "    denominator = tau_feat + tau* sum([1./np.sqrt(len(features_per_movies[n])) for n in movies_with_feature_i[i]])\n",
        "    feature_vec[i,:] = tau*np.sum(item_vec[movies_with_feature_i[i],:], axis=0)/denominator\n",
        "  #Loss\n",
        "  loss, rmse = loss_func(train_data_by_user, user_vec, item_vec, user_biases, item_biases, feature_vec, tau, tau_feat, gamma, lambd)\n",
        "  train_loss_history.append(loss.copy())\n",
        "  train_rmse_history.append(rmse.copy())\n",
        "  test_loss, test_rmse = loss_func(test_data_by_user, user_vec, item_vec, user_biases, item_biases, feature_vec, tau, tau_feat, gamma, lambd)\n",
        "  test_loss_history.append(test_loss.copy())\n",
        "  test_rmse_history.append(test_rmse.copy())"
      ]
    },
    {
      "cell_type": "code",
      "source": [
        "\n",
        "#Indices of movies with genres Children\n",
        "# movies_with_feature_i[dict_genres[\"Children\"]][:10]\n",
        "for feature in [\"Children\", \"Horror\"]:\n",
        "  #Movies with feature feature\n",
        "  feature_movies = item_vec[movies_with_feature_i[dict_genres[feature]][:400],:]\n",
        "  #Normalize data\n",
        "  feature_movies = (feature_movies - feature_movies.mean())/(feature_movies.max(axis=0) - feature_movies.min(axis=0))\n",
        "  plt.scatter(feature_movies[:,0], feature_movies[:,1], s=2, label=feature)\n",
        "plt.legend()\n",
        "plt.savefig(\"feature_embeddings.pdf\", format=\"pdf\", bbox_inches=\"tight\")"
      ],
      "metadata": {
        "id": "daWOoB4XIdSM",
        "colab": {
          "base_uri": "https://localhost:8080/",
          "height": 430
        },
        "outputId": "240c3a3e-c2ec-4302-c80c-6569a5fcf23e"
      },
      "execution_count": 25,
      "outputs": [
        {
          "output_type": "display_data",
          "data": {
            "text/plain": [
              "<Figure size 640x480 with 1 Axes>"
            ],
            "image/png": "[encoded data removed]"
          },
          "metadata": {}
        }
      ]
    },
    {
      "cell_type": "code",
      "source": [
        "for feature in [\"Action\", \"War\"]:\n",
        "  #Movies with feature feature\n",
        "  feature_movies = item_vec[movies_with_feature_i[dict_genres[feature]][:400],:]\n",
        "  #Normalize data\n",
        "  feature_movies = (feature_movies - feature_movies.mean())/(feature_movies.max(axis=0) - feature_movies.min(axis=0))\n",
        "  plt.scatter(feature_movies[:,0], feature_movies[:,1], s=2, label=feature)\n",
        "plt.legend()\n",
        "plt.savefig(\"feature_embeddings.pdf\", format=\"pdf\", bbox_inches=\"tight\")"
      ],
      "metadata": {
        "id": "ZS1zMFt259P7",
        "colab": {
          "base_uri": "https://localhost:8080/",
          "height": 430
        },
        "outputId": "f8e1098d-5474-4920-ec6d-203dc81376b4"
      },
      "execution_count": 27,
      "outputs": [
        {
          "output_type": "display_data",
          "data": {
            "text/plain": [
              "<Figure size 640x480 with 1 Axes>"
            ],
            "image/png": "[encoded data removed]"
          },
          "metadata": {}
        }
      ]
    },
    {
      "cell_type": "code",
      "source": [],
      "metadata": {
        "id": "svMa7dn1sp2n"
      },
      "execution_count": null,
      "outputs": []
    }
  ],
  "metadata": {
    "colab": {
      "provenance": []
    },
    "kernelspec": {
      "display_name": "Python 3",
      "name": "python3"
    },
    "language_info": {
      "name": "python"
    }
  },
  "nbformat": 4,
  "nbformat_minor": 0
}
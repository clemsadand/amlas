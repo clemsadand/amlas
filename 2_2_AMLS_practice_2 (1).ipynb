{
  "cells": [
    {
      "cell_type": "code",
      "execution_count": null,
      "metadata": {
        "id": "RUVsW3OaYewE"
      },
      "outputs": [],
      "source": [
        "import numpy as np\n",
        "import matplotlib.pyplot as plt\n",
        "import pandas as pd\n",
        "from math import sqrt\n",
        "from scipy import linalg\n",
        "from tqdm import tqdm"
      ]
    },
    {
      "cell_type": "code",
      "execution_count": null,
      "metadata": {
        "id": "42h8ntExW1Sm"
      },
      "outputs": [],
      "source": [
        "# !pip uninstall cupy-cuda110 cupy-cuda12x\n",
        "# !pip install cupy-cuda110\n",
        "# import cupy as cp"
      ]
    },
    {
      "cell_type": "code",
      "execution_count": null,
      "metadata": {
        "colab": {
          "base_uri": "https://localhost:8080/"
        },
        "id": "jthceazUYn9I",
        "outputId": "e7c98f6f-f81f-444f-abab-a4d6cd99eecb"
      },
      "outputs": [
        {
          "output_type": "stream",
          "name": "stdout",
          "text": [
            "--2024-05-13 19:48:09--  https://files.grouplens.org/datasets/movielens/ml-latest-small.zip\n",
            "Resolving files.grouplens.org (files.grouplens.org)... 128.101.65.152\n",
            "Connecting to files.grouplens.org (files.grouplens.org)|128.101.65.152|:443... connected.\n",
            "HTTP request sent, awaiting response... 200 OK\n",
            "Length: 978202 (955K) [application/zip]\n",
            "Saving to: ‘ml-latest-small.zip’\n",
            "\n",
            "ml-latest-small.zip 100%[===================>] 955.28K  3.04MB/s    in 0.3s    \n",
            "\n",
            "2024-05-13 19:48:09 (3.04 MB/s) - ‘ml-latest-small.zip’ saved [978202/978202]\n",
            "\n",
            "Archive:  ml-latest-small.zip\n",
            "   creating: ml-latest-small/\n",
            "  inflating: ml-latest-small/links.csv  \n",
            "  inflating: ml-latest-small/tags.csv  \n",
            "  inflating: ml-latest-small/ratings.csv  \n",
            "  inflating: ml-latest-small/README.txt  \n",
            "  inflating: ml-latest-small/movies.csv  \n"
          ]
        }
      ],
      "source": [
        "large_data = False\n",
        "if large_data:\n",
        "  !wget https://files.grouplens.org/datasets/movielens/ml-25m.zip\n",
        "  !unzip ml-25m.zip\n",
        "  path = \"ml-25m/\"\n",
        "else:\n",
        "  !wget https://files.grouplens.org/datasets/movielens/ml-latest-small.zip\n",
        "  !unzip ml-latest-small.zip\n",
        "  path = \"ml-latest-small/\""
      ]
    },
    {
      "cell_type": "markdown",
      "metadata": {
        "id": "LiyLQqec6Dk3"
      },
      "source": [
        "# Datasets"
      ]
    },
    {
      "cell_type": "code",
      "execution_count": null,
      "metadata": {
        "id": "WsBVCB5zh_ed"
      },
      "outputs": [],
      "source": [
        "large_data = False\n",
        "if large_data:\n",
        "    path = \"ml-25m/\"\n",
        "else:\n",
        "    path = \"ml-latest-small/\"\n"
      ]
    },
    {
      "cell_type": "code",
      "execution_count": null,
      "metadata": {
        "id": "6hvGYmd1YzXU"
      },
      "outputs": [],
      "source": [
        "movies = pd.read_csv(path + \"movies.csv\")"
      ]
    },
    {
      "cell_type": "code",
      "execution_count": null,
      "metadata": {
        "colab": {
          "base_uri": "https://localhost:8080/"
        },
        "id": "MfFx_ObAFfos",
        "outputId": "6a4f092a-334c-443f-bff4-0019e839abe5"
      },
      "outputs": [
        {
          "output_type": "stream",
          "name": "stdout",
          "text": [
            "Number of movies :  9742\n",
            "Number of genres :  20\n",
            "Many of the movies have the genre Western\n"
          ]
        }
      ],
      "source": [
        "print(\"Number of movies : \",movies.shape[0])\n",
        "genres = '|'.join(list(movies[\"genres\"])).split(\"|\")\n",
        "print(\"Number of genres : \",len(set(genres)))\n",
        "print(f\"Many of the movies have the genre {max(genres)}\")"
      ]
    },
    {
      "cell_type": "code",
      "execution_count": null,
      "metadata": {
        "id": "TGmvogVD1SA3"
      },
      "outputs": [],
      "source": [
        "tags = pd.read_csv(path + \"tags.csv\")"
      ]
    },
    {
      "cell_type": "code",
      "execution_count": null,
      "metadata": {
        "colab": {
          "base_uri": "https://localhost:8080/"
        },
        "id": "7mQdkIB7KSt9",
        "outputId": "9dd2c6ca-2483-4722-9991-1a687c8af4d3"
      },
      "outputs": [
        {
          "output_type": "stream",
          "name": "stdout",
          "text": [
            "Number of tags :  3683\n",
            "The higher number of tags is 1507 and come from the user 474\n",
            "The lower number of tags is 1 and come from the user 7\n",
            "The movie the most tagged is 296 and has been tagged 181 times\n",
            "The movie the least tagged is 7 and has been tagged 1 times\n"
          ]
        }
      ],
      "source": [
        "print(\"Number of tags : \", tags.shape[0])\n",
        "u_id, counts = np.unique(tags.userId.values, return_counts=True)\n",
        "print(f\"The higher number of tags is {np.max(counts)} and come from the user {u_id[np.argmax(counts)]}\")\n",
        "print(f\"The lower number of tags is {np.min(counts)} and come from the user {u_id[np.argmin(counts)]}\")\n",
        "del u_id, counts\n",
        "m_id, counts = np.unique(tags.movieId.values, return_counts=True)\n",
        "print(f\"The movie the most tagged is {m_id[np.argmax(counts)]} and has been tagged {max(counts)} times\")\n",
        "print(f\"The movie the least tagged is {m_id[np.argmin(counts)]} and has been tagged {min(counts)} times\")\n",
        "del m_id, counts"
      ]
    },
    {
      "cell_type": "code",
      "execution_count": null,
      "metadata": {
        "id": "niIbwkAe4Hjg",
        "colab": {
          "base_uri": "https://localhost:8080/",
          "height": 300
        },
        "outputId": "efcaf580-3fd7-4dc6-d883-55d8300c5008"
      },
      "outputs": [
        {
          "output_type": "execute_result",
          "data": {
            "text/plain": [
              "   userId  movieId  rating  timestamp\n",
              "0       1        1     4.0  964982703\n",
              "1       1        3     4.0  964981247\n",
              "2       1        6     4.0  964982224\n",
              "3       1       47     5.0  964983815\n",
              "4       1       50     5.0  964982931\n",
              "5       1       70     3.0  964982400\n",
              "6       1      101     5.0  964980868\n",
              "7       1      110     4.0  964982176"
            ],
            "text/html": [
              "\n",
              "  <div id=\"df-16ceb0fb-7eae-4bb5-87a8-b7b87e0f66f7\" class=\"colab-df-container\">\n",
              "    <div>\n",
              "<style scoped>\n",
              "    .dataframe tbody tr th:only-of-type {\n",
              "        vertical-align: middle;\n",
              "    }\n",
              "\n",
              "    .dataframe tbody tr th {\n",
              "        vertical-align: top;\n",
              "    }\n",
              "\n",
              "    .dataframe thead th {\n",
              "        text-align: right;\n",
              "    }\n",
              "</style>\n",
              "<table border=\"1\" class=\"dataframe\">\n",
              "  <thead>\n",
              "    <tr style=\"text-align: right;\">\n",
              "      <th></th>\n",
              "      <th>userId</th>\n",
              "      <th>movieId</th>\n",
              "      <th>rating</th>\n",
              "      <th>timestamp</th>\n",
              "    </tr>\n",
              "  </thead>\n",
              "  <tbody>\n",
              "    <tr>\n",
              "      <th>0</th>\n",
              "      <td>1</td>\n",
              "      <td>1</td>\n",
              "      <td>4.0</td>\n",
              "      <td>964982703</td>\n",
              "    </tr>\n",
              "    <tr>\n",
              "      <th>1</th>\n",
              "      <td>1</td>\n",
              "      <td>3</td>\n",
              "      <td>4.0</td>\n",
              "      <td>964981247</td>\n",
              "    </tr>\n",
              "    <tr>\n",
              "      <th>2</th>\n",
              "      <td>1</td>\n",
              "      <td>6</td>\n",
              "      <td>4.0</td>\n",
              "      <td>964982224</td>\n",
              "    </tr>\n",
              "    <tr>\n",
              "      <th>3</th>\n",
              "      <td>1</td>\n",
              "      <td>47</td>\n",
              "      <td>5.0</td>\n",
              "      <td>964983815</td>\n",
              "    </tr>\n",
              "    <tr>\n",
              "      <th>4</th>\n",
              "      <td>1</td>\n",
              "      <td>50</td>\n",
              "      <td>5.0</td>\n",
              "      <td>964982931</td>\n",
              "    </tr>\n",
              "    <tr>\n",
              "      <th>5</th>\n",
              "      <td>1</td>\n",
              "      <td>70</td>\n",
              "      <td>3.0</td>\n",
              "      <td>964982400</td>\n",
              "    </tr>\n",
              "    <tr>\n",
              "      <th>6</th>\n",
              "      <td>1</td>\n",
              "      <td>101</td>\n",
              "      <td>5.0</td>\n",
              "      <td>964980868</td>\n",
              "    </tr>\n",
              "    <tr>\n",
              "      <th>7</th>\n",
              "      <td>1</td>\n",
              "      <td>110</td>\n",
              "      <td>4.0</td>\n",
              "      <td>964982176</td>\n",
              "    </tr>\n",
              "  </tbody>\n",
              "</table>\n",
              "</div>\n",
              "    <div class=\"colab-df-buttons\">\n",
              "\n",
              "  <div class=\"colab-df-container\">\n",
              "    <button class=\"colab-df-convert\" onclick=\"convertToInteractive('df-16ceb0fb-7eae-4bb5-87a8-b7b87e0f66f7')\"\n",
              "            title=\"Convert this dataframe to an interactive table.\"\n",
              "            style=\"display:none;\">\n",
              "\n",
              "  <svg xmlns=\"http://www.w3.org/2000/svg\" height=\"24px\" viewBox=\"0 -960 960 960\">\n",
              "    <path d=\"M120-120v-720h720v720H120Zm60-500h600v-160H180v160Zm220 220h160v-160H400v160Zm0 220h160v-160H400v160ZM180-400h160v-160H180v160Zm440 0h160v-160H620v160ZM180-180h160v-160H180v160Zm440 0h160v-160H620v160Z\"/>\n",
              "  </svg>\n",
              "    </button>\n",
              "\n",
              "  <style>\n",
              "    .colab-df-container {\n",
              "      display:flex;\n",
              "      gap: 12px;\n",
              "    }\n",
              "\n",
              "    .colab-df-convert {\n",
              "      background-color: #E8F0FE;\n",
              "      border: none;\n",
              "      border-radius: 50%;\n",
              "      cursor: pointer;\n",
              "      display: none;\n",
              "      fill: #1967D2;\n",
              "      height: 32px;\n",
              "      padding: 0 0 0 0;\n",
              "      width: 32px;\n",
              "    }\n",
              "\n",
              "    .colab-df-convert:hover {\n",
              "      background-color: #E2EBFA;\n",
              "      box-shadow: 0px 1px 2px rgba(60, 64, 67, 0.3), 0px 1px 3px 1px rgba(60, 64, 67, 0.15);\n",
              "      fill: #174EA6;\n",
              "    }\n",
              "\n",
              "    .colab-df-buttons div {\n",
              "      margin-bottom: 4px;\n",
              "    }\n",
              "\n",
              "    [theme=dark] .colab-df-convert {\n",
              "      background-color: #3B4455;\n",
              "      fill: #D2E3FC;\n",
              "    }\n",
              "\n",
              "    [theme=dark] .colab-df-convert:hover {\n",
              "      background-color: #434B5C;\n",
              "      box-shadow: 0px 1px 3px 1px rgba(0, 0, 0, 0.15);\n",
              "      filter: drop-shadow(0px 1px 2px rgba(0, 0, 0, 0.3));\n",
              "      fill: #FFFFFF;\n",
              "    }\n",
              "  </style>\n",
              "\n",
              "    <script>\n",
              "      const buttonEl =\n",
              "        document.querySelector('#df-16ceb0fb-7eae-4bb5-87a8-b7b87e0f66f7 button.colab-df-convert');\n",
              "      buttonEl.style.display =\n",
              "        google.colab.kernel.accessAllowed ? 'block' : 'none';\n",
              "\n",
              "      async function convertToInteractive(key) {\n",
              "        const element = document.querySelector('#df-16ceb0fb-7eae-4bb5-87a8-b7b87e0f66f7');\n",
              "        const dataTable =\n",
              "          await google.colab.kernel.invokeFunction('convertToInteractive',\n",
              "                                                    [key], {});\n",
              "        if (!dataTable) return;\n",
              "\n",
              "        const docLinkHtml = 'Like what you see? Visit the ' +\n",
              "          '<a target=\"_blank\" href=https://colab.research.google.com/notebooks/data_table.ipynb>data table notebook</a>'\n",
              "          + ' to learn more about interactive tables.';\n",
              "        element.innerHTML = '';\n",
              "        dataTable['output_type'] = 'display_data';\n",
              "        await google.colab.output.renderOutput(dataTable, element);\n",
              "        const docLink = document.createElement('div');\n",
              "        docLink.innerHTML = docLinkHtml;\n",
              "        element.appendChild(docLink);\n",
              "      }\n",
              "    </script>\n",
              "  </div>\n",
              "\n",
              "\n",
              "<div id=\"df-a5eb3059-0f88-4f5c-af73-a36d6f9cdbdd\">\n",
              "  <button class=\"colab-df-quickchart\" onclick=\"quickchart('df-a5eb3059-0f88-4f5c-af73-a36d6f9cdbdd')\"\n",
              "            title=\"Suggest charts\"\n",
              "            style=\"display:none;\">\n",
              "\n",
              "<svg xmlns=\"http://www.w3.org/2000/svg\" height=\"24px\"viewBox=\"0 0 24 24\"\n",
              "     width=\"24px\">\n",
              "    <g>\n",
              "        <path d=\"M19 3H5c-1.1 0-2 .9-2 2v14c0 1.1.9 2 2 2h14c1.1 0 2-.9 2-2V5c0-1.1-.9-2-2-2zM9 17H7v-7h2v7zm4 0h-2V7h2v10zm4 0h-2v-4h2v4z\"/>\n",
              "    </g>\n",
              "</svg>\n",
              "  </button>\n",
              "\n",
              "<style>\n",
              "  .colab-df-quickchart {\n",
              "      --bg-color: #E8F0FE;\n",
              "      --fill-color: #1967D2;\n",
              "      --hover-bg-color: #E2EBFA;\n",
              "      --hover-fill-color: #174EA6;\n",
              "      --disabled-fill-color: #AAA;\n",
              "      --disabled-bg-color: #DDD;\n",
              "  }\n",
              "\n",
              "  [theme=dark] .colab-df-quickchart {\n",
              "      --bg-color: #3B4455;\n",
              "      --fill-color: #D2E3FC;\n",
              "      --hover-bg-color: #434B5C;\n",
              "      --hover-fill-color: #FFFFFF;\n",
              "      --disabled-bg-color: #3B4455;\n",
              "      --disabled-fill-color: #666;\n",
              "  }\n",
              "\n",
              "  .colab-df-quickchart {\n",
              "    background-color: var(--bg-color);\n",
              "    border: none;\n",
              "    border-radius: 50%;\n",
              "    cursor: pointer;\n",
              "    display: none;\n",
              "    fill: var(--fill-color);\n",
              "    height: 32px;\n",
              "    padding: 0;\n",
              "    width: 32px;\n",
              "  }\n",
              "\n",
              "  .colab-df-quickchart:hover {\n",
              "    background-color: var(--hover-bg-color);\n",
              "    box-shadow: 0 1px 2px rgba(60, 64, 67, 0.3), 0 1px 3px 1px rgba(60, 64, 67, 0.15);\n",
              "    fill: var(--button-hover-fill-color);\n",
              "  }\n",
              "\n",
              "  .colab-df-quickchart-complete:disabled,\n",
              "  .colab-df-quickchart-complete:disabled:hover {\n",
              "    background-color: var(--disabled-bg-color);\n",
              "    fill: var(--disabled-fill-color);\n",
              "    box-shadow: none;\n",
              "  }\n",
              "\n",
              "  .colab-df-spinner {\n",
              "    border: 2px solid var(--fill-color);\n",
              "    border-color: transparent;\n",
              "    border-bottom-color: var(--fill-color);\n",
              "    animation:\n",
              "      spin 1s steps(1) infinite;\n",
              "  }\n",
              "\n",
              "  @keyframes spin {\n",
              "    0% {\n",
              "      border-color: transparent;\n",
              "      border-bottom-color: var(--fill-color);\n",
              "      border-left-color: var(--fill-color);\n",
              "    }\n",
              "    20% {\n",
              "      border-color: transparent;\n",
              "      border-left-color: var(--fill-color);\n",
              "      border-top-color: var(--fill-color);\n",
              "    }\n",
              "    30% {\n",
              "      border-color: transparent;\n",
              "      border-left-color: var(--fill-color);\n",
              "      border-top-color: var(--fill-color);\n",
              "      border-right-color: var(--fill-color);\n",
              "    }\n",
              "    40% {\n",
              "      border-color: transparent;\n",
              "      border-right-color: var(--fill-color);\n",
              "      border-top-color: var(--fill-color);\n",
              "    }\n",
              "    60% {\n",
              "      border-color: transparent;\n",
              "      border-right-color: var(--fill-color);\n",
              "    }\n",
              "    80% {\n",
              "      border-color: transparent;\n",
              "      border-right-color: var(--fill-color);\n",
              "      border-bottom-color: var(--fill-color);\n",
              "    }\n",
              "    90% {\n",
              "      border-color: transparent;\n",
              "      border-bottom-color: var(--fill-color);\n",
              "    }\n",
              "  }\n",
              "</style>\n",
              "\n",
              "  <script>\n",
              "    async function quickchart(key) {\n",
              "      const quickchartButtonEl =\n",
              "        document.querySelector('#' + key + ' button');\n",
              "      quickchartButtonEl.disabled = true;  // To prevent multiple clicks.\n",
              "      quickchartButtonEl.classList.add('colab-df-spinner');\n",
              "      try {\n",
              "        const charts = await google.colab.kernel.invokeFunction(\n",
              "            'suggestCharts', [key], {});\n",
              "      } catch (error) {\n",
              "        console.error('Error during call to suggestCharts:', error);\n",
              "      }\n",
              "      quickchartButtonEl.classList.remove('colab-df-spinner');\n",
              "      quickchartButtonEl.classList.add('colab-df-quickchart-complete');\n",
              "    }\n",
              "    (() => {\n",
              "      let quickchartButtonEl =\n",
              "        document.querySelector('#df-a5eb3059-0f88-4f5c-af73-a36d6f9cdbdd button');\n",
              "      quickchartButtonEl.style.display =\n",
              "        google.colab.kernel.accessAllowed ? 'block' : 'none';\n",
              "    })();\n",
              "  </script>\n",
              "</div>\n",
              "    </div>\n",
              "  </div>\n"
            ],
            "application/vnd.google.colaboratory.intrinsic+json": {
              "type": "dataframe",
              "variable_name": "ratings"
            }
          },
          "metadata": {},
          "execution_count": 7
        }
      ],
      "source": [
        "ratings = pd.read_csv(path + \"ratings.csv\")\n",
        "ratings.head(8)"
      ]
    },
    {
      "cell_type": "code",
      "execution_count": null,
      "metadata": {
        "id": "nhpJUH3k4d0a",
        "colab": {
          "base_uri": "https://localhost:8080/"
        },
        "outputId": "68f1fd49-e488-4786-e2e1-616d46553ada"
      },
      "outputs": [
        {
          "output_type": "stream",
          "name": "stdout",
          "text": [
            "The number of users rated a movie is  610\n",
            "The user rated the most of movies is 414 and has rated 2698\n",
            "The user ids are numberred from 1 to 610\n",
            "The number of movies rated is :  9724\n",
            "The movie the most rated is 356 and has been rated 329 times\n",
            "The mean of ratings is : 3.501556983616962\n",
            "The small rating is 0.5\n",
            "The bigger rating is 5.0\n"
          ]
        }
      ],
      "source": [
        "u_id, counts = np.unique(ratings.userId.values, return_counts=True)\n",
        "print(\"The number of users rated a movie is \",len(u_id))\n",
        "print(f\"The user rated the most of movies is {u_id[np.argmax(counts)]} and has rated {np.max(counts)}\")\n",
        "print(f\"The user ids are numberred from {min(u_id)} to {max(u_id)}\")\n",
        "del u_id, counts\n",
        "\n",
        "m_id, counts = np.unique(ratings.movieId.values, return_counts=True)\n",
        "print(\"The number of movies rated is : \",len(m_id))\n",
        "print(f\"The movie the most rated is {m_id[np.argmax(counts)]} and has been rated {np.max(counts)} times\")\n",
        "del m_id, counts\n",
        "print(f\"The mean of ratings is : {ratings.rating.values.mean()}\")\n",
        "print(f\"The small rating is {np.min(ratings.rating.values)}\")\n",
        "print(f\"The bigger rating is {np.max(ratings.rating.values)}\")"
      ]
    },
    {
      "cell_type": "markdown",
      "metadata": {
        "id": "MEN7yYl6794U"
      },
      "source": [
        "# Data Indexing"
      ]
    },
    {
      "cell_type": "code",
      "execution_count": null,
      "metadata": {
        "id": "oW84fW93_Fj3"
      },
      "outputs": [],
      "source": [
        "ratings = ratings.values"
      ]
    },
    {
      "cell_type": "code",
      "execution_count": null,
      "metadata": {
        "id": "X1zdlbuiJ2gY"
      },
      "outputs": [],
      "source": [
        "M = len(np.unique(ratings[:,0]))\n",
        "N = len(np.unique(ratings[:,1]))"
      ]
    },
    {
      "cell_type": "code",
      "execution_count": null,
      "metadata": {
        "id": "bF5aQhOk0QvL",
        "cellView": "form"
      },
      "outputs": [],
      "source": [
        "#@title Indexing the whole dataset\n",
        "movie_to_id = {}#dictionary\n",
        "id_to_movie = []\n",
        "user_to_id = {}#dictionary\n",
        "id_to_user = []\n",
        "data_by_user = []\n",
        "data_by_movie = []\n",
        "\n",
        "for i in range(ratings.shape[0]):\n",
        "  u_id = ratings[i,0]\n",
        "  #check if u_id is already in user_to_id\n",
        "  if not u_id in user_to_id.keys():\n",
        "    user_to_id[u_id] = len(user_to_id)\n",
        "    id_to_user.append(u_id)\n",
        "  #get the movieId watched by user\n",
        "  m_id =  ratings[i,1]\n",
        "  #check if movieId (watched by user) is already in movie_to_id\n",
        "  if not m_id in movie_to_id.keys():\n",
        "    movie_to_id[m_id] = len(movie_to_id)\n",
        "    id_to_movie.append(m_id)\n",
        "  ###########################################\n",
        "  #add (movieId_new_id, rating) in the dict\n",
        "  try:\n",
        "    data_by_user[user_to_id[u_id]].append((movie_to_id[m_id], ratings[i,2]))\n",
        "  except:\n",
        "    data_by_user.append([(movie_to_id[m_id], ratings[i,2])])\n",
        "  ##########################################\n",
        "  #add (user_new_id, rating) in the dict\n",
        "  try:\n",
        "    data_by_movie[movie_to_id[m_id]].append((user_to_id[u_id], ratings[i,2]))\n",
        "  except:\n",
        "    data_by_movie.append([(user_to_id[u_id], ratings[i,2])])\n",
        "\n",
        "\n",
        "M = len(user_to_id)\n",
        "N = len(movie_to_id)\n",
        "\n",
        "#Number of ratings per users for the training set\n",
        "number_of_ratings_per_users = [int(0.8*len(l)) for l in data_by_user]"
      ]
    },
    {
      "cell_type": "code",
      "execution_count": null,
      "metadata": {
        "id": "oJyHwN_GuqZc"
      },
      "outputs": [],
      "source": [
        "# number_of_ratings_per_users = [int(0.8*len(np.where(ratings[:,0] == id)[0])) for id in np.sort(np.unique(ratings[:,0]))]"
      ]
    },
    {
      "cell_type": "code",
      "execution_count": null,
      "metadata": {
        "cellView": "form",
        "id": "JiNh88xN-xjB"
      },
      "outputs": [],
      "source": [
        "#@title Data indexing v1\n",
        "# import numpy as np\n",
        "\n",
        "movie_to_id = {}\n",
        "id_to_movie = []\n",
        "user_to_id = {}\n",
        "id_to_user = []\n",
        "train_data_by_user = [[] for _ in range(M)]\n",
        "train_data_by_movie = [[] for _ in range(N)]\n",
        "#\n",
        "test_data_by_user = [[] for _ in range(M)]\n",
        "test_data_by_movie = [[] for _ in range(N)]\n",
        "\n",
        "num_of_users_in_the_train_set = 0\n",
        "for i in range(ratings.shape[0]):\n",
        "    u_id = ratings[i, 0]\n",
        "    if u_id not in user_to_id:\n",
        "      num_of_users_in_the_train_set += 1\n",
        "      user_to_id[u_id] = len(user_to_id)\n",
        "      id_to_user.append(u_id)\n",
        "\n",
        "    m_id = ratings[i, 1]\n",
        "    if m_id not in movie_to_id:\n",
        "      movie_to_id[m_id] = len(movie_to_id)\n",
        "      id_to_movie.append(m_id)\n",
        "\n",
        "    rating = ratings[i, 2]\n",
        "    user_index = user_to_id[u_id]\n",
        "    movie_index = movie_to_id[m_id]\n",
        "\n",
        "    if num_of_users_in_the_train_set < int(M * 0.8):\n",
        "      train_data_by_user[user_index].append((movie_index, rating))\n",
        "      train_data_by_movie[movie_index].append((user_index, rating))\n",
        "    else:\n",
        "      test_data_by_user[user_index].append((movie_index, rating))\n",
        "      test_data_by_movie[movie_index].append((user_index, rating))\n",
        "\n",
        "    # data_by_movie[movie_index].append((user_index, rating))"
      ]
    },
    {
      "cell_type": "code",
      "execution_count": null,
      "metadata": {
        "id": "pQ7oePNwkPcZ",
        "colab": {
          "base_uri": "https://localhost:8080/"
        },
        "outputId": "aca666ad-f7a5-429a-de85-8b3946c4ad84"
      },
      "outputs": [
        {
          "output_type": "stream",
          "name": "stdout",
          "text": [
            "2\n",
            "2\n"
          ]
        }
      ],
      "source": [
        "print(len(train_data_by_user[0][0]))\n",
        "print(len(train_data_by_user[0][1]))"
      ]
    },
    {
      "cell_type": "code",
      "execution_count": null,
      "metadata": {
        "id": "J52F4Eicm3rY",
        "colab": {
          "base_uri": "https://localhost:8080/"
        },
        "outputId": "03d9e148-5093-4917-905e-c0b3bad17fb0"
      },
      "outputs": [
        {
          "output_type": "stream",
          "name": "stdout",
          "text": [
            "15\n"
          ]
        }
      ],
      "source": [
        "A = np.array([[1, 2], [3,-1]])\n",
        "print(np.sum(A**2))"
      ]
    },
    {
      "cell_type": "code",
      "execution_count": null,
      "metadata": {
        "id": "5Tg6v53ZLr8v",
        "colab": {
          "base_uri": "https://localhost:8080/"
        },
        "outputId": "31f97115-0e7c-40a5-bda8-31cc14e398e1"
      },
      "outputs": [
        {
          "output_type": "stream",
          "name": "stdout",
          "text": [
            "610\n"
          ]
        }
      ],
      "source": [
        "print(num_of_users_in_the_train_set)"
      ]
    },
    {
      "cell_type": "code",
      "execution_count": null,
      "metadata": {
        "id": "PzN76SX4gQ9a"
      },
      "outputs": [],
      "source": [
        "# print(len(train_data_by_user))\n",
        "# print(len(test_data_by_user))"
      ]
    },
    {
      "cell_type": "code",
      "execution_count": null,
      "metadata": {
        "id": "EGLTRXABXh79"
      },
      "outputs": [],
      "source": [
        "# i = 0\n",
        "# boolean = True\n",
        "# while (i< num_of_users_in_the_train_set) and boolean:\n",
        "#   i += 1\n",
        "#   boolean = len(train_data_by_user[i]) + len(test_data_by_user[i]) == len(np.where(ratings[:,0] == id_to_user[i])[0])\n",
        "\n",
        "# print(boolean)"
      ]
    },
    {
      "cell_type": "markdown",
      "metadata": {
        "id": "54mP-0r8TUtF"
      },
      "source": [
        "# Training the model"
      ]
    },
    {
      "cell_type": "code",
      "execution_count": null,
      "metadata": {
        "cellView": "form",
        "id": "TJiJcERJsLAr"
      },
      "outputs": [],
      "source": [
        "#@title v1\n",
        "\n",
        "#hyperparameters\n",
        "K  = 10\n",
        "lambd = 1\n",
        "gamma = 1e-4\n",
        "tau = 0.8\n",
        "num_epoch = 10\n",
        "\n",
        "#Initialization\n",
        "user_vec = np.random.randn(M, K)/np.sqrt(K)\n",
        "user_biases = np.zeros(M)\n",
        "item_vec = np.random.randn(K, N)/np.sqrt(K)\n",
        "item_biases = np.zeros(N)\n",
        "##\n",
        "train_losses = []\n",
        "test_losses = []\n",
        "list_rmse_train = []\n",
        "list_rmse_test = []\n",
        "\n",
        "##\n",
        "for epoch in tqdm(range(num_epoch)):\n",
        "  for m in range(M):\n",
        "    #update user_vec[m,:] and update item_biases[:,n]\n",
        "    first_term = np.zeros((K,K))\n",
        "    second_term = np.zeros(K)\n",
        "    bias = 0\n",
        "    item_counter = 0\n",
        "    for (n,r) in train_data_by_user[m]:\n",
        "      first_term += np.transpose(item_vec[:,n]).dot(item_vec[:,n])\n",
        "      second_term += item_vec[:,n]*(r - user_biases[m] - item_biases[n])\n",
        "      bias += lambd * (r-(user_vec[m,:].dot(item_vec[:,n].T)+item_biases[n]))\n",
        "      item_counter += 1\n",
        "    bias = bias/(lambd*item_counter + gamma)\n",
        "    user_biases[m] = bias\n",
        "    first_term = lambd*first_term + tau* np.eye(K,K)\n",
        "    second_term = np.transpose(second_term*lambd)\n",
        "    user_vec[m,:] = linalg.solve(first_term, second_term)\n",
        "  #\n",
        "  for n in range(N):\n",
        "    #update item_vec[:,n]\n",
        "    first_term = np.zeros((K,K))\n",
        "    second_term = np.zeros(K)\n",
        "    bias = 0\n",
        "    user_counter = 0\n",
        "    for (m,r) in train_data_by_movie[n]:\n",
        "      first_term += np.transpose(user_vec[m,]).dot(user_vec[m,:])\n",
        "      second_term += user_vec[m,:]*(r - user_biases[m] - item_biases[n])\n",
        "      bias += lambd * (r-(user_vec[m,:].dot(item_vec[:,n].T)+user_biases[m]))\n",
        "      user_counter += 1\n",
        "    bias = bias/(lambd*user_counter + gamma)\n",
        "    item_biases[n] = bias\n",
        "    first_term = lambd*first_term + tau* np.eye(K,K)\n",
        "    second_term = np.transpose(second_term*lambd)\n",
        "    item_vec[:,n] = linalg.solve(first_term, second_term)\n",
        "    #update item_biases\n",
        "  #Loss and rmse\n",
        "  loss_train = 0.0\n",
        "  item_counter = 0\n",
        "  som = 0\n",
        "  for m in range(len(train_data_by_user)):\n",
        "    for (n,r) in train_data_by_user[m]:\n",
        "      item_counter += 1\n",
        "      som += (r-(user_vec[m,:].dot(item_vec[:,n].T) + user_biases[m] + item_biases[n]))**2\n",
        "  loss_train += 0.5*lambd*som + 0.5*tau*(np.sum(user_vec**2)+np.sum(item_vec**2))+0.5*gamma*(np.sum(user_biases**2)+np.sum(item_biases**2))\n",
        "  rmse = np.sqrt(som/item_counter)\n",
        "  train_losses.append(loss_train.copy())\n",
        "  list_rmse_train.append(rmse.copy())"
      ]
    },
    {
      "cell_type": "code",
      "source": [
        "np.transpose(item_vec[:,n]).dot(item_vec[:,n])"
      ],
      "metadata": {
        "colab": {
          "base_uri": "https://localhost:8080/"
        },
        "id": "UPRtkRFBYjNK",
        "outputId": "02846abe-3f84-4f64-9c08-eca344d5a11a"
      },
      "execution_count": null,
      "outputs": [
        {
          "output_type": "execute_result",
          "data": {
            "text/plain": [
              "8.450516920597347e+24"
            ]
          },
          "metadata": {},
          "execution_count": 15
        }
      ]
    },
    {
      "cell_type": "code",
      "execution_count": null,
      "metadata": {
        "id": "bCKfWKROldge"
      },
      "outputs": [],
      "source": [
        "# loss = 0\n",
        "# for m in range(M):\n",
        "#   for (n,r) in train_data_by_user:\n",
        "\n",
        "# som1 = np.sum(user_vec**2)#sum([user_vec[m,:].matmul(user_vec[m,:].T) for m in range(M)])\n",
        "# som2 = np.sum(item_vec**2)#sum([item_vec[:,n].matmul(item_vec[:,n].T) for n in range(N)])\n",
        "# som3 = np.sum(user_biases**2)+np.sum(item_biases**2)"
      ]
    },
    {
      "cell_type": "code",
      "execution_count": null,
      "metadata": {
        "id": "H6EKw0KGZh73"
      },
      "outputs": [],
      "source": [
        "fig, ax = plt.subplots(1,2, figsize=(10,4))\n",
        "ax[0].plot(list(range(num_epoch)), train_losses, label=\"Training\")\n",
        "# ax[0].plot(list(range(num_epoch)), losses_test, label=\"Test\")\n",
        "ax[0].set_title(\"Training Loss\")\n",
        "ax[0].legend()\n",
        "ax[1].plot(list(range(num_epoch)), list_rmse_train, label=\"Training\")\n",
        "# ax[1].plot(list(range(num_epoch)), list_rmse_test, label=\"Test\")\n",
        "ax[1].legend()\n",
        "ax[1].set_title(\"RMSE\")\n",
        "plt.show()"
      ]
    },
    {
      "cell_type": "code",
      "execution_count": null,
      "metadata": {
        "cellView": "form",
        "id": "l5cm_bYfAqPn",
        "colab": {
          "base_uri": "https://localhost:8080/"
        },
        "outputId": "d9175330-e09b-4cca-f494-1fdfe9239c9f"
      },
      "outputs": [
        {
          "output_type": "stream",
          "name": "stderr",
          "text": [
            "100%|██████████| 100836/100836 [00:00<00:00, 179555.48it/s]\n"
          ]
        }
      ],
      "source": [
        "#@title Data indexing v2\n",
        "\n",
        "np.random.shuffle(ratings)\n",
        "\n",
        "movie_to_id = {}\n",
        "id_to_movie = []\n",
        "user_to_id = {}\n",
        "id_to_user = []\n",
        "train_data_by_user = [[[], []] for _ in range(M)]\n",
        "train_data_by_movie = [[[], []] for _ in range(N)]\n",
        "#\n",
        "test_data_by_user = [[[], []] for _ in range(M)]\n",
        "test_data_by_movie = [[[], []] for _ in range(N)]\n",
        "\n",
        "num_of_users_in_the_train_set = 0\n",
        "for i in tqdm(range(ratings.shape[0])):\n",
        "    u_id = ratings[i, 0]\n",
        "    if u_id not in user_to_id:\n",
        "      num_of_users_in_the_train_set += 1\n",
        "      user_to_id[u_id] = len(user_to_id)\n",
        "      id_to_user.append(u_id)\n",
        "\n",
        "    m_id = ratings[i, 1]\n",
        "    if m_id not in movie_to_id:\n",
        "      movie_to_id[m_id] = len(movie_to_id)\n",
        "      id_to_movie.append(m_id)\n",
        "\n",
        "    rating = ratings[i, 2]\n",
        "    user_index = user_to_id[u_id]\n",
        "    movie_index = movie_to_id[m_id]\n",
        "\n",
        "    if num_of_users_in_the_train_set < int(M * 0.8):\n",
        "      train_data_by_user[user_index][0].append(movie_index)\n",
        "      train_data_by_user[user_index][1].append(rating)\n",
        "      train_data_by_movie[movie_index][0].append(user_index)\n",
        "      train_data_by_movie[movie_index][1].append(rating)\n",
        "    else:\n",
        "      test_data_by_user[user_index][0].append(movie_index)\n",
        "      test_data_by_user[user_index][1].append(rating)\n",
        "      test_data_by_movie[movie_index][0].append(user_index)\n",
        "      test_data_by_movie[movie_index][1].append(rating)"
      ]
    },
    {
      "cell_type": "code",
      "execution_count": null,
      "metadata": {
        "cellView": "form",
        "id": "LTDWRcg7Vxh2",
        "colab": {
          "base_uri": "https://localhost:8080/"
        },
        "outputId": "e2c2823c-18aa-4f2a-c0d1-c07a1a0c2c6c"
      },
      "outputs": [
        {
          "output_type": "stream",
          "name": "stderr",
          "text": [
            "100%|██████████| 100836/100836 [00:01<00:00, 66590.87it/s]\n"
          ]
        }
      ],
      "source": [
        "#@title Data indexing v2.1\n",
        "\n",
        "# np.random.shuffle(ratings)\n",
        "#Get number of ratings per user\n",
        "\n",
        "# movie_to_id = {}\n",
        "# id_to_movie = []\n",
        "# user_to_id = {}\n",
        "# id_to_user = []\n",
        "train_data_by_user = [[[], []] for _ in range(M)]\n",
        "train_data_by_movie = [[[], []] for _ in range(N)]\n",
        "#\n",
        "test_data_by_user = [[[], []] for _ in range(M)]\n",
        "test_data_by_movie = [[[], []] for _ in range(N)]\n",
        "\n",
        "\n",
        "#\n",
        "for i in tqdm(range(ratings.shape[0])):\n",
        "    u_id = ratings[i, 0]\n",
        "    if u_id not in user_to_id:\n",
        "      user_to_id[u_id] = len(user_to_id)\n",
        "      id_to_user.append(u_id)\n",
        "\n",
        "    m_id = ratings[i, 1]\n",
        "    if m_id not in movie_to_id:\n",
        "      movie_to_id[m_id] = len(movie_to_id)\n",
        "      id_to_movie.append(m_id)\n",
        "\n",
        "    rating = ratings[i, 2]\n",
        "    user_index = user_to_id[u_id]\n",
        "    movie_index = movie_to_id[m_id]\n",
        "\n",
        "    if len(train_data_by_user[user_to_id[u_id]][0]) < number_of_ratings_per_users[user_to_id[u_id]]:\n",
        "      train_data_by_user[user_index][0].append(movie_index)\n",
        "      train_data_by_user[user_index][1].append(rating)\n",
        "      train_data_by_movie[movie_index][0].append(user_index)\n",
        "      train_data_by_movie[movie_index][1].append(rating)\n",
        "    else:\n",
        "      test_data_by_user[user_index][0].append(movie_index)\n",
        "      test_data_by_user[user_index][1].append(rating)\n",
        "      test_data_by_movie[movie_index][0].append(user_index)\n",
        "      test_data_by_movie[movie_index][1].append(rating)"
      ]
    },
    {
      "cell_type": "code",
      "execution_count": null,
      "metadata": {
        "id": "yFycHlv8eQc4"
      },
      "outputs": [],
      "source": [
        "print(len(train_data_by_user[0][1]))\n",
        "print(len(test_data_by_user[0][1]))"
      ]
    },
    {
      "cell_type": "code",
      "execution_count": null,
      "metadata": {
        "cellView": "form",
        "id": "b5yDCb91AqPr"
      },
      "outputs": [],
      "source": [
        "#@title Training v2\n",
        "\n",
        "#hyperparameters\n",
        "K  = 50\n",
        "lambd = 1e-5\n",
        "gamma = 0.01\n",
        "tau = 0.1\n",
        "num_epoch = 20\n",
        "\n",
        "#Initialization\n",
        "user_vec = np.random.normal(0, 1/np.sqrt(K), size= (M, K))\n",
        "user_biases = np.zeros((1,M))\n",
        "item_vec = np.random.normal(0, 1/np.sqrt(K), size=(K, N))\n",
        "item_biases = np.zeros((1,N))\n",
        "##\n",
        "\n",
        "##\n",
        "train_losses = []\n",
        "test_losses = []\n",
        "list_rmse_train = []\n",
        "list_rmse_test = []\n",
        "\n",
        "##\n",
        "for epoch in tqdm(range(num_epoch)):\n",
        "  for m in range(M):\n",
        "    # and\n",
        "    movie_indices = train_data_by_user[m][0]\n",
        "    r_m = np.array([train_data_by_user[m][1]])\n",
        "    #update item_biases[:,n]\n",
        "    user_biases[0,m] = lambd*np.sum(r_m - (user_vec[m,:].T).dot(item_vec[:,movie_indices]) - item_biases[0,movie_indices])/(lambd*len(r_m)+gamma)\n",
        "\n",
        "  for m in range(M):\n",
        "    # and\n",
        "    movie_indices = train_data_by_user[m][0]\n",
        "    r_m = np.array([train_data_by_user[m][1]])\n",
        "    #update user_vec[m,:]\n",
        "    first_term = lambd*item_vec[:,movie_indices].dot(item_vec[:,movie_indices].T) + tau*np.eye(K,K)\n",
        "    second_term = lambd * np.sum((r_m - user_biases[0,m] -item_biases[0,movie_indices]) * item_vec[:,movie_indices], axis=1).T\n",
        "    user_vec[m,:] = linalg.solve(first_term, second_term)\n",
        "\n",
        "  #\n",
        "  for n in range(N):\n",
        "    #\n",
        "    user_indices = train_data_by_movie[n][0]\n",
        "    r_n = np.array([train_data_by_movie[n][1]])\n",
        "    #update user_vec[m,:]\n",
        "    first_term = lambd*np.dot(user_vec[user_indices,:].T, user_vec[user_indices,:]) + tau*np.eye(K,K)\n",
        "    #print(first_term.shape)\n",
        "    # break\n",
        "    ################\n",
        "    second_term = lambd * np.sum((r_n - item_biases[0,n] -user_biases[0,user_indices]) * user_vec[user_indices,:].T, axis=1)\n",
        "    ################\n",
        "    item_vec[:,n] = linalg.solve(first_term, second_term)\n",
        "    #update item_biases[:,n]\n",
        "    item_biases[0,n] = lambd*np.sum(r_n - np.dot(user_vec[user_indices,:], item_vec[:,n]) - user_biases[0,user_indices])/(lambd*len(r_n)+gamma)\n",
        "  #Loss and rmse\n",
        "  loss_train = 0.0\n",
        "  som = 0\n",
        "  # count = 0\n",
        "  for m in range(len(train_data_by_user)):#np.dot(user_vec[user_indices,:], item_vec[:,n])\n",
        "    movie_indices = train_data_by_user[m][0]\n",
        "    r_m = np.array([train_data_by_user[m][1]])\n",
        "    som += np.sum((r_m - (user_vec[m,:].T).dot(item_vec[:,movie_indices]) - user_biases[0,m] - item_biases[0,movie_indices])**2)\n",
        "    # count += 1\n",
        "  loss_train += 0.5*lambd*som + 0.5*tau*(np.sum(user_vec**2)+np.sum(item_vec**2))+0.5*gamma*(np.sum(user_biases**2)+np.sum(item_biases**2))\n",
        "  rmse = np.sqrt(som/len(train_data_by_user))\n",
        "  train_losses.append(loss_train.copy())\n",
        "  list_rmse_train.append(rmse.copy())"
      ]
    },
    {
      "cell_type": "code",
      "execution_count": null,
      "metadata": {
        "id": "BQrOEokV4m9I"
      },
      "outputs": [],
      "source": [
        "# fig, ax = plt.subplots(1,2, figsize=(10,4))\n",
        "# ax[0].plot(list(range(num_epoch)), train_losses, label=\"Training\")\n",
        "# # ax[0].plot(list(range(num_epoch)), losses_test, label=\"Test\")\n",
        "# ax[0].set_title(\"Training Loss\")\n",
        "# ax[0].legend()\n",
        "# ax[1].plot(list(range(num_epoch)), list_rmse_train, label=\"Training\")\n",
        "# # ax[1].plot(list(range(num_epoch)), list_rmse_test, label=\"Test\")\n",
        "# ax[1].legend()\n",
        "# ax[1].set_title(\"RMSE\")\n",
        "# plt.show()"
      ]
    },
    {
      "cell_type": "code",
      "execution_count": null,
      "metadata": {
        "id": "RGj7NA15f7kE"
      },
      "outputs": [],
      "source": [
        "def loss_func(train_data_by_user, user_vec, item_vec, user_biases, item_biases, tau, gamma, lambd):\n",
        "  residual = 0\n",
        "  count = 0\n",
        "  for m in range(len(train_data_by_user)):\n",
        "    movie_indices = train_data_by_user[m][0]\n",
        "    r_m = np.array(train_data_by_user[m][1])\n",
        "    count += len(movie_indices)\n",
        "    residual += np.sum((r_m - (np.dot(user_vec[m].T, item_vec[movie_indices].T)+user_biases[m]+item_biases[movie_indices]))**2)\n",
        "  loss = 0.5*lambd*residual+ 0.5*tau*(np.sum(user_vec**2)+np.sum(item_vec**2))+ 0.5*gamma*(np.sum(user_biases**2)+np.sum(item_biases**2))\n",
        "  rmse = np.sqrt(residual/count)\n",
        "  return loss, rmse"
      ]
    },
    {
      "cell_type": "code",
      "execution_count": null,
      "metadata": {
        "id": "KqO-AqTbYRzC",
        "colab": {
          "base_uri": "https://localhost:8080/"
        },
        "outputId": "2ff9c078-248c-42c8-8f8f-cffd6093cb09"
      },
      "outputs": [
        {
          "output_type": "stream",
          "name": "stderr",
          "text": [
            "100%|██████████| 10/10 [00:08<00:00,  1.25it/s]\n"
          ]
        }
      ],
      "source": [
        "#@title Training v2.1\n",
        "\n",
        "#hyperparameters\n",
        "K  = 10#60\n",
        "lambd = 0.1#5\n",
        "gamma = 0.1#0.2\n",
        "tau = 0.1#0.2\n",
        "num_epoch = 10#40\n",
        "\n",
        "#Initialization\n",
        "# user_vec = np.random.normal(0, 1/np.sqrt(K), size= (M, K))\n",
        "user_vec = np.zeros((M, K))\n",
        "user_biases = np.zeros(M)\n",
        "# item_vec = np.random.normal(0, 1/np.sqrt(K), size=(N,K))\n",
        "item_vec = np.zeros((N,K))\n",
        "\n",
        "item_biases = np.zeros(N)\n",
        "##\n",
        "\n",
        "##\n",
        "train_loss_history = []\n",
        "test_loss_history = []\n",
        "train_rmse_history = []\n",
        "test_rmse_history = []\n",
        "\n",
        "##\n",
        "for epoch in tqdm(range(num_epoch)):\n",
        "  #user biases\n",
        "  for m in range(M):\n",
        "    movie_indices = train_data_by_user[m][0]\n",
        "    r_m = np.array(train_data_by_user[m][1])\n",
        "    numerator = np.sum(r_m - np.dot(user_vec[m].T, item_vec[movie_indices,:].T)-item_biases[movie_indices])\n",
        "    user_biases[m] = lambd*numerator/(lambd*len(movie_indices)+gamma)\n",
        "    # #user_vec\n",
        "    # for m in range(M):\n",
        "    #   movie_indices = train_data_by_user[m][0]\n",
        "    #   r_m = np.array(train_data_by_user[m][1])\n",
        "    # term1 = lambd*np.dot(item_vec[movie_indices].T, item_vec[movie_indices])+tau*np.eye(K,K)\n",
        "    # term2 = r_m - user_biases[m] - item_biases[movie_indices]\n",
        "    # term2 = lambd*np.sum(item_vec[movie_indices]*term2.reshape(-1,1), axis=0)\n",
        "    # user_vec[m] = linalg.solve(term1, term2)\n",
        "  #item biases\n",
        "  for n in range(N):\n",
        "    user_indices = train_data_by_movie[n][0]\n",
        "    r_n = np.array(train_data_by_movie[n][1])\n",
        "    numerator = np.sum(r_n -np.dot(user_vec[user_indices,:], item_vec[n].T) -user_biases[user_indices])\n",
        "    item_biases[n] = lambd*numerator/(lambd*len(user_indices)+gamma)\n",
        "    # for n in range(N):\n",
        "    #   user_indices = train_data_by_movie[n][0]\n",
        "    #   r_n = np.array(train_data_by_movie[n][1])\n",
        "    # term1 = lambd*np.dot(user_vec[user_indices].T, user_vec[user_indices])+tau*np.eye(K,K)\n",
        "    # term2 = r_n - user_biases[user_indices] - item_biases[n]\n",
        "    # term2 = lambd*np.sum(user_vec[user_indices]*term2.reshape(-1,1), axis=0)\n",
        "    # item_vec[n] = linalg.solve(term1, term2)\n",
        "  #Loss\n",
        "  loss, rmse = loss_func(train_data_by_user, user_vec, item_vec, user_biases, item_biases, tau, gamma, lambd)\n",
        "  train_loss_history.append(loss.copy())\n",
        "  train_rmse_history.append(rmse.copy())\n",
        "  test_loss, test_rmse = loss_func(test_data_by_user, user_vec, item_vec, user_biases, item_biases, tau, gamma, lambd)\n",
        "  test_loss_history.append(test_loss.copy())\n",
        "  test_rmse_history.append(test_rmse.copy())"
      ]
    },
    {
      "cell_type": "code",
      "execution_count": null,
      "metadata": {
        "id": "9Q9TbXFTHr-r",
        "colab": {
          "base_uri": "https://localhost:8080/",
          "height": 391
        },
        "outputId": "553c8a8a-87d8-4676-8c98-961e53dcdfdc"
      },
      "outputs": [
        {
          "output_type": "display_data",
          "data": {
            "text/plain": [
              "<Figure size 1000x400 with 2 Axes>"
            ],
            "image/png": "[encoded data removed]"
          },
          "metadata": {}
        }
      ],
      "source": [
        "fig, ax = plt.subplots(1,2, figsize=(10,4))\n",
        "ax[0].plot(list(range(num_epoch)), train_loss_history, label=\"Training\")\n",
        "# ax[0].plot(list(range(num_epoch)), test_loss_history, label=\"Test\")\n",
        "ax[0].set_title(\"Loss\")\n",
        "# ax[0].set_xlim(-2,num_epoch)\n",
        "ax[0].legend()#test_loss_history\n",
        "# ax[1].plot(list(range(num_epoch)), train_rmse_history, label=\"Training\")\n",
        "ax[1].plot(list(range(num_epoch)), test_rmse_history, label=\"Test\")\n",
        "ax[1].legend()\n",
        "ax[1].set_title(\"RMSE\")\n",
        "plt.show()"
      ]
    },
    {
      "cell_type": "code",
      "source": [],
      "metadata": {
        "id": "dWmmSN6uK6pK"
      },
      "execution_count": null,
      "outputs": []
    },
    {
      "cell_type": "code",
      "execution_count": null,
      "metadata": {
        "id": "nu_mvGyKQl9c"
      },
      "outputs": [],
      "source": []
    },
    {
      "cell_type": "code",
      "execution_count": null,
      "metadata": {
        "colab": {
          "base_uri": "https://localhost:8080/"
        },
        "id": "k_zNvVArUvnZ",
        "outputId": "8a089204-01e0-4a1a-92ed-5d1281dbfa87"
      },
      "outputs": [
        {
          "name": "stdout",
          "output_type": "stream",
          "text": [
            "User 2.0 :\n",
            "\tTrue rate :  5.0\n",
            "\tPredicted rate :  4.057618146893659\n",
            "User 16.0 :\n",
            "\tTrue rate :  3.5\n",
            "\tPredicted rate :  2.8690540060336907\n",
            "User 101.0 :\n",
            "\tTrue rate :  1.0\n",
            "\tPredicted rate :  1.583045721403608\n",
            "User 124.0 :\n",
            "\tTrue rate :  5.0\n",
            "\tPredicted rate :  4.269793920959615\n",
            "User 151.0 :\n",
            "\tTrue rate :  3.0\n",
            "\tPredicted rate :  5.554407666013455\n",
            "User 195.0 :\n",
            "\tTrue rate :  5.0\n",
            "\tPredicted rate :  5.561038497940208\n",
            "User 202.0 :\n",
            "\tTrue rate :  5.0\n",
            "\tPredicted rate :  3.8387640362773867\n"
          ]
        }
      ],
      "source": [
        "for m in [1,15, 100, 123, 150,194,201]:\n",
        "  print(f\"User {id_to_user[m]} :\")\n",
        "  n = test_data_by_user[m][0][5]\n",
        "  print(\"\\tTrue rate : \",test_data_by_user[m][1][5])\n",
        "  print(\"\\tPredicted rate : \", np.dot(user_vec[m].T, item_vec[n].T)+user_biases[m]+item_biases[n])"
      ]
    },
    {
      "cell_type": "code",
      "execution_count": null,
      "metadata": {
        "id": "ZYnBdl_oqnxW"
      },
      "outputs": [],
      "source": []
    },
    {
      "cell_type": "code",
      "execution_count": null,
      "metadata": {
        "colab": {
          "base_uri": "https://localhost:8080/"
        },
        "id": "OxIME60wRFEO",
        "outputId": "87666be4-75e4-4107-fb5e-b5a3d736edfb",
        "cellView": "form"
      },
      "outputs": [
        {
          "name": "stdout",
          "output_type": "stream",
          "text": [
            "user_vec saved...\n",
            "item_vec saved...\n",
            "user_biases saved...\n",
            "item_biases saved...\n",
            "train_loss_history saved...\n",
            "test_loss_history saved...\n",
            "train_rmse_history saved...\n",
            "test_rmse_history saved...\n",
            "done...\n"
          ]
        }
      ],
      "source": [
        "#@title Save my model\n",
        "%mkdir model_amls\n",
        "# %mkdir model_amls/datasets\n",
        "import pickle\n",
        "\n",
        "with open(\"model_amls/user_vec.txt\", \"wb\") as f:\n",
        "  pickle.dump(user_vec, f)\n",
        "  print(\"user_vec saved...\")\n",
        "\n",
        "with open(\"model_amls/item_vec.txt\", \"wb\") as f:\n",
        "  pickle.dump(item_vec, f)\n",
        "  print(\"item_vec saved...\")\n",
        "\n",
        "with open(\"model_amls/user_biases.txt\", \"wb\") as f:\n",
        "  pickle.dump(user_biases, f)\n",
        "  print(\"user_biases saved...\")\n",
        "\n",
        "with open(\"model_amls/item_biases.txt\", \"wb\") as f:\n",
        "  pickle.dump(item_biases, f)\n",
        "  print(\"item_biases saved...\")\n",
        "\n",
        "with open(\"model_amls/train_loss_history.txt\", \"wb\") as f:\n",
        "  pickle.dump(train_loss_history, f)\n",
        "  print(\"train_loss_history saved...\")\n",
        "\n",
        "with open(\"model_amls/test_loss_history.txt\", \"wb\") as f:\n",
        "  pickle.dump(test_loss_history, f)\n",
        "  print(\"test_loss_history saved...\")\n",
        "\n",
        "with open(\"model_amls/train_rmse_history.txt\", \"wb\") as f:\n",
        "  pickle.dump(train_rmse_history, f)\n",
        "  print(\"train_rmse_history saved...\")\n",
        "\n",
        "with open(\"model_amls/test_rmse_history.txt\", \"wb\") as f:\n",
        "  pickle.dump(test_rmse_history, f)\n",
        "  print(\"test_rmse_history saved...\")\n",
        "\n",
        "print(\"done...\")"
      ]
    },
    {
      "cell_type": "code",
      "source": [
        "!unzip /content/model_amls.zip"
      ],
      "metadata": {
        "colab": {
          "base_uri": "https://localhost:8080/"
        },
        "id": "pW0MkCYQQakX",
        "outputId": "f52d980e-d59d-4c23-c619-9ad6d792f5e4"
      },
      "execution_count": null,
      "outputs": [
        {
          "output_type": "stream",
          "name": "stdout",
          "text": [
            "Archive:  /content/model_amls.zip\n",
            "   creating: model_amls/\n",
            "   creating: model_amls/datasets/\n",
            "  inflating: model_amls/test_loss_history.txt  \n",
            "  inflating: model_amls/train_loss_history.txt  \n",
            "  inflating: model_amls/train_rmse_history.txt  \n",
            "  inflating: model_amls/test_rmse_history.txt  \n",
            "  inflating: model_amls/item_biases.txt  \n",
            "  inflating: model_amls/user_biases.txt  \n",
            "  inflating: model_amls/user_vec.txt  \n",
            "  inflating: model_amls/item_vec.txt  \n"
          ]
        }
      ]
    },
    {
      "cell_type": "code",
      "source": [
        "#@title Load model\n",
        "\n",
        "import pickle\n",
        "\n",
        "with open(\"/content/model_amls/user_vec.txt\", \"rb\") as f:\n",
        "  user_vec = pickle.load(f)\n",
        "\n",
        "with open(\"/content/model_amls/item_vec.txt\", \"rb\") as f:\n",
        "  item_vec = pickle.load(f)\n",
        "\n",
        "with open(\"/content/model_amls/user_biases.txt\", \"rb\") as f:\n",
        "  user_biases = pickle.load(f)\n",
        "\n",
        "with open(\"/content/model_amls/item_biases.txt\", \"rb\") as f:\n",
        "  item_biases = pickle.load(f)\n",
        "\n",
        "print(\"done...\")"
      ],
      "metadata": {
        "cellView": "form",
        "id": "vKhCEn2EMwdb"
      },
      "execution_count": null,
      "outputs": []
    },
    {
      "cell_type": "markdown",
      "source": [
        "# Prediction"
      ],
      "metadata": {
        "id": "3FPaC7KgK7wh"
      }
    },
    {
      "cell_type": "code",
      "source": [
        "#user training\n",
        "new_user = np.zeros(K)\n",
        "r_m = np.array([5])\n",
        "movie_indices = [5]\n",
        "for epoch in range(num_epoch):\n",
        "    #     numerator = np.sum(r_m - np.dot(new_user, item_vec[movie_indices,:].T)-item_biases[movie_indices])\n",
        "    #     user_biases[m] = lambd*numerator/(lambd*len(r_m)+gamma)\n",
        "    term1 = lambd*np.dot(item_vec[movie_indices].T, item_vec[movie_indices])+tau*np.eye(K,K)\n",
        "    term2 = r_m - user_biases[m] - item_biases[movie_indices]\n",
        "    term2 = lambd*np.sum(item_vec[movie_indices]*term2.reshape(-1,1), axis=0)\n",
        "    new_user = linalg.solve(term1, term2)"
      ],
      "metadata": {
        "id": "xp5XM10TK3-Y"
      },
      "execution_count": null,
      "outputs": []
    },
    {
      "cell_type": "code",
      "source": [
        "score_for_item = [np.dot(new_user, item_vec[n])+item_biases for n in range(N)]"
      ],
      "metadata": {
        "id": "fBLTc6UCOcEz"
      },
      "execution_count": null,
      "outputs": []
    },
    {
      "cell_type": "code",
      "source": [
        "print(argmax(score_for_item))"
      ],
      "metadata": {
        "id": "1e95GEEwSBPe"
      },
      "execution_count": null,
      "outputs": []
    },
    {
      "cell_type": "code",
      "source": [],
      "metadata": {
        "id": "kMPONOWSSbPq"
      },
      "execution_count": null,
      "outputs": []
    }
  ],
  "metadata": {
    "colab": {
      "provenance": []
    },
    "kernelspec": {
      "display_name": "Python 3 (ipykernel)",
      "language": "python",
      "name": "python3"
    },
    "language_info": {
      "codemirror_mode": {
        "name": "ipython",
        "version": 3
      },
      "file_extension": ".py",
      "mimetype": "text/x-python",
      "name": "python",
      "nbconvert_exporter": "python",
      "pygments_lexer": "ipython3",
      "version": "3.11.2"
    }
  },
  "nbformat": 4,
  "nbformat_minor": 0
}
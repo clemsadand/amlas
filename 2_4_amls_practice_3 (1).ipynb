{
  "cells": [
    {
      "cell_type": "code",
      "execution_count": null,
      "metadata": {
        "id": "RUVsW3OaYewE"
      },
      "outputs": [],
      "source": [
        "import numpy as np\n",
        "import matplotlib.pyplot as plt\n",
        "import pandas as pd\n",
        "from math import sqrt\n",
        "from scipy import linalg\n",
        "from tqdm import tqdm"
      ]
    },
    {
      "cell_type": "code",
      "execution_count": null,
      "metadata": {
        "id": "42h8ntExW1Sm"
      },
      "outputs": [],
      "source": [
        "# !pip uninstall cupy-cuda110 cupy-cuda12x\n",
        "# !pip install cupy-cuda110\n",
        "# import cupy as cp"
      ]
    },
    {
      "cell_type": "code",
      "execution_count": null,
      "metadata": {
        "colab": {
          "base_uri": "https://localhost:8080/"
        },
        "id": "jthceazUYn9I",
        "outputId": "c5b5a1dc-b473-4621-e088-63d4028139ca"
      },
      "outputs": [
        {
          "output_type": "stream",
          "name": "stdout",
          "text": [
            "--2024-05-15 19:20:36--  https://files.grouplens.org/datasets/movielens/ml-25m.zip\n",
            "Resolving files.grouplens.org (files.grouplens.org)... 128.101.65.152\n",
            "Connecting to files.grouplens.org (files.grouplens.org)|128.101.65.152|:443... connected.\n",
            "HTTP request sent, awaiting response... 200 OK\n",
            "Length: 261978986 (250M) [application/zip]\n",
            "Saving to: ‘ml-25m.zip’\n",
            "\n",
            "ml-25m.zip          100%[===================>] 249.84M   122MB/s    in 2.1s    \n",
            "\n",
            "2024-05-15 19:20:39 (122 MB/s) - ‘ml-25m.zip’ saved [261978986/261978986]\n",
            "\n",
            "Archive:  ml-25m.zip\n",
            "   creating: ml-25m/\n",
            "  inflating: ml-25m/tags.csv         \n",
            "  inflating: ml-25m/links.csv        \n",
            "  inflating: ml-25m/README.txt       \n",
            "  inflating: ml-25m/ratings.csv      \n",
            "  inflating: ml-25m/genome-tags.csv  \n",
            "  inflating: ml-25m/genome-scores.csv  \n",
            "  inflating: ml-25m/movies.csv       \n"
          ]
        }
      ],
      "source": [
        "large_data = True\n",
        "if large_data:\n",
        "  !wget https://files.grouplens.org/datasets/movielens/ml-25m.zip\n",
        "  !unzip ml-25m.zip\n",
        "  path = \"ml-25m/\"\n",
        "else:\n",
        "  !wget https://files.grouplens.org/datasets/movielens/ml-latest-small.zip\n",
        "  !unzip ml-latest-small.zip\n",
        "  path = \"ml-latest-small/\""
      ]
    },
    {
      "cell_type": "markdown",
      "metadata": {
        "id": "LiyLQqec6Dk3"
      },
      "source": [
        "# Datasets"
      ]
    },
    {
      "cell_type": "code",
      "execution_count": null,
      "metadata": {
        "id": "WsBVCB5zh_ed"
      },
      "outputs": [],
      "source": [
        "large_data = True\n",
        "if large_data:\n",
        "    path = \"ml-25m/\"\n",
        "else:\n",
        "    path = \"ml-latest-small/\""
      ]
    },
    {
      "cell_type": "code",
      "execution_count": null,
      "metadata": {
        "colab": {
          "base_uri": "https://localhost:8080/",
          "height": 363
        },
        "id": "6hvGYmd1YzXU",
        "outputId": "9fb5f4b9-963d-40d1-fe77-18b626a372f1"
      },
      "outputs": [
        {
          "output_type": "execute_result",
          "data": {
            "text/plain": [
              "   movieId                               title  \\\n",
              "0        1                    Toy Story (1995)   \n",
              "1        2                      Jumanji (1995)   \n",
              "2        3             Grumpier Old Men (1995)   \n",
              "3        4            Waiting to Exhale (1995)   \n",
              "4        5  Father of the Bride Part II (1995)   \n",
              "5        6                         Heat (1995)   \n",
              "6        7                      Sabrina (1995)   \n",
              "7        8                 Tom and Huck (1995)   \n",
              "8        9                 Sudden Death (1995)   \n",
              "9       10                    GoldenEye (1995)   \n",
              "\n",
              "                                        genres  \n",
              "0  Adventure|Animation|Children|Comedy|Fantasy  \n",
              "1                   Adventure|Children|Fantasy  \n",
              "2                               Comedy|Romance  \n",
              "3                         Comedy|Drama|Romance  \n",
              "4                                       Comedy  \n",
              "5                        Action|Crime|Thriller  \n",
              "6                               Comedy|Romance  \n",
              "7                           Adventure|Children  \n",
              "8                                       Action  \n",
              "9                    Action|Adventure|Thriller  "
            ],
            "text/html": [
              "\n",
              "  <div id=\"df-919c88cc-3361-473d-86da-1fd3e4534595\" class=\"colab-df-container\">\n",
              "    <div>\n",
              "<style scoped>\n",
              "    .dataframe tbody tr th:only-of-type {\n",
              "        vertical-align: middle;\n",
              "    }\n",
              "\n",
              "    .dataframe tbody tr th {\n",
              "        vertical-align: top;\n",
              "    }\n",
              "\n",
              "    .dataframe thead th {\n",
              "        text-align: right;\n",
              "    }\n",
              "</style>\n",
              "<table border=\"1\" class=\"dataframe\">\n",
              "  <thead>\n",
              "    <tr style=\"text-align: right;\">\n",
              "      <th></th>\n",
              "      <th>movieId</th>\n",
              "      <th>title</th>\n",
              "      <th>genres</th>\n",
              "    </tr>\n",
              "  </thead>\n",
              "  <tbody>\n",
              "    <tr>\n",
              "      <th>0</th>\n",
              "      <td>1</td>\n",
              "      <td>Toy Story (1995)</td>\n",
              "      <td>Adventure|Animation|Children|Comedy|Fantasy</td>\n",
              "    </tr>\n",
              "    <tr>\n",
              "      <th>1</th>\n",
              "      <td>2</td>\n",
              "      <td>Jumanji (1995)</td>\n",
              "      <td>Adventure|Children|Fantasy</td>\n",
              "    </tr>\n",
              "    <tr>\n",
              "      <th>2</th>\n",
              "      <td>3</td>\n",
              "      <td>Grumpier Old Men (1995)</td>\n",
              "      <td>Comedy|Romance</td>\n",
              "    </tr>\n",
              "    <tr>\n",
              "      <th>3</th>\n",
              "      <td>4</td>\n",
              "      <td>Waiting to Exhale (1995)</td>\n",
              "      <td>Comedy|Drama|Romance</td>\n",
              "    </tr>\n",
              "    <tr>\n",
              "      <th>4</th>\n",
              "      <td>5</td>\n",
              "      <td>Father of the Bride Part II (1995)</td>\n",
              "      <td>Comedy</td>\n",
              "    </tr>\n",
              "    <tr>\n",
              "      <th>5</th>\n",
              "      <td>6</td>\n",
              "      <td>Heat (1995)</td>\n",
              "      <td>Action|Crime|Thriller</td>\n",
              "    </tr>\n",
              "    <tr>\n",
              "      <th>6</th>\n",
              "      <td>7</td>\n",
              "      <td>Sabrina (1995)</td>\n",
              "      <td>Comedy|Romance</td>\n",
              "    </tr>\n",
              "    <tr>\n",
              "      <th>7</th>\n",
              "      <td>8</td>\n",
              "      <td>Tom and Huck (1995)</td>\n",
              "      <td>Adventure|Children</td>\n",
              "    </tr>\n",
              "    <tr>\n",
              "      <th>8</th>\n",
              "      <td>9</td>\n",
              "      <td>Sudden Death (1995)</td>\n",
              "      <td>Action</td>\n",
              "    </tr>\n",
              "    <tr>\n",
              "      <th>9</th>\n",
              "      <td>10</td>\n",
              "      <td>GoldenEye (1995)</td>\n",
              "      <td>Action|Adventure|Thriller</td>\n",
              "    </tr>\n",
              "  </tbody>\n",
              "</table>\n",
              "</div>\n",
              "    <div class=\"colab-df-buttons\">\n",
              "\n",
              "  <div class=\"colab-df-container\">\n",
              "    <button class=\"colab-df-convert\" onclick=\"convertToInteractive('df-919c88cc-3361-473d-86da-1fd3e4534595')\"\n",
              "            title=\"Convert this dataframe to an interactive table.\"\n",
              "            style=\"display:none;\">\n",
              "\n",
              "  <svg xmlns=\"http://www.w3.org/2000/svg\" height=\"24px\" viewBox=\"0 -960 960 960\">\n",
              "    <path d=\"M120-120v-720h720v720H120Zm60-500h600v-160H180v160Zm220 220h160v-160H400v160Zm0 220h160v-160H400v160ZM180-400h160v-160H180v160Zm440 0h160v-160H620v160ZM180-180h160v-160H180v160Zm440 0h160v-160H620v160Z\"/>\n",
              "  </svg>\n",
              "    </button>\n",
              "\n",
              "  <style>\n",
              "    .colab-df-container {\n",
              "      display:flex;\n",
              "      gap: 12px;\n",
              "    }\n",
              "\n",
              "    .colab-df-convert {\n",
              "      background-color: #E8F0FE;\n",
              "      border: none;\n",
              "      border-radius: 50%;\n",
              "      cursor: pointer;\n",
              "      display: none;\n",
              "      fill: #1967D2;\n",
              "      height: 32px;\n",
              "      padding: 0 0 0 0;\n",
              "      width: 32px;\n",
              "    }\n",
              "\n",
              "    .colab-df-convert:hover {\n",
              "      background-color: #E2EBFA;\n",
              "      box-shadow: 0px 1px 2px rgba(60, 64, 67, 0.3), 0px 1px 3px 1px rgba(60, 64, 67, 0.15);\n",
              "      fill: #174EA6;\n",
              "    }\n",
              "\n",
              "    .colab-df-buttons div {\n",
              "      margin-bottom: 4px;\n",
              "    }\n",
              "\n",
              "    [theme=dark] .colab-df-convert {\n",
              "      background-color: #3B4455;\n",
              "      fill: #D2E3FC;\n",
              "    }\n",
              "\n",
              "    [theme=dark] .colab-df-convert:hover {\n",
              "      background-color: #434B5C;\n",
              "      box-shadow: 0px 1px 3px 1px rgba(0, 0, 0, 0.15);\n",
              "      filter: drop-shadow(0px 1px 2px rgba(0, 0, 0, 0.3));\n",
              "      fill: #FFFFFF;\n",
              "    }\n",
              "  </style>\n",
              "\n",
              "    <script>\n",
              "      const buttonEl =\n",
              "        document.querySelector('#df-919c88cc-3361-473d-86da-1fd3e4534595 button.colab-df-convert');\n",
              "      buttonEl.style.display =\n",
              "        google.colab.kernel.accessAllowed ? 'block' : 'none';\n",
              "\n",
              "      async function convertToInteractive(key) {\n",
              "        const element = document.querySelector('#df-919c88cc-3361-473d-86da-1fd3e4534595');\n",
              "        const dataTable =\n",
              "          await google.colab.kernel.invokeFunction('convertToInteractive',\n",
              "                                                    [key], {});\n",
              "        if (!dataTable) return;\n",
              "\n",
              "        const docLinkHtml = 'Like what you see? Visit the ' +\n",
              "          '<a target=\"_blank\" href=https://colab.research.google.com/notebooks/data_table.ipynb>data table notebook</a>'\n",
              "          + ' to learn more about interactive tables.';\n",
              "        element.innerHTML = '';\n",
              "        dataTable['output_type'] = 'display_data';\n",
              "        await google.colab.output.renderOutput(dataTable, element);\n",
              "        const docLink = document.createElement('div');\n",
              "        docLink.innerHTML = docLinkHtml;\n",
              "        element.appendChild(docLink);\n",
              "      }\n",
              "    </script>\n",
              "  </div>\n",
              "\n",
              "\n",
              "<div id=\"df-9595e550-4108-405d-bacb-c542f32c24dd\">\n",
              "  <button class=\"colab-df-quickchart\" onclick=\"quickchart('df-9595e550-4108-405d-bacb-c542f32c24dd')\"\n",
              "            title=\"Suggest charts\"\n",
              "            style=\"display:none;\">\n",
              "\n",
              "<svg xmlns=\"http://www.w3.org/2000/svg\" height=\"24px\"viewBox=\"0 0 24 24\"\n",
              "     width=\"24px\">\n",
              "    <g>\n",
              "        <path d=\"M19 3H5c-1.1 0-2 .9-2 2v14c0 1.1.9 2 2 2h14c1.1 0 2-.9 2-2V5c0-1.1-.9-2-2-2zM9 17H7v-7h2v7zm4 0h-2V7h2v10zm4 0h-2v-4h2v4z\"/>\n",
              "    </g>\n",
              "</svg>\n",
              "  </button>\n",
              "\n",
              "<style>\n",
              "  .colab-df-quickchart {\n",
              "      --bg-color: #E8F0FE;\n",
              "      --fill-color: #1967D2;\n",
              "      --hover-bg-color: #E2EBFA;\n",
              "      --hover-fill-color: #174EA6;\n",
              "      --disabled-fill-color: #AAA;\n",
              "      --disabled-bg-color: #DDD;\n",
              "  }\n",
              "\n",
              "  [theme=dark] .colab-df-quickchart {\n",
              "      --bg-color: #3B4455;\n",
              "      --fill-color: #D2E3FC;\n",
              "      --hover-bg-color: #434B5C;\n",
              "      --hover-fill-color: #FFFFFF;\n",
              "      --disabled-bg-color: #3B4455;\n",
              "      --disabled-fill-color: #666;\n",
              "  }\n",
              "\n",
              "  .colab-df-quickchart {\n",
              "    background-color: var(--bg-color);\n",
              "    border: none;\n",
              "    border-radius: 50%;\n",
              "    cursor: pointer;\n",
              "    display: none;\n",
              "    fill: var(--fill-color);\n",
              "    height: 32px;\n",
              "    padding: 0;\n",
              "    width: 32px;\n",
              "  }\n",
              "\n",
              "  .colab-df-quickchart:hover {\n",
              "    background-color: var(--hover-bg-color);\n",
              "    box-shadow: 0 1px 2px rgba(60, 64, 67, 0.3), 0 1px 3px 1px rgba(60, 64, 67, 0.15);\n",
              "    fill: var(--button-hover-fill-color);\n",
              "  }\n",
              "\n",
              "  .colab-df-quickchart-complete:disabled,\n",
              "  .colab-df-quickchart-complete:disabled:hover {\n",
              "    background-color: var(--disabled-bg-color);\n",
              "    fill: var(--disabled-fill-color);\n",
              "    box-shadow: none;\n",
              "  }\n",
              "\n",
              "  .colab-df-spinner {\n",
              "    border: 2px solid var(--fill-color);\n",
              "    border-color: transparent;\n",
              "    border-bottom-color: var(--fill-color);\n",
              "    animation:\n",
              "      spin 1s steps(1) infinite;\n",
              "  }\n",
              "\n",
              "  @keyframes spin {\n",
              "    0% {\n",
              "      border-color: transparent;\n",
              "      border-bottom-color: var(--fill-color);\n",
              "      border-left-color: var(--fill-color);\n",
              "    }\n",
              "    20% {\n",
              "      border-color: transparent;\n",
              "      border-left-color: var(--fill-color);\n",
              "      border-top-color: var(--fill-color);\n",
              "    }\n",
              "    30% {\n",
              "      border-color: transparent;\n",
              "      border-left-color: var(--fill-color);\n",
              "      border-top-color: var(--fill-color);\n",
              "      border-right-color: var(--fill-color);\n",
              "    }\n",
              "    40% {\n",
              "      border-color: transparent;\n",
              "      border-right-color: var(--fill-color);\n",
              "      border-top-color: var(--fill-color);\n",
              "    }\n",
              "    60% {\n",
              "      border-color: transparent;\n",
              "      border-right-color: var(--fill-color);\n",
              "    }\n",
              "    80% {\n",
              "      border-color: transparent;\n",
              "      border-right-color: var(--fill-color);\n",
              "      border-bottom-color: var(--fill-color);\n",
              "    }\n",
              "    90% {\n",
              "      border-color: transparent;\n",
              "      border-bottom-color: var(--fill-color);\n",
              "    }\n",
              "  }\n",
              "</style>\n",
              "\n",
              "  <script>\n",
              "    async function quickchart(key) {\n",
              "      const quickchartButtonEl =\n",
              "        document.querySelector('#' + key + ' button');\n",
              "      quickchartButtonEl.disabled = true;  // To prevent multiple clicks.\n",
              "      quickchartButtonEl.classList.add('colab-df-spinner');\n",
              "      try {\n",
              "        const charts = await google.colab.kernel.invokeFunction(\n",
              "            'suggestCharts', [key], {});\n",
              "      } catch (error) {\n",
              "        console.error('Error during call to suggestCharts:', error);\n",
              "      }\n",
              "      quickchartButtonEl.classList.remove('colab-df-spinner');\n",
              "      quickchartButtonEl.classList.add('colab-df-quickchart-complete');\n",
              "    }\n",
              "    (() => {\n",
              "      let quickchartButtonEl =\n",
              "        document.querySelector('#df-9595e550-4108-405d-bacb-c542f32c24dd button');\n",
              "      quickchartButtonEl.style.display =\n",
              "        google.colab.kernel.accessAllowed ? 'block' : 'none';\n",
              "    })();\n",
              "  </script>\n",
              "</div>\n",
              "    </div>\n",
              "  </div>\n"
            ],
            "application/vnd.google.colaboratory.intrinsic+json": {
              "type": "dataframe",
              "variable_name": "movies",
              "summary": "{\n  \"name\": \"movies\",\n  \"rows\": 62423,\n  \"fields\": [\n    {\n      \"column\": \"movieId\",\n      \"properties\": {\n        \"dtype\": \"number\",\n        \"std\": 63264,\n        \"min\": 1,\n        \"max\": 209171,\n        \"samples\": [\n          4990,\n          116698,\n          125517\n        ],\n        \"num_unique_values\": 62423,\n        \"semantic_type\": \"\",\n        \"description\": \"\"\n      }\n    },\n    {\n      \"column\": \"title\",\n      \"properties\": {\n        \"dtype\": \"string\",\n        \"samples\": [\n          \"So Dear to My Heart (1949)\",\n          \"Give Me Liberty (2019)\",\n          \"Vice (2015)\"\n        ],\n        \"num_unique_values\": 62325,\n        \"semantic_type\": \"\",\n        \"description\": \"\"\n      }\n    },\n    {\n      \"column\": \"genres\",\n      \"properties\": {\n        \"dtype\": \"category\",\n        \"samples\": [\n          \"Action|Adventure|Crime|Western\",\n          \"Action|Comedy|Drama|Romance|Thriller\",\n          \"Animation|Documentary|Drama|Fantasy\"\n        ],\n        \"num_unique_values\": 1639,\n        \"semantic_type\": \"\",\n        \"description\": \"\"\n      }\n    }\n  ]\n}"
            }
          },
          "metadata": {},
          "execution_count": 65
        }
      ],
      "source": [
        "movies = pd.read_csv(path + \"movies.csv\")\n",
        "movies.head(10)"
      ]
    },
    {
      "cell_type": "code",
      "execution_count": null,
      "metadata": {
        "id": "xIoHicRm4W4R"
      },
      "outputs": [],
      "source": [
        "# movies[\"movieId\"].max()"
      ]
    },
    {
      "cell_type": "code",
      "execution_count": null,
      "metadata": {
        "id": "vJ9cG_YcMb_3"
      },
      "outputs": [],
      "source": [
        "# movies[movies[\"title\"] == \"Lord of the Rings, The (1978)\"]['movieId']"
      ]
    },
    {
      "cell_type": "code",
      "execution_count": null,
      "metadata": {
        "colab": {
          "base_uri": "https://localhost:8080/"
        },
        "id": "MfFx_ObAFfos",
        "outputId": "291b404d-d505-49ec-b756-9977551e9788"
      },
      "outputs": [
        {
          "output_type": "stream",
          "name": "stdout",
          "text": [
            "Number of movies :  62423\n",
            "Number of genres :  20\n",
            "Many of the movies have the genre Western\n"
          ]
        }
      ],
      "source": [
        "print(\"Number of movies : \",movies.shape[0])\n",
        "genres = '|'.join(list(movies[\"genres\"])).split(\"|\")\n",
        "print(\"Number of genres : \",len(set(genres)))\n",
        "print(f\"Many of the movies have the genre {max(genres)}\")"
      ]
    },
    {
      "cell_type": "code",
      "execution_count": null,
      "metadata": {
        "id": "TGmvogVD1SA3"
      },
      "outputs": [],
      "source": [
        "tags = pd.read_csv(path + \"tags.csv\")"
      ]
    },
    {
      "cell_type": "code",
      "execution_count": null,
      "metadata": {
        "colab": {
          "base_uri": "https://localhost:8080/"
        },
        "id": "7mQdkIB7KSt9",
        "outputId": "2451b2ff-b8b9-4723-d581-a496fc92d088"
      },
      "outputs": [
        {
          "output_type": "stream",
          "name": "stdout",
          "text": [
            "Number of tags :  1093360\n",
            "The higher number of tags is 183356 and come from the user 6550\n",
            "The lower number of tags is 1 and come from the user 20\n",
            "The movie the most tagged is 260 and has been tagged 6180 times\n",
            "The movie the least tagged is 109 and has been tagged 1 times\n"
          ]
        }
      ],
      "source": [
        "print(\"Number of tags : \", tags.shape[0])\n",
        "u_id, counts = np.unique(tags.userId.values, return_counts=True)\n",
        "print(f\"The higher number of tags is {np.max(counts)} and come from the user {u_id[np.argmax(counts)]}\")\n",
        "print(f\"The lower number of tags is {np.min(counts)} and come from the user {u_id[np.argmin(counts)]}\")\n",
        "del u_id, counts\n",
        "m_id, counts = np.unique(tags.movieId.values, return_counts=True)\n",
        "print(f\"The movie the most tagged is {m_id[np.argmax(counts)]} and has been tagged {max(counts)} times\")\n",
        "print(f\"The movie the least tagged is {m_id[np.argmin(counts)]} and has been tagged {min(counts)} times\")\n",
        "del m_id, counts"
      ]
    },
    {
      "cell_type": "code",
      "execution_count": null,
      "metadata": {
        "colab": {
          "base_uri": "https://localhost:8080/",
          "height": 363
        },
        "id": "niIbwkAe4Hjg",
        "outputId": "2fb2ae6b-49a9-4908-fba3-ae9662659524"
      },
      "outputs": [
        {
          "output_type": "execute_result",
          "data": {
            "text/plain": [
              "   userId  movieId  rating   timestamp\n",
              "0       1      296     5.0  1147880044\n",
              "1       1      306     3.5  1147868817\n",
              "2       1      307     5.0  1147868828\n",
              "3       1      665     5.0  1147878820\n",
              "4       1      899     3.5  1147868510\n",
              "5       1     1088     4.0  1147868495\n",
              "6       1     1175     3.5  1147868826\n",
              "7       1     1217     3.5  1147878326\n",
              "8       1     1237     5.0  1147868839\n",
              "9       1     1250     4.0  1147868414"
            ],
            "text/html": [
              "\n",
              "  <div id=\"df-695d1b69-7e3f-4d73-949d-cdfc04146dce\" class=\"colab-df-container\">\n",
              "    <div>\n",
              "<style scoped>\n",
              "    .dataframe tbody tr th:only-of-type {\n",
              "        vertical-align: middle;\n",
              "    }\n",
              "\n",
              "    .dataframe tbody tr th {\n",
              "        vertical-align: top;\n",
              "    }\n",
              "\n",
              "    .dataframe thead th {\n",
              "        text-align: right;\n",
              "    }\n",
              "</style>\n",
              "<table border=\"1\" class=\"dataframe\">\n",
              "  <thead>\n",
              "    <tr style=\"text-align: right;\">\n",
              "      <th></th>\n",
              "      <th>userId</th>\n",
              "      <th>movieId</th>\n",
              "      <th>rating</th>\n",
              "      <th>timestamp</th>\n",
              "    </tr>\n",
              "  </thead>\n",
              "  <tbody>\n",
              "    <tr>\n",
              "      <th>0</th>\n",
              "      <td>1</td>\n",
              "      <td>296</td>\n",
              "      <td>5.0</td>\n",
              "      <td>1147880044</td>\n",
              "    </tr>\n",
              "    <tr>\n",
              "      <th>1</th>\n",
              "      <td>1</td>\n",
              "      <td>306</td>\n",
              "      <td>3.5</td>\n",
              "      <td>1147868817</td>\n",
              "    </tr>\n",
              "    <tr>\n",
              "      <th>2</th>\n",
              "      <td>1</td>\n",
              "      <td>307</td>\n",
              "      <td>5.0</td>\n",
              "      <td>1147868828</td>\n",
              "    </tr>\n",
              "    <tr>\n",
              "      <th>3</th>\n",
              "      <td>1</td>\n",
              "      <td>665</td>\n",
              "      <td>5.0</td>\n",
              "      <td>1147878820</td>\n",
              "    </tr>\n",
              "    <tr>\n",
              "      <th>4</th>\n",
              "      <td>1</td>\n",
              "      <td>899</td>\n",
              "      <td>3.5</td>\n",
              "      <td>1147868510</td>\n",
              "    </tr>\n",
              "    <tr>\n",
              "      <th>5</th>\n",
              "      <td>1</td>\n",
              "      <td>1088</td>\n",
              "      <td>4.0</td>\n",
              "      <td>1147868495</td>\n",
              "    </tr>\n",
              "    <tr>\n",
              "      <th>6</th>\n",
              "      <td>1</td>\n",
              "      <td>1175</td>\n",
              "      <td>3.5</td>\n",
              "      <td>1147868826</td>\n",
              "    </tr>\n",
              "    <tr>\n",
              "      <th>7</th>\n",
              "      <td>1</td>\n",
              "      <td>1217</td>\n",
              "      <td>3.5</td>\n",
              "      <td>1147878326</td>\n",
              "    </tr>\n",
              "    <tr>\n",
              "      <th>8</th>\n",
              "      <td>1</td>\n",
              "      <td>1237</td>\n",
              "      <td>5.0</td>\n",
              "      <td>1147868839</td>\n",
              "    </tr>\n",
              "    <tr>\n",
              "      <th>9</th>\n",
              "      <td>1</td>\n",
              "      <td>1250</td>\n",
              "      <td>4.0</td>\n",
              "      <td>1147868414</td>\n",
              "    </tr>\n",
              "  </tbody>\n",
              "</table>\n",
              "</div>\n",
              "    <div class=\"colab-df-buttons\">\n",
              "\n",
              "  <div class=\"colab-df-container\">\n",
              "    <button class=\"colab-df-convert\" onclick=\"convertToInteractive('df-695d1b69-7e3f-4d73-949d-cdfc04146dce')\"\n",
              "            title=\"Convert this dataframe to an interactive table.\"\n",
              "            style=\"display:none;\">\n",
              "\n",
              "  <svg xmlns=\"http://www.w3.org/2000/svg\" height=\"24px\" viewBox=\"0 -960 960 960\">\n",
              "    <path d=\"M120-120v-720h720v720H120Zm60-500h600v-160H180v160Zm220 220h160v-160H400v160Zm0 220h160v-160H400v160ZM180-400h160v-160H180v160Zm440 0h160v-160H620v160ZM180-180h160v-160H180v160Zm440 0h160v-160H620v160Z\"/>\n",
              "  </svg>\n",
              "    </button>\n",
              "\n",
              "  <style>\n",
              "    .colab-df-container {\n",
              "      display:flex;\n",
              "      gap: 12px;\n",
              "    }\n",
              "\n",
              "    .colab-df-convert {\n",
              "      background-color: #E8F0FE;\n",
              "      border: none;\n",
              "      border-radius: 50%;\n",
              "      cursor: pointer;\n",
              "      display: none;\n",
              "      fill: #1967D2;\n",
              "      height: 32px;\n",
              "      padding: 0 0 0 0;\n",
              "      width: 32px;\n",
              "    }\n",
              "\n",
              "    .colab-df-convert:hover {\n",
              "      background-color: #E2EBFA;\n",
              "      box-shadow: 0px 1px 2px rgba(60, 64, 67, 0.3), 0px 1px 3px 1px rgba(60, 64, 67, 0.15);\n",
              "      fill: #174EA6;\n",
              "    }\n",
              "\n",
              "    .colab-df-buttons div {\n",
              "      margin-bottom: 4px;\n",
              "    }\n",
              "\n",
              "    [theme=dark] .colab-df-convert {\n",
              "      background-color: #3B4455;\n",
              "      fill: #D2E3FC;\n",
              "    }\n",
              "\n",
              "    [theme=dark] .colab-df-convert:hover {\n",
              "      background-color: #434B5C;\n",
              "      box-shadow: 0px 1px 3px 1px rgba(0, 0, 0, 0.15);\n",
              "      filter: drop-shadow(0px 1px 2px rgba(0, 0, 0, 0.3));\n",
              "      fill: #FFFFFF;\n",
              "    }\n",
              "  </style>\n",
              "\n",
              "    <script>\n",
              "      const buttonEl =\n",
              "        document.querySelector('#df-695d1b69-7e3f-4d73-949d-cdfc04146dce button.colab-df-convert');\n",
              "      buttonEl.style.display =\n",
              "        google.colab.kernel.accessAllowed ? 'block' : 'none';\n",
              "\n",
              "      async function convertToInteractive(key) {\n",
              "        const element = document.querySelector('#df-695d1b69-7e3f-4d73-949d-cdfc04146dce');\n",
              "        const dataTable =\n",
              "          await google.colab.kernel.invokeFunction('convertToInteractive',\n",
              "                                                    [key], {});\n",
              "        if (!dataTable) return;\n",
              "\n",
              "        const docLinkHtml = 'Like what you see? Visit the ' +\n",
              "          '<a target=\"_blank\" href=https://colab.research.google.com/notebooks/data_table.ipynb>data table notebook</a>'\n",
              "          + ' to learn more about interactive tables.';\n",
              "        element.innerHTML = '';\n",
              "        dataTable['output_type'] = 'display_data';\n",
              "        await google.colab.output.renderOutput(dataTable, element);\n",
              "        const docLink = document.createElement('div');\n",
              "        docLink.innerHTML = docLinkHtml;\n",
              "        element.appendChild(docLink);\n",
              "      }\n",
              "    </script>\n",
              "  </div>\n",
              "\n",
              "\n",
              "<div id=\"df-0b260bfd-dba2-4159-8a18-63d53ed25f6f\">\n",
              "  <button class=\"colab-df-quickchart\" onclick=\"quickchart('df-0b260bfd-dba2-4159-8a18-63d53ed25f6f')\"\n",
              "            title=\"Suggest charts\"\n",
              "            style=\"display:none;\">\n",
              "\n",
              "<svg xmlns=\"http://www.w3.org/2000/svg\" height=\"24px\"viewBox=\"0 0 24 24\"\n",
              "     width=\"24px\">\n",
              "    <g>\n",
              "        <path d=\"M19 3H5c-1.1 0-2 .9-2 2v14c0 1.1.9 2 2 2h14c1.1 0 2-.9 2-2V5c0-1.1-.9-2-2-2zM9 17H7v-7h2v7zm4 0h-2V7h2v10zm4 0h-2v-4h2v4z\"/>\n",
              "    </g>\n",
              "</svg>\n",
              "  </button>\n",
              "\n",
              "<style>\n",
              "  .colab-df-quickchart {\n",
              "      --bg-color: #E8F0FE;\n",
              "      --fill-color: #1967D2;\n",
              "      --hover-bg-color: #E2EBFA;\n",
              "      --hover-fill-color: #174EA6;\n",
              "      --disabled-fill-color: #AAA;\n",
              "      --disabled-bg-color: #DDD;\n",
              "  }\n",
              "\n",
              "  [theme=dark] .colab-df-quickchart {\n",
              "      --bg-color: #3B4455;\n",
              "      --fill-color: #D2E3FC;\n",
              "      --hover-bg-color: #434B5C;\n",
              "      --hover-fill-color: #FFFFFF;\n",
              "      --disabled-bg-color: #3B4455;\n",
              "      --disabled-fill-color: #666;\n",
              "  }\n",
              "\n",
              "  .colab-df-quickchart {\n",
              "    background-color: var(--bg-color);\n",
              "    border: none;\n",
              "    border-radius: 50%;\n",
              "    cursor: pointer;\n",
              "    display: none;\n",
              "    fill: var(--fill-color);\n",
              "    height: 32px;\n",
              "    padding: 0;\n",
              "    width: 32px;\n",
              "  }\n",
              "\n",
              "  .colab-df-quickchart:hover {\n",
              "    background-color: var(--hover-bg-color);\n",
              "    box-shadow: 0 1px 2px rgba(60, 64, 67, 0.3), 0 1px 3px 1px rgba(60, 64, 67, 0.15);\n",
              "    fill: var(--button-hover-fill-color);\n",
              "  }\n",
              "\n",
              "  .colab-df-quickchart-complete:disabled,\n",
              "  .colab-df-quickchart-complete:disabled:hover {\n",
              "    background-color: var(--disabled-bg-color);\n",
              "    fill: var(--disabled-fill-color);\n",
              "    box-shadow: none;\n",
              "  }\n",
              "\n",
              "  .colab-df-spinner {\n",
              "    border: 2px solid var(--fill-color);\n",
              "    border-color: transparent;\n",
              "    border-bottom-color: var(--fill-color);\n",
              "    animation:\n",
              "      spin 1s steps(1) infinite;\n",
              "  }\n",
              "\n",
              "  @keyframes spin {\n",
              "    0% {\n",
              "      border-color: transparent;\n",
              "      border-bottom-color: var(--fill-color);\n",
              "      border-left-color: var(--fill-color);\n",
              "    }\n",
              "    20% {\n",
              "      border-color: transparent;\n",
              "      border-left-color: var(--fill-color);\n",
              "      border-top-color: var(--fill-color);\n",
              "    }\n",
              "    30% {\n",
              "      border-color: transparent;\n",
              "      border-left-color: var(--fill-color);\n",
              "      border-top-color: var(--fill-color);\n",
              "      border-right-color: var(--fill-color);\n",
              "    }\n",
              "    40% {\n",
              "      border-color: transparent;\n",
              "      border-right-color: var(--fill-color);\n",
              "      border-top-color: var(--fill-color);\n",
              "    }\n",
              "    60% {\n",
              "      border-color: transparent;\n",
              "      border-right-color: var(--fill-color);\n",
              "    }\n",
              "    80% {\n",
              "      border-color: transparent;\n",
              "      border-right-color: var(--fill-color);\n",
              "      border-bottom-color: var(--fill-color);\n",
              "    }\n",
              "    90% {\n",
              "      border-color: transparent;\n",
              "      border-bottom-color: var(--fill-color);\n",
              "    }\n",
              "  }\n",
              "</style>\n",
              "\n",
              "  <script>\n",
              "    async function quickchart(key) {\n",
              "      const quickchartButtonEl =\n",
              "        document.querySelector('#' + key + ' button');\n",
              "      quickchartButtonEl.disabled = true;  // To prevent multiple clicks.\n",
              "      quickchartButtonEl.classList.add('colab-df-spinner');\n",
              "      try {\n",
              "        const charts = await google.colab.kernel.invokeFunction(\n",
              "            'suggestCharts', [key], {});\n",
              "      } catch (error) {\n",
              "        console.error('Error during call to suggestCharts:', error);\n",
              "      }\n",
              "      quickchartButtonEl.classList.remove('colab-df-spinner');\n",
              "      quickchartButtonEl.classList.add('colab-df-quickchart-complete');\n",
              "    }\n",
              "    (() => {\n",
              "      let quickchartButtonEl =\n",
              "        document.querySelector('#df-0b260bfd-dba2-4159-8a18-63d53ed25f6f button');\n",
              "      quickchartButtonEl.style.display =\n",
              "        google.colab.kernel.accessAllowed ? 'block' : 'none';\n",
              "    })();\n",
              "  </script>\n",
              "</div>\n",
              "    </div>\n",
              "  </div>\n"
            ],
            "application/vnd.google.colaboratory.intrinsic+json": {
              "type": "dataframe",
              "variable_name": "ratings"
            }
          },
          "metadata": {},
          "execution_count": 71
        }
      ],
      "source": [
        "ratings = pd.read_csv(path + \"ratings.csv\")\n",
        "ratings.head(10)"
      ]
    },
    {
      "cell_type": "code",
      "execution_count": null,
      "metadata": {
        "colab": {
          "base_uri": "https://localhost:8080/"
        },
        "id": "nhpJUH3k4d0a",
        "outputId": "70a93117-38a2-4fb7-96da-6ecfebd39245"
      },
      "outputs": [
        {
          "output_type": "stream",
          "name": "stdout",
          "text": [
            "The number of users rated a movie is  162541\n",
            "The user rated the most of movies is 72315 and has rated 32202\n",
            "The user ids are numberred from 1 to 162541\n",
            "The number of movies rated is :  59047\n",
            "The movie the most rated is 356 and has been rated 81491 times\n",
            "The mean of ratings is : 3.533854451353085\n",
            "The small rating is 0.5\n",
            "The bigger rating is 5.0\n"
          ]
        }
      ],
      "source": [
        "u_id, counts = np.unique(ratings.userId.values, return_counts=True)\n",
        "print(\"The number of users rated a movie is \",len(u_id))\n",
        "print(f\"The user rated the most of movies is {u_id[np.argmax(counts)]} and has rated {np.max(counts)}\")\n",
        "print(f\"The user ids are numberred from {min(u_id)} to {max(u_id)}\")\n",
        "del u_id, counts\n",
        "\n",
        "m_id, counts = np.unique(ratings.movieId.values, return_counts=True)\n",
        "print(\"The number of movies rated is : \",len(m_id))\n",
        "print(f\"The movie the most rated is {m_id[np.argmax(counts)]} and has been rated {np.max(counts)} times\")\n",
        "del m_id, counts\n",
        "print(f\"The mean of ratings is : {ratings.rating.values.mean()}\")\n",
        "print(f\"The small rating is {np.min(ratings.rating.values)}\")\n",
        "print(f\"The bigger rating is {np.max(ratings.rating.values)}\")"
      ]
    },
    {
      "cell_type": "markdown",
      "metadata": {
        "id": "MEN7yYl6794U"
      },
      "source": [
        "## Data Indexing"
      ]
    },
    {
      "cell_type": "code",
      "execution_count": null,
      "metadata": {
        "id": "oW84fW93_Fj3"
      },
      "outputs": [],
      "source": [
        "ratings = ratings.values"
      ]
    },
    {
      "cell_type": "code",
      "execution_count": null,
      "metadata": {
        "id": "X1zdlbuiJ2gY"
      },
      "outputs": [],
      "source": [
        "M = len(np.unique(ratings[:,0]))\n",
        "N = len(np.unique(ratings[:,1]))"
      ]
    },
    {
      "cell_type": "code",
      "execution_count": null,
      "metadata": {
        "cellView": "form",
        "colab": {
          "base_uri": "https://localhost:8080/"
        },
        "id": "bF5aQhOk0QvL",
        "outputId": "2620b626-7fcc-4584-cf39-5d9c0d6f99d2"
      },
      "outputs": [
        {
          "output_type": "stream",
          "name": "stderr",
          "text": [
            "100%|██████████| 25000095/25000095 [01:06<00:00, 376112.38it/s]\n"
          ]
        }
      ],
      "source": [
        "#@title Indexing the whole dataset\n",
        "movie_to_id = {}#dictionary\n",
        "id_to_movie = []\n",
        "user_to_id = {}#dictionary\n",
        "id_to_user = []\n",
        "data_by_user = []\n",
        "data_by_movie = []\n",
        "\n",
        "for i in tqdm(range(ratings.shape[0])):\n",
        "  u_id = ratings[i,0]\n",
        "  #check if u_id is already in user_to_id\n",
        "  if not u_id in user_to_id.keys():\n",
        "    user_to_id[u_id] = len(user_to_id)\n",
        "    id_to_user.append(u_id)\n",
        "  #get the movieId watched by user\n",
        "  m_id =  ratings[i,1]\n",
        "  #check if movieId (watched by user) is already in movie_to_id\n",
        "  if not m_id in movie_to_id.keys():\n",
        "    movie_to_id[m_id] = len(movie_to_id)\n",
        "    id_to_movie.append(m_id)\n",
        "  ###########################################\n",
        "  #add (movieId_new_id, rating) in the dict\n",
        "  try:\n",
        "    data_by_user[user_to_id[u_id]].append((movie_to_id[m_id], ratings[i,2]))\n",
        "  except:\n",
        "    data_by_user.append([(movie_to_id[m_id], ratings[i,2])])\n",
        "  ##########################################\n",
        "  #add (user_new_id, rating) in the dict\n",
        "  try:\n",
        "    data_by_movie[movie_to_id[m_id]].append((user_to_id[u_id], ratings[i,2]))\n",
        "  except:\n",
        "    data_by_movie.append([(user_to_id[u_id], ratings[i,2])])\n",
        "\n",
        "\n",
        "# M = len(user_to_id)\n",
        "# N = len(movie_to_id)\n",
        "\n",
        "#Number of ratings per users for the training set\n",
        "number_of_ratings_per_users = [int(0.8*len(l)) for l in data_by_user]"
      ]
    },
    {
      "cell_type": "code",
      "execution_count": null,
      "metadata": {
        "id": "LTDWRcg7Vxh2",
        "colab": {
          "base_uri": "https://localhost:8080/"
        },
        "outputId": "d062628f-2495-4a3e-c36f-d71c303001fd"
      },
      "outputs": [
        {
          "output_type": "stream",
          "name": "stderr",
          "text": [
            "100%|██████████| 25000095/25000095 [01:34<00:00, 264224.83it/s]\n"
          ]
        }
      ],
      "source": [
        "#@title Data indexing v2.1\n",
        "\n",
        "np.random.shuffle(ratings)\n",
        "#Get number of ratings per user\n",
        "\n",
        "# movie_to_id = {}\n",
        "# id_to_movie = []\n",
        "# user_to_id = {}\n",
        "# id_to_user = []\n",
        "train_data_by_user = [[[], []] for _ in range(M)]\n",
        "train_data_by_movie = [[[], []] for _ in range(N)]\n",
        "#\n",
        "test_data_by_user = [[[], []] for _ in range(M)]\n",
        "test_data_by_movie = [[[], []] for _ in range(N)]\n",
        "\n",
        "\n",
        "#\n",
        "for i in tqdm(range(ratings.shape[0])):\n",
        "    u_id = ratings[i, 0]\n",
        "    if u_id not in user_to_id:\n",
        "      user_to_id[u_id] = len(user_to_id)\n",
        "      id_to_user.append(u_id)\n",
        "\n",
        "    m_id = ratings[i, 1]\n",
        "    if m_id not in movie_to_id:\n",
        "      movie_to_id[m_id] = len(movie_to_id)\n",
        "      id_to_movie.append(m_id)\n",
        "\n",
        "    rating = ratings[i, 2]\n",
        "    user_index = user_to_id[u_id]\n",
        "    movie_index = movie_to_id[m_id]\n",
        "\n",
        "    if len(train_data_by_user[user_to_id[u_id]][0]) < number_of_ratings_per_users[user_to_id[u_id]]:\n",
        "      train_data_by_user[user_index][0].append(movie_index)\n",
        "      train_data_by_user[user_index][1].append(rating)\n",
        "      train_data_by_movie[movie_index][0].append(user_index)\n",
        "      train_data_by_movie[movie_index][1].append(rating)\n",
        "    else:\n",
        "      test_data_by_user[user_index][0].append(movie_index)\n",
        "      test_data_by_user[user_index][1].append(rating)\n",
        "      test_data_by_movie[movie_index][0].append(user_index)\n",
        "      test_data_by_movie[movie_index][1].append(rating)"
      ]
    },
    {
      "cell_type": "code",
      "execution_count": null,
      "metadata": {
        "id": "PzN76SX4gQ9a"
      },
      "outputs": [],
      "source": [
        "# print(len(train_data_by_user))\n",
        "# print(len(test_data_by_user))"
      ]
    },
    {
      "cell_type": "code",
      "execution_count": null,
      "metadata": {
        "id": "EGLTRXABXh79"
      },
      "outputs": [],
      "source": [
        "# i = 0\n",
        "# boolean = True\n",
        "# while (i< num_of_users_in_the_train_set) and boolean:\n",
        "#   i += 1\n",
        "#   boolean = len(train_data_by_user[i]) + len(test_data_by_user[i]) == len(np.where(ratings[:,0] == id_to_user[i])[0])\n",
        "\n",
        "# print(boolean)"
      ]
    },
    {
      "cell_type": "markdown",
      "metadata": {
        "id": "54mP-0r8TUtF"
      },
      "source": [
        "# Training the model regularized"
      ]
    },
    {
      "cell_type": "code",
      "execution_count": null,
      "metadata": {
        "id": "RGj7NA15f7kE"
      },
      "outputs": [],
      "source": [
        "def loss_func(train_data_by_user, user_vec, item_vec, user_biases, item_biases, tau, gamma, lambd):\n",
        "  residual = 0\n",
        "  count = 0\n",
        "  for m in range(len(train_data_by_user)):\n",
        "    movie_indices = train_data_by_user[m][0]\n",
        "    r_m = np.array(train_data_by_user[m][1])\n",
        "    count += len(movie_indices)\n",
        "    residual += np.sum((r_m - (np.dot(user_vec[m].T, item_vec[movie_indices].T)+user_biases[m]+item_biases[movie_indices]))**2)\n",
        "  loss = 0.5*lambd*residual+ 0.5*tau*(np.sum(user_vec**2)+np.sum(item_vec**2))+ 0.5*gamma*(np.sum(user_biases**2)+np.sum(item_biases**2))\n",
        "  rmse = np.sqrt(residual/count)\n",
        "  return loss, rmse"
      ]
    },
    {
      "cell_type": "code",
      "source": [
        "def loss_func_3(train_data_by_user, user_vec, item_vec, user_biases, item_biases, tau, gamma, lambd):\n",
        "  residual = 0\n",
        "  residual_mae = 0\n",
        "  count = 0\n",
        "  for m in range(len(train_data_by_user)):\n",
        "    movie_indices = train_data_by_user[m][0]\n",
        "    r_m = np.array(train_data_by_user[m][1])\n",
        "    count += len(movie_indices)\n",
        "    residual_mae += abs(np.sum((r_m - (np.dot(user_vec[m].T, item_vec[movie_indices].T)+user_biases[m]+item_biases[movie_indices]))))\n",
        "    residual += np.sum((r_m - (np.dot(user_vec[m].T, item_vec[movie_indices].T)+user_biases[m]+item_biases[movie_indices]))**2)\n",
        "  loss = 0.5*lambd*residual+ 0.5*tau*(np.sum(user_vec**2)+np.sum(item_vec**2))+ 0.5*gamma*(np.sum(user_biases**2)+np.sum(item_biases**2))\n",
        "  rmse = np.sqrt(residual/count)\n",
        "  mae = residual_mae/count\n",
        "  return loss, rmse, mae"
      ],
      "metadata": {
        "id": "npTauaBUCKUk"
      },
      "execution_count": null,
      "outputs": []
    },
    {
      "cell_type": "code",
      "execution_count": null,
      "metadata": {
        "id": "rWYhYT5-V_ls",
        "colab": {
          "base_uri": "https://localhost:8080/"
        },
        "outputId": "9578b8c9-5fb8-44b4-b6f8-eeecc4f897e4"
      },
      "outputs": [
        {
          "output_type": "execute_result",
          "data": {
            "text/plain": [
              "20"
            ]
          },
          "metadata": {},
          "execution_count": 80
        }
      ],
      "source": [
        "len(train_data_by_user[6][0])"
      ]
    },
    {
      "cell_type": "code",
      "execution_count": null,
      "metadata": {
        "id": "KqO-AqTbYRzC",
        "colab": {
          "base_uri": "https://localhost:8080/"
        },
        "outputId": "41a62308-5188-4ef1-cc75-78f6e2743332"
      },
      "outputs": [
        {
          "output_type": "stream",
          "name": "stderr",
          "text": [
            "100%|██████████| 20/20 [1:01:22<00:00, 184.14s/it]\n"
          ]
        }
      ],
      "source": [
        "#@title Training v2.1\n",
        "\n",
        "#hyperparameters\n",
        "K  = 10#60#40\n",
        "lambd = 1#5#0.1\n",
        "gamma = 0.01#0.2#0.1\n",
        "tau = 1#0.2#0.15\n",
        "num_epoch = 20#20\n",
        "\n",
        "#Initialization\n",
        "user_vec = np.random.normal(0, 1/np.sqrt(K), size= (M, K))\n",
        "user_biases = np.zeros(M)\n",
        "item_vec = np.random.normal(0, 1/np.sqrt(K), size=(N,K))\n",
        "item_biases = np.zeros(N)\n",
        "##\n",
        "\n",
        "##\n",
        "train_loss_history = []\n",
        "test_loss_history = []\n",
        "train_rmse_history = []\n",
        "test_rmse_history = []\n",
        "\n",
        "##\n",
        "for epoch in tqdm(range(num_epoch)):\n",
        "  #user biases\n",
        "  for m in range(M):\n",
        "    movie_indices = train_data_by_user[m][0]\n",
        "    r_m = np.array(train_data_by_user[m][1])\n",
        "    numerator = np.sum(r_m - np.dot(user_vec[m].T, item_vec[movie_indices,:].T)-item_biases[movie_indices])\n",
        "    user_biases[m] = lambd*numerator/(lambd*len(r_m)+gamma)\n",
        "  #item biases\n",
        "  for n in range(N):\n",
        "    user_indices = train_data_by_movie[n][0]\n",
        "    r_n = np.array(train_data_by_movie[n][1])\n",
        "    numerator = np.sum(r_n -np.dot(user_vec[user_indices,:], item_vec[n].T) -user_biases[user_indices])\n",
        "    item_biases[n] = lambd*numerator/(lambd*len(r_n)+gamma)\n",
        "\n",
        "  # #user_vec\n",
        "  for m in range(M):\n",
        "    movie_indices = train_data_by_user[m][0]\n",
        "    r_m = np.array(train_data_by_user[m][1])\n",
        "    term1 = lambd*np.dot(item_vec[movie_indices].T, item_vec[movie_indices])+tau*np.eye(K,K)\n",
        "    term2 = r_m - user_biases[m] - item_biases[movie_indices]\n",
        "    term2 = lambd*np.sum(item_vec[movie_indices]*term2.reshape(-1,1), axis=0)\n",
        "    user_vec[m] = linalg.solve(term1, term2)\n",
        "\n",
        "  for n in range(N):\n",
        "    user_indices = train_data_by_movie[n][0]\n",
        "    r_n = np.array(train_data_by_movie[n][1])\n",
        "    term1 = lambd*np.dot(user_vec[user_indices].T, user_vec[user_indices])+tau*np.eye(K,K)\n",
        "    term2 = r_n - user_biases[user_indices] - item_biases[n]\n",
        "    term2 = lambd*np.sum(user_vec[user_indices]*term2.reshape(-1,1), axis=0)\n",
        "    item_vec[n] = linalg.solve(term1, term2)\n",
        "  #Loss\n",
        "  loss, rmse = loss_func(train_data_by_user, user_vec, item_vec, user_biases, item_biases, tau, gamma, lambd)\n",
        "  train_loss_history.append(loss.copy())\n",
        "  train_rmse_history.append(rmse.copy())\n",
        "  test_loss, test_rmse = loss_func(test_data_by_user, user_vec, item_vec, user_biases, item_biases, tau, gamma, lambd)\n",
        "  test_loss_history.append(test_loss.copy())\n",
        "  test_rmse_history.append(test_rmse.copy())"
      ]
    },
    {
      "cell_type": "code",
      "execution_count": null,
      "metadata": {
        "id": "Fw4ayvbSn0G-",
        "colab": {
          "base_uri": "https://localhost:8080/",
          "height": 480
        },
        "outputId": "dd1606c1-e175-4e6f-a409-be39d125ea97"
      },
      "outputs": [
        {
          "output_type": "display_data",
          "data": {
            "text/plain": [
              "<Figure size 500x500 with 1 Axes>"
            ],
            "image/png": "[encoded data removed]"
          },
          "metadata": {}
        }
      ],
      "source": [
        "fig, ax = plt.subplots(figsize=(5,5))\n",
        "ax.plot(list(range(num_epoch)), train_loss_history, label=\"Training\")\n",
        "ax.plot(list(range(num_epoch)), test_loss_history, label=\"Test\")\n",
        "ax.set_xlabel(\"Number of iterations\")\n",
        "ax.set_ylabel(\"Loss\")\n",
        "ax.legend()\n",
        "# ax.title(\"Pos regularized log loss for biases+user and \")\n",
        "plt.savefig(\"reg_pos_log_loss_biases_with.pdf\", format=\"pdf\", bbox_inches=\"tight\")\n",
        "plt.show()"
      ]
    },
    {
      "cell_type": "code",
      "execution_count": null,
      "metadata": {
        "id": "9Q9TbXFTHr-r",
        "colab": {
          "base_uri": "https://localhost:8080/",
          "height": 465
        },
        "outputId": "a67c65bc-34fb-493d-9e1f-20945f2f0fbe"
      },
      "outputs": [
        {
          "output_type": "display_data",
          "data": {
            "text/plain": [
              "<Figure size 500x500 with 1 Axes>"
            ],
            "image/png": "[encoded data removed]"
          },
          "metadata": {}
        }
      ],
      "source": [
        "fig, ax = plt.subplots(figsize=(5,5))\n",
        "ax.plot(list(range(num_epoch)), train_rmse_history, label=\"Training\")\n",
        "ax.plot(list(range(num_epoch)), test_rmse_history, label=\"Test\")\n",
        "ax.set_xlabel(\"Number of iterations\")\n",
        "ax.set_ylabel(\"RMSE\")\n",
        "ax.legend()\n",
        "# ax.title(\"RMSE for biases+users and items\")\n",
        "plt.savefig(\"reg_rmse_for_biases_with.pdf\", format=\"pdf\", bbox_inches=\"tight\")\n",
        "# plt.show()"
      ]
    },
    {
      "cell_type": "code",
      "execution_count": null,
      "metadata": {
        "id": "k_zNvVArUvnZ"
      },
      "outputs": [],
      "source": [
        "# for m in [1,15, 100, 123, 150,194,201]:\n",
        "#   print(f\"User {id_to_user[m]} :\")\n",
        "#   n = test_data_by_user[m][0][1]\n",
        "#   print(\"\\tTrue rate : \",test_data_by_user[m][1][1])\n",
        "#   print(\"\\tPredicted rate : \", np.dot(user_vec[m].T, item_vec[n].T)+user_biases[m]+item_biases[n])"
      ]
    },
    {
      "cell_type": "markdown",
      "metadata": {
        "id": "YW3dBxF0kK43"
      },
      "source": [
        "# Saving the model"
      ]
    },
    {
      "cell_type": "code",
      "source": [],
      "metadata": {
        "id": "wbFS-jSVukTj"
      },
      "execution_count": null,
      "outputs": []
    },
    {
      "cell_type": "code",
      "source": [
        "# user_vec = np.load(\"model_18/user_vec.npy\")\n",
        "# item_vec = np.load(\"model_18/item_vec.npy\")\n",
        "# user_biases = np.load(\"model_18/user_biases.npy\")\n",
        "# item_biases = np.load(\"model_18/item_biases.npy\")\n",
        "# train_loss_history = np.load(\"model_18/train_loss_history.npy\")\n",
        "# train_rmse_history = np.load(\"model_18/train_rmse_history.npy\")\n",
        "# test_loss_history = np.load(\"model_18/test_loss_history.npy\")\n",
        "# test_rmse_history = np.load(\"model_18/test_rmse_history.npy\")"
      ],
      "metadata": {
        "id": "Hf60t4H2wrMh"
      },
      "execution_count": null,
      "outputs": []
    },
    {
      "cell_type": "code",
      "execution_count": null,
      "metadata": {
        "id": "OxIME60wRFEO",
        "colab": {
          "base_uri": "https://localhost:8080/"
        },
        "outputId": "702766db-77cd-4052-f575-cac502d2f01c"
      },
      "outputs": [
        {
          "output_type": "stream",
          "name": "stdout",
          "text": [
            "mkdir: cannot create directory ‘/content/model_amls_18_p3_1/’: File exists\n",
            "user_vec saved...\n",
            "item_vec saved...\n",
            "user_biases saved...\n",
            "item_biases saved...\n",
            "train_loss_history saved...\n",
            "test_loss_history saved...\n",
            "train_rmse_history saved...\n",
            "test_rmse_history saved...\n",
            "  adding: content/model_amls_18_p3_1/ (stored 0%)\n",
            "  adding: content/model_amls_18_p3_1/user_vec.txt (deflated 4%)\n",
            "  adding: content/model_amls_18_p3_1/item_vec.txt (deflated 12%)\n",
            "  adding: content/model_amls_18_p3_1/test_rmse_history.txt (deflated 44%)\n",
            "  adding: content/model_amls_18_p3_1/train_rmse_history.txt (deflated 43%)\n",
            "  adding: content/model_amls_18_p3_1/user_biases.txt (deflated 7%)\n",
            "  adding: content/model_amls_18_p3_1/params.txt (stored 0%)\n",
            "  adding: content/model_amls_18_p3_1/test_loss_history.txt (deflated 43%)\n",
            "  adding: content/model_amls_18_p3_1/item_biases.txt (deflated 13%)\n",
            "  adding: content/model_amls_18_p3_1/train_loss_history.txt (deflated 43%)\n",
            "done...\n"
          ]
        }
      ],
      "source": [
        "#@title Save my model\n",
        "# %mkdir model_amls\n",
        "# %mkdir model_amls/datasets\n",
        "import pickle\n",
        "\n",
        "%mkdir /content/model_amls_18_p3_1/\n",
        "\n",
        "path = \"/content/model_amls_18_p3_1/\"\n",
        "\n",
        "with open(path+\"params.txt\", \"w\") as file:\n",
        "    file.write(f\"K = {K}\\nlambd={lambd}\\ngamma={gamma}\\ntau={tau}\\nnum_epoch = {num_epoch}\")\n",
        "\n",
        "with open(path+\"user_vec.txt\", \"wb\") as f:\n",
        "  pickle.dump(user_vec, f)\n",
        "  print(\"user_vec saved...\")\n",
        "\n",
        "with open(path+\"item_vec.txt\", \"wb\") as f:\n",
        "  pickle.dump(item_vec, f)\n",
        "  print(\"item_vec saved...\")\n",
        "\n",
        "with open(path+\"user_biases.txt\", \"wb\") as f:\n",
        "  pickle.dump(user_biases, f)\n",
        "  print(\"user_biases saved...\")\n",
        "\n",
        "with open(path+\"item_biases.txt\", \"wb\") as f:\n",
        "  pickle.dump(item_biases, f)\n",
        "  print(\"item_biases saved...\")\n",
        "\n",
        "with open(path+\"train_loss_history.txt\", \"wb\") as f:\n",
        "  pickle.dump(train_loss_history, f)\n",
        "  print(\"train_loss_history saved...\")\n",
        "\n",
        "with open(path+\"test_loss_history.txt\", \"wb\") as f:\n",
        "  pickle.dump(test_loss_history, f)\n",
        "  print(\"test_loss_history saved...\")\n",
        "\n",
        "with open(path+\"train_rmse_history.txt\", \"wb\") as f:\n",
        "  pickle.dump(train_rmse_history, f)\n",
        "  print(\"train_rmse_history saved...\")\n",
        "\n",
        "with open(path+\"test_rmse_history.txt\", \"wb\") as f:\n",
        "  pickle.dump(test_rmse_history, f)\n",
        "  print(\"test_rmse_history saved...\")\n",
        "\n",
        "\n",
        "!zip -r /content/model_amls_18_p3_1.zip /content/model_amls_18_p3_1\n",
        "\n",
        "print(\"done...\")"
      ]
    },
    {
      "cell_type": "code",
      "source": [
        "from google.colab import files\n",
        "files.download(\"/content/model_amls_18_p3_1.zip\")"
      ],
      "metadata": {
        "id": "Clgk9A3B6eWO",
        "colab": {
          "base_uri": "https://localhost:8080/",
          "height": 17
        },
        "outputId": "3230745d-83cc-4f6a-e639-248c7f7fb54d"
      },
      "execution_count": null,
      "outputs": [
        {
          "output_type": "display_data",
          "data": {
            "text/plain": [
              "<IPython.core.display.Javascript object>"
            ],
            "application/javascript": [
              "\n",
              "    async function download(id, filename, size) {\n",
              "      if (!google.colab.kernel.accessAllowed) {\n",
              "        return;\n",
              "      }\n",
              "      const div = document.createElement('div');\n",
              "      const label = document.createElement('label');\n",
              "      label.textContent = `Downloading \"${filename}\": `;\n",
              "      div.appendChild(label);\n",
              "      const progress = document.createElement('progress');\n",
              "      progress.max = size;\n",
              "      div.appendChild(progress);\n",
              "      document.body.appendChild(div);\n",
              "\n",
              "      const buffers = [];\n",
              "      let downloaded = 0;\n",
              "\n",
              "      const channel = await google.colab.kernel.comms.open(id);\n",
              "      // Send a message to notify the kernel that we're ready.\n",
              "      channel.send({})\n",
              "\n",
              "      for await (const message of channel.messages) {\n",
              "        // Send a message to notify the kernel that we're ready.\n",
              "        channel.send({})\n",
              "        if (message.buffers) {\n",
              "          for (const buffer of message.buffers) {\n",
              "            buffers.push(buffer);\n",
              "            downloaded += buffer.byteLength;\n",
              "            progress.value = downloaded;\n",
              "          }\n",
              "        }\n",
              "      }\n",
              "      const blob = new Blob(buffers, {type: 'application/binary'});\n",
              "      const a = document.createElement('a');\n",
              "      a.href = window.URL.createObjectURL(blob);\n",
              "      a.download = filename;\n",
              "      div.appendChild(a);\n",
              "      a.click();\n",
              "      div.remove();\n",
              "    }\n",
              "  "
            ]
          },
          "metadata": {}
        },
        {
          "output_type": "display_data",
          "data": {
            "text/plain": [
              "<IPython.core.display.Javascript object>"
            ],
            "application/javascript": [
              "download(\"download_bc7d3c6b-57ba-4a93-8f82-f82e99fc0737\", \"model_amls_18_p3_1.zip\", 18210984)"
            ]
          },
          "metadata": {}
        }
      ]
    },
    {
      "cell_type": "markdown",
      "metadata": {
        "id": "3FPaC7KgK7wh"
      },
      "source": [
        "# Prediction"
      ]
    },
    {
      "cell_type": "code",
      "execution_count": null,
      "metadata": {
        "colab": {
          "base_uri": "https://localhost:8080/"
        },
        "id": "vKhCEn2EMwdb",
        "outputId": "4f7ade06-6fef-49da-b0f4-f39b08e46ca0"
      },
      "outputs": [
        {
          "output_type": "stream",
          "name": "stdout",
          "text": [
            "Archive:  model_amls_18_30epoch_mai.zip\n",
            "replace model_amls_18_30epoch_mai/item_vec.txt? [y]es, [n]o, [A]ll, [N]one, [r]ename: None\n",
            "done...\n"
          ]
        }
      ],
      "source": [
        "#@title Load model\n",
        "\n",
        "import pickle\n",
        "\n",
        "# !unzip model_amls_18_3.zip\n",
        "\n",
        "!unzip model_amls_18_30epoch_mai.zip\n",
        "\n",
        "path = \"model_amls_18_30epoch_mai/\"\n",
        "\n",
        "with open(path+\"user_vec.txt\", \"rb\") as f:\n",
        "  user_vec = pickle.load(f)\n",
        "\n",
        "with open(path+\"item_vec.txt\", \"rb\") as f:\n",
        "  item_vec = pickle.load(f)\n",
        "\n",
        "with open(path+\"user_biases.txt\", \"rb\") as f:\n",
        "  user_biases = pickle.load(f)\n",
        "\n",
        "with open(path+\"item_biases.txt\", \"rb\") as f:\n",
        "  item_biases = pickle.load(f)\n",
        "\n",
        "print(\"done...\")"
      ]
    },
    {
      "cell_type": "code",
      "source": [
        "movie_rated_more_than_20 = [n for n in range(N) if len(data_by_movie[n])>20]"
      ],
      "metadata": {
        "id": "RCtmW1xHOpH9"
      },
      "execution_count": null,
      "outputs": []
    },
    {
      "cell_type": "code",
      "source": [
        "movie_rated_more_than_20 = [n for n in range(N) if len(data_by_movie[n])>20]\n",
        "def sort_with_indices(lst):\n",
        "  indexed_lst = list(enumerate(lst))\n",
        "  indexed_lst.sort(key=lambda x: x[1], reverse=True)  # Sort based on the elements (x[1])\n",
        "  sorted_indices = [x[0] for x in indexed_lst]  # Extract the sorted indices\n",
        "  return sorted_indices"
      ],
      "metadata": {
        "id": "NOwdUsNc0Jbe"
      },
      "execution_count": null,
      "outputs": []
    },
    {
      "cell_type": "code",
      "execution_count": null,
      "metadata": {
        "id": "xp5XM10TK3-Y",
        "colab": {
          "base_uri": "https://localhost:8080/",
          "height": 693
        },
        "outputId": "f601306c-1e05-4d80-81d2-ef0ad6c12413"
      },
      "outputs": [
        {
          "output_type": "stream",
          "name": "stdout",
          "text": [
            "You rate this movie : Avengers: Age of Ultron (2015)\n"
          ]
        },
        {
          "output_type": "execute_result",
          "data": {
            "text/plain": [
              "       movieId                                              title  \\\n",
              "25068   122914            Avengers: Infinity War - Part II (2019)   \n",
              "25067   122912             Avengers: Infinity War - Part I (2018)   \n",
              "25071   122920                  Captain America: Civil War (2016)   \n",
              "17067    89745                               Avengers, The (2012)   \n",
              "21348   110102         Captain America: The Winter Soldier (2014)   \n",
              "25069   122916                              Thor: Ragnarok (2017)   \n",
              "25058   122892                     Avengers: Age of Ultron (2015)   \n",
              "25074   122926                  Untitled Spider-Man Reboot (2017)   \n",
              "49883   179819                    Star Wars: The Last Jedi (2017)   \n",
              "25064   122906                               Black Panther (2017)   \n",
              "25066   122910                              Captain Marvel (2018)   \n",
              "20602   106487             The Hunger Games: Catching Fire (2013)   \n",
              "16725    88140          Captain America: The First Avenger (2011)   \n",
              "29958   135133       The Hunger Games: Mockingjay - Part 2 (2015)   \n",
              "19678   102125                                  Iron Man 3 (2013)   \n",
              "23024   116823       The Hunger Games: Mockingjay - Part 1 (2014)   \n",
              "25055   122886  Star Wars: Episode VII - The Force Awakens (2015)   \n",
              "33522   143355                                Wonder Woman (2017)   \n",
              "53867   188301                        Ant-Man and the Wasp (2018)   \n",
              "59844   201773                   Spider-Man: Far from Home (2019)   \n",
              "\n",
              "                                       genres  \n",
              "25068                 Action|Adventure|Sci-Fi  \n",
              "25067                 Action|Adventure|Sci-Fi  \n",
              "25071                  Action|Sci-Fi|Thriller  \n",
              "17067            Action|Adventure|Sci-Fi|IMAX  \n",
              "21348            Action|Adventure|Sci-Fi|IMAX  \n",
              "25069                 Action|Adventure|Sci-Fi  \n",
              "25058                 Action|Adventure|Sci-Fi  \n",
              "25074                Action|Adventure|Fantasy  \n",
              "49883         Action|Adventure|Fantasy|Sci-Fi  \n",
              "25064                 Action|Adventure|Sci-Fi  \n",
              "25066                 Action|Adventure|Sci-Fi  \n",
              "20602            Action|Adventure|Sci-Fi|IMAX  \n",
              "16725    Action|Adventure|Sci-Fi|Thriller|War  \n",
              "29958                        Adventure|Sci-Fi  \n",
              "19678             Action|Sci-Fi|Thriller|IMAX  \n",
              "23024               Adventure|Sci-Fi|Thriller  \n",
              "25055    Action|Adventure|Fantasy|Sci-Fi|IMAX  \n",
              "33522                Action|Adventure|Fantasy  \n",
              "53867  Action|Adventure|Comedy|Fantasy|Sci-Fi  \n",
              "59844                 Action|Adventure|Sci-Fi  "
            ],
            "text/html": [
              "\n",
              "  <div id=\"df-982daf3c-e450-4f6d-b1b4-429bb47422dc\" class=\"colab-df-container\">\n",
              "    <div>\n",
              "<style scoped>\n",
              "    .dataframe tbody tr th:only-of-type {\n",
              "        vertical-align: middle;\n",
              "    }\n",
              "\n",
              "    .dataframe tbody tr th {\n",
              "        vertical-align: top;\n",
              "    }\n",
              "\n",
              "    .dataframe thead th {\n",
              "        text-align: right;\n",
              "    }\n",
              "</style>\n",
              "<table border=\"1\" class=\"dataframe\">\n",
              "  <thead>\n",
              "    <tr style=\"text-align: right;\">\n",
              "      <th></th>\n",
              "      <th>movieId</th>\n",
              "      <th>title</th>\n",
              "      <th>genres</th>\n",
              "    </tr>\n",
              "  </thead>\n",
              "  <tbody>\n",
              "    <tr>\n",
              "      <th>25068</th>\n",
              "      <td>122914</td>\n",
              "      <td>Avengers: Infinity War - Part II (2019)</td>\n",
              "      <td>Action|Adventure|Sci-Fi</td>\n",
              "    </tr>\n",
              "    <tr>\n",
              "      <th>25067</th>\n",
              "      <td>122912</td>\n",
              "      <td>Avengers: Infinity War - Part I (2018)</td>\n",
              "      <td>Action|Adventure|Sci-Fi</td>\n",
              "    </tr>\n",
              "    <tr>\n",
              "      <th>25071</th>\n",
              "      <td>122920</td>\n",
              "      <td>Captain America: Civil War (2016)</td>\n",
              "      <td>Action|Sci-Fi|Thriller</td>\n",
              "    </tr>\n",
              "    <tr>\n",
              "      <th>17067</th>\n",
              "      <td>89745</td>\n",
              "      <td>Avengers, The (2012)</td>\n",
              "      <td>Action|Adventure|Sci-Fi|IMAX</td>\n",
              "    </tr>\n",
              "    <tr>\n",
              "      <th>21348</th>\n",
              "      <td>110102</td>\n",
              "      <td>Captain America: The Winter Soldier (2014)</td>\n",
              "      <td>Action|Adventure|Sci-Fi|IMAX</td>\n",
              "    </tr>\n",
              "    <tr>\n",
              "      <th>25069</th>\n",
              "      <td>122916</td>\n",
              "      <td>Thor: Ragnarok (2017)</td>\n",
              "      <td>Action|Adventure|Sci-Fi</td>\n",
              "    </tr>\n",
              "    <tr>\n",
              "      <th>25058</th>\n",
              "      <td>122892</td>\n",
              "      <td>Avengers: Age of Ultron (2015)</td>\n",
              "      <td>Action|Adventure|Sci-Fi</td>\n",
              "    </tr>\n",
              "    <tr>\n",
              "      <th>25074</th>\n",
              "      <td>122926</td>\n",
              "      <td>Untitled Spider-Man Reboot (2017)</td>\n",
              "      <td>Action|Adventure|Fantasy</td>\n",
              "    </tr>\n",
              "    <tr>\n",
              "      <th>49883</th>\n",
              "      <td>179819</td>\n",
              "      <td>Star Wars: The Last Jedi (2017)</td>\n",
              "      <td>Action|Adventure|Fantasy|Sci-Fi</td>\n",
              "    </tr>\n",
              "    <tr>\n",
              "      <th>25064</th>\n",
              "      <td>122906</td>\n",
              "      <td>Black Panther (2017)</td>\n",
              "      <td>Action|Adventure|Sci-Fi</td>\n",
              "    </tr>\n",
              "    <tr>\n",
              "      <th>25066</th>\n",
              "      <td>122910</td>\n",
              "      <td>Captain Marvel (2018)</td>\n",
              "      <td>Action|Adventure|Sci-Fi</td>\n",
              "    </tr>\n",
              "    <tr>\n",
              "      <th>20602</th>\n",
              "      <td>106487</td>\n",
              "      <td>The Hunger Games: Catching Fire (2013)</td>\n",
              "      <td>Action|Adventure|Sci-Fi|IMAX</td>\n",
              "    </tr>\n",
              "    <tr>\n",
              "      <th>16725</th>\n",
              "      <td>88140</td>\n",
              "      <td>Captain America: The First Avenger (2011)</td>\n",
              "      <td>Action|Adventure|Sci-Fi|Thriller|War</td>\n",
              "    </tr>\n",
              "    <tr>\n",
              "      <th>29958</th>\n",
              "      <td>135133</td>\n",
              "      <td>The Hunger Games: Mockingjay - Part 2 (2015)</td>\n",
              "      <td>Adventure|Sci-Fi</td>\n",
              "    </tr>\n",
              "    <tr>\n",
              "      <th>19678</th>\n",
              "      <td>102125</td>\n",
              "      <td>Iron Man 3 (2013)</td>\n",
              "      <td>Action|Sci-Fi|Thriller|IMAX</td>\n",
              "    </tr>\n",
              "    <tr>\n",
              "      <th>23024</th>\n",
              "      <td>116823</td>\n",
              "      <td>The Hunger Games: Mockingjay - Part 1 (2014)</td>\n",
              "      <td>Adventure|Sci-Fi|Thriller</td>\n",
              "    </tr>\n",
              "    <tr>\n",
              "      <th>25055</th>\n",
              "      <td>122886</td>\n",
              "      <td>Star Wars: Episode VII - The Force Awakens (2015)</td>\n",
              "      <td>Action|Adventure|Fantasy|Sci-Fi|IMAX</td>\n",
              "    </tr>\n",
              "    <tr>\n",
              "      <th>33522</th>\n",
              "      <td>143355</td>\n",
              "      <td>Wonder Woman (2017)</td>\n",
              "      <td>Action|Adventure|Fantasy</td>\n",
              "    </tr>\n",
              "    <tr>\n",
              "      <th>53867</th>\n",
              "      <td>188301</td>\n",
              "      <td>Ant-Man and the Wasp (2018)</td>\n",
              "      <td>Action|Adventure|Comedy|Fantasy|Sci-Fi</td>\n",
              "    </tr>\n",
              "    <tr>\n",
              "      <th>59844</th>\n",
              "      <td>201773</td>\n",
              "      <td>Spider-Man: Far from Home (2019)</td>\n",
              "      <td>Action|Adventure|Sci-Fi</td>\n",
              "    </tr>\n",
              "  </tbody>\n",
              "</table>\n",
              "</div>\n",
              "    <div class=\"colab-df-buttons\">\n",
              "\n",
              "  <div class=\"colab-df-container\">\n",
              "    <button class=\"colab-df-convert\" onclick=\"convertToInteractive('df-982daf3c-e450-4f6d-b1b4-429bb47422dc')\"\n",
              "            title=\"Convert this dataframe to an interactive table.\"\n",
              "            style=\"display:none;\">\n",
              "\n",
              "  <svg xmlns=\"http://www.w3.org/2000/svg\" height=\"24px\" viewBox=\"0 -960 960 960\">\n",
              "    <path d=\"M120-120v-720h720v720H120Zm60-500h600v-160H180v160Zm220 220h160v-160H400v160Zm0 220h160v-160H400v160ZM180-400h160v-160H180v160Zm440 0h160v-160H620v160ZM180-180h160v-160H180v160Zm440 0h160v-160H620v160Z\"/>\n",
              "  </svg>\n",
              "    </button>\n",
              "\n",
              "  <style>\n",
              "    .colab-df-container {\n",
              "      display:flex;\n",
              "      gap: 12px;\n",
              "    }\n",
              "\n",
              "    .colab-df-convert {\n",
              "      background-color: #E8F0FE;\n",
              "      border: none;\n",
              "      border-radius: 50%;\n",
              "      cursor: pointer;\n",
              "      display: none;\n",
              "      fill: #1967D2;\n",
              "      height: 32px;\n",
              "      padding: 0 0 0 0;\n",
              "      width: 32px;\n",
              "    }\n",
              "\n",
              "    .colab-df-convert:hover {\n",
              "      background-color: #E2EBFA;\n",
              "      box-shadow: 0px 1px 2px rgba(60, 64, 67, 0.3), 0px 1px 3px 1px rgba(60, 64, 67, 0.15);\n",
              "      fill: #174EA6;\n",
              "    }\n",
              "\n",
              "    .colab-df-buttons div {\n",
              "      margin-bottom: 4px;\n",
              "    }\n",
              "\n",
              "    [theme=dark] .colab-df-convert {\n",
              "      background-color: #3B4455;\n",
              "      fill: #D2E3FC;\n",
              "    }\n",
              "\n",
              "    [theme=dark] .colab-df-convert:hover {\n",
              "      background-color: #434B5C;\n",
              "      box-shadow: 0px 1px 3px 1px rgba(0, 0, 0, 0.15);\n",
              "      filter: drop-shadow(0px 1px 2px rgba(0, 0, 0, 0.3));\n",
              "      fill: #FFFFFF;\n",
              "    }\n",
              "  </style>\n",
              "\n",
              "    <script>\n",
              "      const buttonEl =\n",
              "        document.querySelector('#df-982daf3c-e450-4f6d-b1b4-429bb47422dc button.colab-df-convert');\n",
              "      buttonEl.style.display =\n",
              "        google.colab.kernel.accessAllowed ? 'block' : 'none';\n",
              "\n",
              "      async function convertToInteractive(key) {\n",
              "        const element = document.querySelector('#df-982daf3c-e450-4f6d-b1b4-429bb47422dc');\n",
              "        const dataTable =\n",
              "          await google.colab.kernel.invokeFunction('convertToInteractive',\n",
              "                                                    [key], {});\n",
              "        if (!dataTable) return;\n",
              "\n",
              "        const docLinkHtml = 'Like what you see? Visit the ' +\n",
              "          '<a target=\"_blank\" href=https://colab.research.google.com/notebooks/data_table.ipynb>data table notebook</a>'\n",
              "          + ' to learn more about interactive tables.';\n",
              "        element.innerHTML = '';\n",
              "        dataTable['output_type'] = 'display_data';\n",
              "        await google.colab.output.renderOutput(dataTable, element);\n",
              "        const docLink = document.createElement('div');\n",
              "        docLink.innerHTML = docLinkHtml;\n",
              "        element.appendChild(docLink);\n",
              "      }\n",
              "    </script>\n",
              "  </div>\n",
              "\n",
              "\n",
              "<div id=\"df-8681397d-db20-4891-ad0c-fabd1f3bde49\">\n",
              "  <button class=\"colab-df-quickchart\" onclick=\"quickchart('df-8681397d-db20-4891-ad0c-fabd1f3bde49')\"\n",
              "            title=\"Suggest charts\"\n",
              "            style=\"display:none;\">\n",
              "\n",
              "<svg xmlns=\"http://www.w3.org/2000/svg\" height=\"24px\"viewBox=\"0 0 24 24\"\n",
              "     width=\"24px\">\n",
              "    <g>\n",
              "        <path d=\"M19 3H5c-1.1 0-2 .9-2 2v14c0 1.1.9 2 2 2h14c1.1 0 2-.9 2-2V5c0-1.1-.9-2-2-2zM9 17H7v-7h2v7zm4 0h-2V7h2v10zm4 0h-2v-4h2v4z\"/>\n",
              "    </g>\n",
              "</svg>\n",
              "  </button>\n",
              "\n",
              "<style>\n",
              "  .colab-df-quickchart {\n",
              "      --bg-color: #E8F0FE;\n",
              "      --fill-color: #1967D2;\n",
              "      --hover-bg-color: #E2EBFA;\n",
              "      --hover-fill-color: #174EA6;\n",
              "      --disabled-fill-color: #AAA;\n",
              "      --disabled-bg-color: #DDD;\n",
              "  }\n",
              "\n",
              "  [theme=dark] .colab-df-quickchart {\n",
              "      --bg-color: #3B4455;\n",
              "      --fill-color: #D2E3FC;\n",
              "      --hover-bg-color: #434B5C;\n",
              "      --hover-fill-color: #FFFFFF;\n",
              "      --disabled-bg-color: #3B4455;\n",
              "      --disabled-fill-color: #666;\n",
              "  }\n",
              "\n",
              "  .colab-df-quickchart {\n",
              "    background-color: var(--bg-color);\n",
              "    border: none;\n",
              "    border-radius: 50%;\n",
              "    cursor: pointer;\n",
              "    display: none;\n",
              "    fill: var(--fill-color);\n",
              "    height: 32px;\n",
              "    padding: 0;\n",
              "    width: 32px;\n",
              "  }\n",
              "\n",
              "  .colab-df-quickchart:hover {\n",
              "    background-color: var(--hover-bg-color);\n",
              "    box-shadow: 0 1px 2px rgba(60, 64, 67, 0.3), 0 1px 3px 1px rgba(60, 64, 67, 0.15);\n",
              "    fill: var(--button-hover-fill-color);\n",
              "  }\n",
              "\n",
              "  .colab-df-quickchart-complete:disabled,\n",
              "  .colab-df-quickchart-complete:disabled:hover {\n",
              "    background-color: var(--disabled-bg-color);\n",
              "    fill: var(--disabled-fill-color);\n",
              "    box-shadow: none;\n",
              "  }\n",
              "\n",
              "  .colab-df-spinner {\n",
              "    border: 2px solid var(--fill-color);\n",
              "    border-color: transparent;\n",
              "    border-bottom-color: var(--fill-color);\n",
              "    animation:\n",
              "      spin 1s steps(1) infinite;\n",
              "  }\n",
              "\n",
              "  @keyframes spin {\n",
              "    0% {\n",
              "      border-color: transparent;\n",
              "      border-bottom-color: var(--fill-color);\n",
              "      border-left-color: var(--fill-color);\n",
              "    }\n",
              "    20% {\n",
              "      border-color: transparent;\n",
              "      border-left-color: var(--fill-color);\n",
              "      border-top-color: var(--fill-color);\n",
              "    }\n",
              "    30% {\n",
              "      border-color: transparent;\n",
              "      border-left-color: var(--fill-color);\n",
              "      border-top-color: var(--fill-color);\n",
              "      border-right-color: var(--fill-color);\n",
              "    }\n",
              "    40% {\n",
              "      border-color: transparent;\n",
              "      border-right-color: var(--fill-color);\n",
              "      border-top-color: var(--fill-color);\n",
              "    }\n",
              "    60% {\n",
              "      border-color: transparent;\n",
              "      border-right-color: var(--fill-color);\n",
              "    }\n",
              "    80% {\n",
              "      border-color: transparent;\n",
              "      border-right-color: var(--fill-color);\n",
              "      border-bottom-color: var(--fill-color);\n",
              "    }\n",
              "    90% {\n",
              "      border-color: transparent;\n",
              "      border-bottom-color: var(--fill-color);\n",
              "    }\n",
              "  }\n",
              "</style>\n",
              "\n",
              "  <script>\n",
              "    async function quickchart(key) {\n",
              "      const quickchartButtonEl =\n",
              "        document.querySelector('#' + key + ' button');\n",
              "      quickchartButtonEl.disabled = true;  // To prevent multiple clicks.\n",
              "      quickchartButtonEl.classList.add('colab-df-spinner');\n",
              "      try {\n",
              "        const charts = await google.colab.kernel.invokeFunction(\n",
              "            'suggestCharts', [key], {});\n",
              "      } catch (error) {\n",
              "        console.error('Error during call to suggestCharts:', error);\n",
              "      }\n",
              "      quickchartButtonEl.classList.remove('colab-df-spinner');\n",
              "      quickchartButtonEl.classList.add('colab-df-quickchart-complete');\n",
              "    }\n",
              "    (() => {\n",
              "      let quickchartButtonEl =\n",
              "        document.querySelector('#df-8681397d-db20-4891-ad0c-fabd1f3bde49 button');\n",
              "      quickchartButtonEl.style.display =\n",
              "        google.colab.kernel.accessAllowed ? 'block' : 'none';\n",
              "    })();\n",
              "  </script>\n",
              "</div>\n",
              "    </div>\n",
              "  </div>\n"
            ],
            "application/vnd.google.colaboratory.intrinsic+json": {
              "type": "dataframe",
              "summary": "{\n  \"name\": \"movies\",\n  \"rows\": 20,\n  \"fields\": [\n    {\n      \"column\": \"movieId\",\n      \"properties\": {\n        \"dtype\": \"number\",\n        \"std\": 29833,\n        \"min\": 88140,\n        \"max\": 201773,\n        \"samples\": [\n          122914,\n          143355,\n          116823\n        ],\n        \"num_unique_values\": 20,\n        \"semantic_type\": \"\",\n        \"description\": \"\"\n      }\n    },\n    {\n      \"column\": \"title\",\n      \"properties\": {\n        \"dtype\": \"string\",\n        \"samples\": [\n          \"Avengers: Infinity War - Part II (2019)\",\n          \"Wonder Woman (2017)\",\n          \"The Hunger Games: Mockingjay - Part 1 (2014)\"\n        ],\n        \"num_unique_values\": 20,\n        \"semantic_type\": \"\",\n        \"description\": \"\"\n      }\n    },\n    {\n      \"column\": \"genres\",\n      \"properties\": {\n        \"dtype\": \"string\",\n        \"samples\": [\n          \"Action|Adventure|Sci-Fi|Thriller|War\",\n          \"Action|Adventure|Sci-Fi\",\n          \"Action|Adventure|Fantasy|Sci-Fi|IMAX\"\n        ],\n        \"num_unique_values\": 11,\n        \"semantic_type\": \"\",\n        \"description\": \"\"\n      }\n    }\n  ]\n}"
            }
          },
          "metadata": {},
          "execution_count": 294
        }
      ],
      "source": [
        "#@title Dummpy user\n",
        "#get a movie id\n",
        "#4993#2116#\n",
        "movie_id = 122892#\n",
        "rate = 5\n",
        "# print()\n",
        "K = 10\n",
        "print(f\"You rate this movie : {movies.iloc[np.where(movies['movieId'].values == movie_id)[0][0]].title}\")\n",
        "#train a dummpy user\n",
        "new_user = np.zeros(K)\n",
        "r_m = np.array([rate])\n",
        "movie_indices = [movie_to_id[movie_id]]\n",
        "for epoch in range(num_epoch):\n",
        "  #   numerator = np.sum(r_m - np.dot(new_user, item_vec[movie_indices,:].T)-item_biases[movie_indices])\n",
        "  #   user_biases[m] = lambd*numerator/(lambd*len(r_m)+gamma)\n",
        "  term1 = lambd*np.dot(item_vec[movie_indices].T, item_vec[movie_indices])+tau*np.eye(K,K)\n",
        "  term2 = r_m - item_biases[movie_indices]\n",
        "  term2 = lambd*np.sum(item_vec[movie_indices]*term2.reshape(-1,1), axis=0)\n",
        "  new_user = linalg.solve(term1, term2)\n",
        "\n",
        "\n",
        "\n",
        "#Make Recommendation\n",
        "#Compute the rates\n",
        "score_for_item = np.array([np.dot(new_user, item_vec[n])+item_biases[n] for n in movie_rated_more_than_20])\n",
        "# score_for_item = list(np.dot(item_vec[movie_rated_more_than_20,:], new_user) + 0.05*item_biases[movie_rated_more_than_20])\n",
        "# print(score_for_item.shape)\n",
        "#Compute some recommendations\n",
        "# print(score_for_item[recommendations[0]])\n",
        "# #Sort the score_for_item and their indices\n",
        "recommendations = sort_with_indices(score_for_item)[:20]#[np.where(movies[\"movieId\"].values == id_to_movie[idx])[0][0] for idx in recommendation_idx]\n",
        "# #  and get the indices of 20 best rates\n",
        "# recommended_movies = list(np.array(movie_rated_more_than_20)[recommendations])\n",
        "recommended_movies = [movie_rated_more_than_20[n] for n in recommendations]\n",
        "# #Looking for the original indices of these movies\n",
        "recommended_movies = [np.where(movies[\"movieId\"].values == id_to_movie[idx])[0][0] for idx in recommended_movies]\n",
        "# print(recommended_movies)\n",
        "# #Print the thecommendation\n",
        "movies.iloc[recommended_movies]"
      ]
    },
    {
      "cell_type": "markdown",
      "metadata": {
        "id": "UDdKHWbNj8mk"
      },
      "source": [
        "# Training biases"
      ]
    },
    {
      "cell_type": "code",
      "execution_count": null,
      "metadata": {
        "colab": {
          "base_uri": "https://localhost:8080/"
        },
        "id": "-I9Qqx93je_5",
        "outputId": "c86cc346-81f4-4448-d9cb-81d02f7cb12c"
      },
      "outputs": [
        {
          "output_type": "stream",
          "name": "stderr",
          "text": [
            "100%|██████████| 10/10 [15:40<00:00, 94.08s/it]\n"
          ]
        }
      ],
      "source": [
        "#@title Training v2.1\n",
        "\n",
        "#hyperparameters\n",
        "K  = 10#60#40\n",
        "lambd = 1#5\n",
        "gamma = 0.01#0.2#0.15\n",
        "tau = 1#0.2#0.15\n",
        "num_epoch = 10#20\n",
        "\n",
        "#Initialization\n",
        "user_vec = np.zeros((M,K))\n",
        "user_biases = np.zeros(M)\n",
        "item_vec = np.zeros((N,K))\n",
        "item_biases = np.zeros(N)\n",
        "##\n",
        "\n",
        "##\n",
        "train_loss_history = []\n",
        "test_loss_history = []\n",
        "train_rmse_history = []\n",
        "test_rmse_history = []\n",
        "\n",
        "##\n",
        "for epoch in tqdm(range(num_epoch)):\n",
        "  #user biases\n",
        "  for m in range(M):\n",
        "    movie_indices = train_data_by_user[m][0]\n",
        "    r_m = np.array(train_data_by_user[m][1])\n",
        "    numerator = np.sum(r_m - np.dot(user_vec[m].T, item_vec[movie_indices,:].T)-item_biases[movie_indices])\n",
        "    user_biases[m] = lambd*numerator/(lambd*len(r_m)+gamma)\n",
        "  #item biases\n",
        "  for n in range(N):\n",
        "    user_indices = train_data_by_movie[n][0]\n",
        "    r_n = np.array(train_data_by_movie[n][1])\n",
        "    numerator = np.sum(r_n -np.dot(user_vec[user_indices,:], item_vec[n].T) -user_biases[user_indices])\n",
        "    item_biases[n] = lambd*numerator/(lambd*len(r_n)+gamma)\n",
        "  #Loss\n",
        "  loss, rmse = loss_func(train_data_by_user, user_vec, item_vec, user_biases, item_biases, tau, gamma, lambd)\n",
        "  train_loss_history.append(loss.copy())\n",
        "  train_rmse_history.append(rmse.copy())\n",
        "  test_loss, test_rmse = loss_func(test_data_by_user, user_vec, item_vec, user_biases, item_biases, tau, gamma, lambd)\n",
        "  test_loss_history.append(test_loss.copy())\n",
        "  test_rmse_history.append(test_rmse.copy())"
      ]
    },
    {
      "cell_type": "code",
      "execution_count": null,
      "metadata": {
        "colab": {
          "base_uri": "https://localhost:8080/",
          "height": 480
        },
        "id": "S04zNN5Ij4Wx",
        "outputId": "25dd80e3-460e-4aa1-aa3e-021eb087bf7d"
      },
      "outputs": [
        {
          "output_type": "display_data",
          "data": {
            "text/plain": [
              "<Figure size 500x500 with 1 Axes>"
            ],
            "image/png": "[encoded data removed]"
          },
          "metadata": {}
        }
      ],
      "source": [
        "fig, ax = plt.subplots(figsize=(5,5))\n",
        "ax.plot(list(range(num_epoch)), train_loss_history, label=\"Training\")\n",
        "ax.plot(list(range(num_epoch)), test_loss_history, label=\"Test\")\n",
        "ax.set_xlabel(\"Number of iterations\")\n",
        "ax.set_ylabel(\"Loss\")\n",
        "ax.legend()\n",
        "# ax.title(\"Pos regularized log loss for biases+user and \")\n",
        "plt.savefig(\"pos_log_loss_biases.pdf\", format=\"pdf\", bbox_inches=\"tight\")\n",
        "plt.show()"
      ]
    },
    {
      "cell_type": "code",
      "execution_count": null,
      "metadata": {
        "colab": {
          "base_uri": "https://localhost:8080/",
          "height": 465
        },
        "id": "r1VshfXXj4Wy",
        "outputId": "61671543-b74c-474c-8611-9acccf630354"
      },
      "outputs": [
        {
          "output_type": "display_data",
          "data": {
            "text/plain": [
              "<Figure size 500x500 with 1 Axes>"
            ],
            "image/png": "[encoded data removed]"
          },
          "metadata": {}
        }
      ],
      "source": [
        "fig, ax = plt.subplots(figsize=(5,5))\n",
        "ax.plot(list(range(num_epoch)), train_rmse_history, label=\"Training\")\n",
        "ax.plot(list(range(num_epoch)), test_rmse_history, label=\"Test\")\n",
        "ax.set_xlabel(\"Number of iterations\")\n",
        "ax.set_ylabel(\"RMSE\")\n",
        "ax.legend()\n",
        "# ax.title(\"RMSE for biases+users and items\")\n",
        "plt.savefig(\"rmse_for_biases.pdf\", format=\"pdf\", bbox_inches=\"tight\")\n",
        "# plt.show()"
      ]
    },
    {
      "cell_type": "markdown",
      "source": [
        "#Polarization"
      ],
      "metadata": {
        "id": "U4cAKwGFKxAG"
      }
    },
    {
      "cell_type": "code",
      "source": [
        "norms = np.linalg.norm(item_vec, axis=1)\n",
        "\n",
        "most_polarized = np.argmax(norms)\n",
        "\n",
        "least_polarized = np.argmin(norms)\n",
        "print(type(most_polarized))\n",
        "most_mv = movies.iloc[list(np.where(movies[\"movieId\"].values == id_to_movie[most_polarized])[0])][\"title\"].values[0]\n",
        "print(\"The movie the most polarized is : \",most_mv)\n",
        "least_mv = movies.iloc[list(np.where(movies[\"movieId\"].values == id_to_movie[least_polarized])[0])][\"title\"].values[0]\n",
        "print(\"The movie the least polarized is : \",least_mv)"
      ],
      "metadata": {
        "colab": {
          "base_uri": "https://localhost:8080/"
        },
        "id": "q-so1M-GKyRA",
        "outputId": "467ad869-b247-4acb-a8d4-0c09378bc36a"
      },
      "execution_count": null,
      "outputs": [
        {
          "output_type": "stream",
          "name": "stdout",
          "text": [
            "<class 'numpy.int64'>\n",
            "The movie the most polarized is :  Room, The (2003)\n",
            "The movie the least polarized is :  Nyrölä 3 (2004)\n"
          ]
        }
      ]
    },
    {
      "cell_type": "code",
      "source": [
        "most_polarized = (-norms).argsort()[:4]\n",
        "\n",
        "movies_vec = item_vec[most_polarized,:]\n",
        "idx = [id_to_movie[n] for n in most_polarized]\n",
        "# movies.iloc[idx]"
      ],
      "metadata": {
        "id": "Hgyhy1XaUa22"
      },
      "execution_count": null,
      "outputs": []
    },
    {
      "cell_type": "code",
      "source": [
        "pca = PCA(n_components=2)\n",
        "movies_vec = pca.fit_transform(movies_vec)\n",
        "for i in range(4):\n",
        "  plt.arrow(0,0, movies_vec[i,0], movies_vec[i,1], head_width=0.04, color=\"blue\")\n",
        "# plt.scatter(movies_vec[:,0], movies_vec[:,1])"
      ],
      "metadata": {
        "id": "OhujNVz6NgeH",
        "colab": {
          "base_uri": "https://localhost:8080/",
          "height": 430
        },
        "outputId": "42a4712c-ae8d-45ed-83a2-634f390dfa71"
      },
      "execution_count": null,
      "outputs": [
        {
          "output_type": "display_data",
          "data": {
            "text/plain": [
              "<Figure size 640x480 with 1 Axes>"
            ],
            "image/png": "[encoded data removed]"
          },
          "metadata": {}
        }
      ]
    },
    {
      "cell_type": "code",
      "source": [
        "from sklearn.decomposition import PCA\n",
        "#\n",
        "pca = PCA(n_components=2)\n",
        "projected_features = pca.fit_transform(item_vec)\n",
        "# normalization of PC\n",
        "X = np.vstack((projected_features[:500,[0,1]], projected_features[most_polarized,[0,1]].reshape(1,2), projected_features[least_polarized,[0,1]].reshape(1,2)))\n",
        "\n",
        "plt.scatter(X[:,0], X[:,1], color=\"orange\", s=10)\n",
        "plt.plot([0, X[-2,0]], [0, X[-2,1]], \"--b\",)\n",
        "plt.text(X[-2,0]-0.02, X[-2,1],f\"{most_mv}\", fontsize=6)\n",
        "#\n",
        "plt.plot([0, X[-1,0]], [0, X[-1,1]], \"--k\")\n",
        "plt.text(X[-1,0], X[-1,1], f\"{least_mv}\", fontsize=6)\n",
        "#axes\n",
        "# plt.axvline(x=0, color='k')\n",
        "# plt.axhline(y=0, color='k')\n",
        "plt.xlabel(\"PC1\")\n",
        "plt.ylabel(\"PC2\")\n",
        "plt.grid(\"True\")\n",
        "plt.savefig(\"polarizing_movies.pdf\", format=\"pdf\", bbox_inches=\"tight\")"
      ],
      "metadata": {
        "colab": {
          "base_uri": "https://localhost:8080/",
          "height": 449
        },
        "id": "h3bdz7iFO5Le",
        "outputId": "92ec02c7-608e-4aff-ac4b-a14cd25ccdb5"
      },
      "execution_count": null,
      "outputs": [
        {
          "output_type": "display_data",
          "data": {
            "text/plain": [
              "<Figure size 640x480 with 1 Axes>"
            ],
            "image/png": "[encoded data removed]"
          },
          "metadata": {}
        }
      ]
    },
    {
      "cell_type": "code",
      "source": [],
      "metadata": {
        "id": "e1fXnNAdQFeY"
      },
      "execution_count": null,
      "outputs": []
    }
  ],
  "metadata": {
    "colab": {
      "provenance": []
    },
    "kaggle": {
      "accelerator": "none",
      "dataSources": [],
      "dockerImageVersionId": 30698,
      "isGpuEnabled": false,
      "isInternetEnabled": true,
      "language": "python",
      "sourceType": "notebook"
    },
    "kernelspec": {
      "display_name": "Python 3",
      "name": "python3"
    },
    "language_info": {
      "codemirror_mode": {
        "name": "ipython",
        "version": 3
      },
      "file_extension": ".py",
      "mimetype": "text/x-python",
      "name": "python",
      "nbconvert_exporter": "python",
      "pygments_lexer": "ipython3",
      "version": "3.11.2"
    }
  },
  "nbformat": 4,
  "nbformat_minor": 0
}